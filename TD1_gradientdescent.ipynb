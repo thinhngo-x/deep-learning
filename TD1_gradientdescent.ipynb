{
  "nbformat": 4,
  "nbformat_minor": 0,
  "metadata": {
    "colab": {
      "name": "TD1_gradientdescent.ipynb",
      "provenance": []
    },
    "kernelspec": {
      "name": "python3",
      "display_name": "Python 3"
    },
    "accelerator": "GPU",
    "widgets": {
      "application/vnd.jupyter.widget-state+json": {
        "71751cb25c494693901574b670eec89d": {
          "model_module": "@jupyter-widgets/controls",
          "model_name": "HBoxModel",
          "state": {
            "_view_name": "HBoxView",
            "_dom_classes": [],
            "_model_name": "HBoxModel",
            "_view_module": "@jupyter-widgets/controls",
            "_model_module_version": "1.5.0",
            "_view_count": null,
            "_view_module_version": "1.5.0",
            "box_style": "",
            "layout": "IPY_MODEL_9facd9be3b7d4c59a9610811e39d75ab",
            "_model_module": "@jupyter-widgets/controls",
            "children": [
              "IPY_MODEL_d87de8adbc704948b5eca60d0eb13375",
              "IPY_MODEL_a8e569fbebe44be885c9eb1b2d69b070"
            ]
          }
        },
        "9facd9be3b7d4c59a9610811e39d75ab": {
          "model_module": "@jupyter-widgets/base",
          "model_name": "LayoutModel",
          "state": {
            "_view_name": "LayoutView",
            "grid_template_rows": null,
            "right": null,
            "justify_content": null,
            "_view_module": "@jupyter-widgets/base",
            "overflow": null,
            "_model_module_version": "1.2.0",
            "_view_count": null,
            "flex_flow": null,
            "width": null,
            "min_width": null,
            "border": null,
            "align_items": null,
            "bottom": null,
            "_model_module": "@jupyter-widgets/base",
            "top": null,
            "grid_column": null,
            "overflow_y": null,
            "overflow_x": null,
            "grid_auto_flow": null,
            "grid_area": null,
            "grid_template_columns": null,
            "flex": null,
            "_model_name": "LayoutModel",
            "justify_items": null,
            "grid_row": null,
            "max_height": null,
            "align_content": null,
            "visibility": null,
            "align_self": null,
            "height": null,
            "min_height": null,
            "padding": null,
            "grid_auto_rows": null,
            "grid_gap": null,
            "max_width": null,
            "order": null,
            "_view_module_version": "1.2.0",
            "grid_template_areas": null,
            "object_position": null,
            "object_fit": null,
            "grid_auto_columns": null,
            "margin": null,
            "display": null,
            "left": null
          }
        },
        "d87de8adbc704948b5eca60d0eb13375": {
          "model_module": "@jupyter-widgets/controls",
          "model_name": "IntProgressModel",
          "state": {
            "_view_name": "ProgressView",
            "style": "IPY_MODEL_58254f8268734a38835945adbdd17489",
            "_dom_classes": [],
            "description": "",
            "_model_name": "IntProgressModel",
            "bar_style": "success",
            "max": 1,
            "_view_module": "@jupyter-widgets/controls",
            "_model_module_version": "1.5.0",
            "value": 1,
            "_view_count": null,
            "_view_module_version": "1.5.0",
            "orientation": "horizontal",
            "min": 0,
            "description_tooltip": null,
            "_model_module": "@jupyter-widgets/controls",
            "layout": "IPY_MODEL_7b4b936cfa8543a5a5b80016cce0afdc"
          }
        },
        "a8e569fbebe44be885c9eb1b2d69b070": {
          "model_module": "@jupyter-widgets/controls",
          "model_name": "HTMLModel",
          "state": {
            "_view_name": "HTMLView",
            "style": "IPY_MODEL_4ec1f21e049a40eb8da199d75278037c",
            "_dom_classes": [],
            "description": "",
            "_model_name": "HTMLModel",
            "placeholder": "​",
            "_view_module": "@jupyter-widgets/controls",
            "_model_module_version": "1.5.0",
            "value": "26427392it [00:02, 10389783.41it/s]",
            "_view_count": null,
            "_view_module_version": "1.5.0",
            "description_tooltip": null,
            "_model_module": "@jupyter-widgets/controls",
            "layout": "IPY_MODEL_285eb22b33944afca6cbba9cb7d034ce"
          }
        },
        "58254f8268734a38835945adbdd17489": {
          "model_module": "@jupyter-widgets/controls",
          "model_name": "ProgressStyleModel",
          "state": {
            "_view_name": "StyleView",
            "_model_name": "ProgressStyleModel",
            "description_width": "",
            "_view_module": "@jupyter-widgets/base",
            "_model_module_version": "1.5.0",
            "_view_count": null,
            "_view_module_version": "1.2.0",
            "bar_color": null,
            "_model_module": "@jupyter-widgets/controls"
          }
        },
        "7b4b936cfa8543a5a5b80016cce0afdc": {
          "model_module": "@jupyter-widgets/base",
          "model_name": "LayoutModel",
          "state": {
            "_view_name": "LayoutView",
            "grid_template_rows": null,
            "right": null,
            "justify_content": null,
            "_view_module": "@jupyter-widgets/base",
            "overflow": null,
            "_model_module_version": "1.2.0",
            "_view_count": null,
            "flex_flow": null,
            "width": null,
            "min_width": null,
            "border": null,
            "align_items": null,
            "bottom": null,
            "_model_module": "@jupyter-widgets/base",
            "top": null,
            "grid_column": null,
            "overflow_y": null,
            "overflow_x": null,
            "grid_auto_flow": null,
            "grid_area": null,
            "grid_template_columns": null,
            "flex": null,
            "_model_name": "LayoutModel",
            "justify_items": null,
            "grid_row": null,
            "max_height": null,
            "align_content": null,
            "visibility": null,
            "align_self": null,
            "height": null,
            "min_height": null,
            "padding": null,
            "grid_auto_rows": null,
            "grid_gap": null,
            "max_width": null,
            "order": null,
            "_view_module_version": "1.2.0",
            "grid_template_areas": null,
            "object_position": null,
            "object_fit": null,
            "grid_auto_columns": null,
            "margin": null,
            "display": null,
            "left": null
          }
        },
        "4ec1f21e049a40eb8da199d75278037c": {
          "model_module": "@jupyter-widgets/controls",
          "model_name": "DescriptionStyleModel",
          "state": {
            "_view_name": "StyleView",
            "_model_name": "DescriptionStyleModel",
            "description_width": "",
            "_view_module": "@jupyter-widgets/base",
            "_model_module_version": "1.5.0",
            "_view_count": null,
            "_view_module_version": "1.2.0",
            "_model_module": "@jupyter-widgets/controls"
          }
        },
        "285eb22b33944afca6cbba9cb7d034ce": {
          "model_module": "@jupyter-widgets/base",
          "model_name": "LayoutModel",
          "state": {
            "_view_name": "LayoutView",
            "grid_template_rows": null,
            "right": null,
            "justify_content": null,
            "_view_module": "@jupyter-widgets/base",
            "overflow": null,
            "_model_module_version": "1.2.0",
            "_view_count": null,
            "flex_flow": null,
            "width": null,
            "min_width": null,
            "border": null,
            "align_items": null,
            "bottom": null,
            "_model_module": "@jupyter-widgets/base",
            "top": null,
            "grid_column": null,
            "overflow_y": null,
            "overflow_x": null,
            "grid_auto_flow": null,
            "grid_area": null,
            "grid_template_columns": null,
            "flex": null,
            "_model_name": "LayoutModel",
            "justify_items": null,
            "grid_row": null,
            "max_height": null,
            "align_content": null,
            "visibility": null,
            "align_self": null,
            "height": null,
            "min_height": null,
            "padding": null,
            "grid_auto_rows": null,
            "grid_gap": null,
            "max_width": null,
            "order": null,
            "_view_module_version": "1.2.0",
            "grid_template_areas": null,
            "object_position": null,
            "object_fit": null,
            "grid_auto_columns": null,
            "margin": null,
            "display": null,
            "left": null
          }
        },
        "d4adb50e821e45efaa865dfe9741419e": {
          "model_module": "@jupyter-widgets/controls",
          "model_name": "HBoxModel",
          "state": {
            "_view_name": "HBoxView",
            "_dom_classes": [],
            "_model_name": "HBoxModel",
            "_view_module": "@jupyter-widgets/controls",
            "_model_module_version": "1.5.0",
            "_view_count": null,
            "_view_module_version": "1.5.0",
            "box_style": "",
            "layout": "IPY_MODEL_0bef7400c834440582a010cf924077d8",
            "_model_module": "@jupyter-widgets/controls",
            "children": [
              "IPY_MODEL_f9593a41f7a14e338b717ea0fcec63b3",
              "IPY_MODEL_db4b8013baa14d7ba209243e9e37b3be"
            ]
          }
        },
        "0bef7400c834440582a010cf924077d8": {
          "model_module": "@jupyter-widgets/base",
          "model_name": "LayoutModel",
          "state": {
            "_view_name": "LayoutView",
            "grid_template_rows": null,
            "right": null,
            "justify_content": null,
            "_view_module": "@jupyter-widgets/base",
            "overflow": null,
            "_model_module_version": "1.2.0",
            "_view_count": null,
            "flex_flow": null,
            "width": null,
            "min_width": null,
            "border": null,
            "align_items": null,
            "bottom": null,
            "_model_module": "@jupyter-widgets/base",
            "top": null,
            "grid_column": null,
            "overflow_y": null,
            "overflow_x": null,
            "grid_auto_flow": null,
            "grid_area": null,
            "grid_template_columns": null,
            "flex": null,
            "_model_name": "LayoutModel",
            "justify_items": null,
            "grid_row": null,
            "max_height": null,
            "align_content": null,
            "visibility": null,
            "align_self": null,
            "height": null,
            "min_height": null,
            "padding": null,
            "grid_auto_rows": null,
            "grid_gap": null,
            "max_width": null,
            "order": null,
            "_view_module_version": "1.2.0",
            "grid_template_areas": null,
            "object_position": null,
            "object_fit": null,
            "grid_auto_columns": null,
            "margin": null,
            "display": null,
            "left": null
          }
        },
        "f9593a41f7a14e338b717ea0fcec63b3": {
          "model_module": "@jupyter-widgets/controls",
          "model_name": "IntProgressModel",
          "state": {
            "_view_name": "ProgressView",
            "style": "IPY_MODEL_4e7bd75b534e400180368ebd71888030",
            "_dom_classes": [],
            "description": "",
            "_model_name": "IntProgressModel",
            "bar_style": "success",
            "max": 1,
            "_view_module": "@jupyter-widgets/controls",
            "_model_module_version": "1.5.0",
            "value": 1,
            "_view_count": null,
            "_view_module_version": "1.5.0",
            "orientation": "horizontal",
            "min": 0,
            "description_tooltip": null,
            "_model_module": "@jupyter-widgets/controls",
            "layout": "IPY_MODEL_bff347dc344b44abb586eeb15294688c"
          }
        },
        "db4b8013baa14d7ba209243e9e37b3be": {
          "model_module": "@jupyter-widgets/controls",
          "model_name": "HTMLModel",
          "state": {
            "_view_name": "HTMLView",
            "style": "IPY_MODEL_e3eebf71c64f4a91b9f973188c86ab92",
            "_dom_classes": [],
            "description": "",
            "_model_name": "HTMLModel",
            "placeholder": "​",
            "_view_module": "@jupyter-widgets/controls",
            "_model_module_version": "1.5.0",
            "value": "32768it [00:00, 68020.30it/s]",
            "_view_count": null,
            "_view_module_version": "1.5.0",
            "description_tooltip": null,
            "_model_module": "@jupyter-widgets/controls",
            "layout": "IPY_MODEL_221df14d757e4a57b9dc43e8eeaf6bb0"
          }
        },
        "4e7bd75b534e400180368ebd71888030": {
          "model_module": "@jupyter-widgets/controls",
          "model_name": "ProgressStyleModel",
          "state": {
            "_view_name": "StyleView",
            "_model_name": "ProgressStyleModel",
            "description_width": "",
            "_view_module": "@jupyter-widgets/base",
            "_model_module_version": "1.5.0",
            "_view_count": null,
            "_view_module_version": "1.2.0",
            "bar_color": null,
            "_model_module": "@jupyter-widgets/controls"
          }
        },
        "bff347dc344b44abb586eeb15294688c": {
          "model_module": "@jupyter-widgets/base",
          "model_name": "LayoutModel",
          "state": {
            "_view_name": "LayoutView",
            "grid_template_rows": null,
            "right": null,
            "justify_content": null,
            "_view_module": "@jupyter-widgets/base",
            "overflow": null,
            "_model_module_version": "1.2.0",
            "_view_count": null,
            "flex_flow": null,
            "width": null,
            "min_width": null,
            "border": null,
            "align_items": null,
            "bottom": null,
            "_model_module": "@jupyter-widgets/base",
            "top": null,
            "grid_column": null,
            "overflow_y": null,
            "overflow_x": null,
            "grid_auto_flow": null,
            "grid_area": null,
            "grid_template_columns": null,
            "flex": null,
            "_model_name": "LayoutModel",
            "justify_items": null,
            "grid_row": null,
            "max_height": null,
            "align_content": null,
            "visibility": null,
            "align_self": null,
            "height": null,
            "min_height": null,
            "padding": null,
            "grid_auto_rows": null,
            "grid_gap": null,
            "max_width": null,
            "order": null,
            "_view_module_version": "1.2.0",
            "grid_template_areas": null,
            "object_position": null,
            "object_fit": null,
            "grid_auto_columns": null,
            "margin": null,
            "display": null,
            "left": null
          }
        },
        "e3eebf71c64f4a91b9f973188c86ab92": {
          "model_module": "@jupyter-widgets/controls",
          "model_name": "DescriptionStyleModel",
          "state": {
            "_view_name": "StyleView",
            "_model_name": "DescriptionStyleModel",
            "description_width": "",
            "_view_module": "@jupyter-widgets/base",
            "_model_module_version": "1.5.0",
            "_view_count": null,
            "_view_module_version": "1.2.0",
            "_model_module": "@jupyter-widgets/controls"
          }
        },
        "221df14d757e4a57b9dc43e8eeaf6bb0": {
          "model_module": "@jupyter-widgets/base",
          "model_name": "LayoutModel",
          "state": {
            "_view_name": "LayoutView",
            "grid_template_rows": null,
            "right": null,
            "justify_content": null,
            "_view_module": "@jupyter-widgets/base",
            "overflow": null,
            "_model_module_version": "1.2.0",
            "_view_count": null,
            "flex_flow": null,
            "width": null,
            "min_width": null,
            "border": null,
            "align_items": null,
            "bottom": null,
            "_model_module": "@jupyter-widgets/base",
            "top": null,
            "grid_column": null,
            "overflow_y": null,
            "overflow_x": null,
            "grid_auto_flow": null,
            "grid_area": null,
            "grid_template_columns": null,
            "flex": null,
            "_model_name": "LayoutModel",
            "justify_items": null,
            "grid_row": null,
            "max_height": null,
            "align_content": null,
            "visibility": null,
            "align_self": null,
            "height": null,
            "min_height": null,
            "padding": null,
            "grid_auto_rows": null,
            "grid_gap": null,
            "max_width": null,
            "order": null,
            "_view_module_version": "1.2.0",
            "grid_template_areas": null,
            "object_position": null,
            "object_fit": null,
            "grid_auto_columns": null,
            "margin": null,
            "display": null,
            "left": null
          }
        },
        "b889233e32e142be9f53cb973f386109": {
          "model_module": "@jupyter-widgets/controls",
          "model_name": "HBoxModel",
          "state": {
            "_view_name": "HBoxView",
            "_dom_classes": [],
            "_model_name": "HBoxModel",
            "_view_module": "@jupyter-widgets/controls",
            "_model_module_version": "1.5.0",
            "_view_count": null,
            "_view_module_version": "1.5.0",
            "box_style": "",
            "layout": "IPY_MODEL_5a67247a80b9453eb917d1045b491576",
            "_model_module": "@jupyter-widgets/controls",
            "children": [
              "IPY_MODEL_5cfbe91a69184759b17ae9942af15743",
              "IPY_MODEL_23ed9dd3b20d401e8577013025ff163c"
            ]
          }
        },
        "5a67247a80b9453eb917d1045b491576": {
          "model_module": "@jupyter-widgets/base",
          "model_name": "LayoutModel",
          "state": {
            "_view_name": "LayoutView",
            "grid_template_rows": null,
            "right": null,
            "justify_content": null,
            "_view_module": "@jupyter-widgets/base",
            "overflow": null,
            "_model_module_version": "1.2.0",
            "_view_count": null,
            "flex_flow": null,
            "width": null,
            "min_width": null,
            "border": null,
            "align_items": null,
            "bottom": null,
            "_model_module": "@jupyter-widgets/base",
            "top": null,
            "grid_column": null,
            "overflow_y": null,
            "overflow_x": null,
            "grid_auto_flow": null,
            "grid_area": null,
            "grid_template_columns": null,
            "flex": null,
            "_model_name": "LayoutModel",
            "justify_items": null,
            "grid_row": null,
            "max_height": null,
            "align_content": null,
            "visibility": null,
            "align_self": null,
            "height": null,
            "min_height": null,
            "padding": null,
            "grid_auto_rows": null,
            "grid_gap": null,
            "max_width": null,
            "order": null,
            "_view_module_version": "1.2.0",
            "grid_template_areas": null,
            "object_position": null,
            "object_fit": null,
            "grid_auto_columns": null,
            "margin": null,
            "display": null,
            "left": null
          }
        },
        "5cfbe91a69184759b17ae9942af15743": {
          "model_module": "@jupyter-widgets/controls",
          "model_name": "IntProgressModel",
          "state": {
            "_view_name": "ProgressView",
            "style": "IPY_MODEL_4e12667ff3b04bc3a9693c32545dc192",
            "_dom_classes": [],
            "description": "",
            "_model_name": "IntProgressModel",
            "bar_style": "success",
            "max": 1,
            "_view_module": "@jupyter-widgets/controls",
            "_model_module_version": "1.5.0",
            "value": 1,
            "_view_count": null,
            "_view_module_version": "1.5.0",
            "orientation": "horizontal",
            "min": 0,
            "description_tooltip": null,
            "_model_module": "@jupyter-widgets/controls",
            "layout": "IPY_MODEL_f03f70341f8f46819adaab3e743c2b70"
          }
        },
        "23ed9dd3b20d401e8577013025ff163c": {
          "model_module": "@jupyter-widgets/controls",
          "model_name": "HTMLModel",
          "state": {
            "_view_name": "HTMLView",
            "style": "IPY_MODEL_6cc9ba174e3740bbbd87f85034e1c859",
            "_dom_classes": [],
            "description": "",
            "_model_name": "HTMLModel",
            "placeholder": "​",
            "_view_module": "@jupyter-widgets/controls",
            "_model_module_version": "1.5.0",
            "value": "4423680it [00:01, 3034370.91it/s]",
            "_view_count": null,
            "_view_module_version": "1.5.0",
            "description_tooltip": null,
            "_model_module": "@jupyter-widgets/controls",
            "layout": "IPY_MODEL_a8eae03ea0d940929338b3382e736bb6"
          }
        },
        "4e12667ff3b04bc3a9693c32545dc192": {
          "model_module": "@jupyter-widgets/controls",
          "model_name": "ProgressStyleModel",
          "state": {
            "_view_name": "StyleView",
            "_model_name": "ProgressStyleModel",
            "description_width": "",
            "_view_module": "@jupyter-widgets/base",
            "_model_module_version": "1.5.0",
            "_view_count": null,
            "_view_module_version": "1.2.0",
            "bar_color": null,
            "_model_module": "@jupyter-widgets/controls"
          }
        },
        "f03f70341f8f46819adaab3e743c2b70": {
          "model_module": "@jupyter-widgets/base",
          "model_name": "LayoutModel",
          "state": {
            "_view_name": "LayoutView",
            "grid_template_rows": null,
            "right": null,
            "justify_content": null,
            "_view_module": "@jupyter-widgets/base",
            "overflow": null,
            "_model_module_version": "1.2.0",
            "_view_count": null,
            "flex_flow": null,
            "width": null,
            "min_width": null,
            "border": null,
            "align_items": null,
            "bottom": null,
            "_model_module": "@jupyter-widgets/base",
            "top": null,
            "grid_column": null,
            "overflow_y": null,
            "overflow_x": null,
            "grid_auto_flow": null,
            "grid_area": null,
            "grid_template_columns": null,
            "flex": null,
            "_model_name": "LayoutModel",
            "justify_items": null,
            "grid_row": null,
            "max_height": null,
            "align_content": null,
            "visibility": null,
            "align_self": null,
            "height": null,
            "min_height": null,
            "padding": null,
            "grid_auto_rows": null,
            "grid_gap": null,
            "max_width": null,
            "order": null,
            "_view_module_version": "1.2.0",
            "grid_template_areas": null,
            "object_position": null,
            "object_fit": null,
            "grid_auto_columns": null,
            "margin": null,
            "display": null,
            "left": null
          }
        },
        "6cc9ba174e3740bbbd87f85034e1c859": {
          "model_module": "@jupyter-widgets/controls",
          "model_name": "DescriptionStyleModel",
          "state": {
            "_view_name": "StyleView",
            "_model_name": "DescriptionStyleModel",
            "description_width": "",
            "_view_module": "@jupyter-widgets/base",
            "_model_module_version": "1.5.0",
            "_view_count": null,
            "_view_module_version": "1.2.0",
            "_model_module": "@jupyter-widgets/controls"
          }
        },
        "a8eae03ea0d940929338b3382e736bb6": {
          "model_module": "@jupyter-widgets/base",
          "model_name": "LayoutModel",
          "state": {
            "_view_name": "LayoutView",
            "grid_template_rows": null,
            "right": null,
            "justify_content": null,
            "_view_module": "@jupyter-widgets/base",
            "overflow": null,
            "_model_module_version": "1.2.0",
            "_view_count": null,
            "flex_flow": null,
            "width": null,
            "min_width": null,
            "border": null,
            "align_items": null,
            "bottom": null,
            "_model_module": "@jupyter-widgets/base",
            "top": null,
            "grid_column": null,
            "overflow_y": null,
            "overflow_x": null,
            "grid_auto_flow": null,
            "grid_area": null,
            "grid_template_columns": null,
            "flex": null,
            "_model_name": "LayoutModel",
            "justify_items": null,
            "grid_row": null,
            "max_height": null,
            "align_content": null,
            "visibility": null,
            "align_self": null,
            "height": null,
            "min_height": null,
            "padding": null,
            "grid_auto_rows": null,
            "grid_gap": null,
            "max_width": null,
            "order": null,
            "_view_module_version": "1.2.0",
            "grid_template_areas": null,
            "object_position": null,
            "object_fit": null,
            "grid_auto_columns": null,
            "margin": null,
            "display": null,
            "left": null
          }
        },
        "ac3d3b609d1e4e3f881c0e058faa037d": {
          "model_module": "@jupyter-widgets/controls",
          "model_name": "HBoxModel",
          "state": {
            "_view_name": "HBoxView",
            "_dom_classes": [],
            "_model_name": "HBoxModel",
            "_view_module": "@jupyter-widgets/controls",
            "_model_module_version": "1.5.0",
            "_view_count": null,
            "_view_module_version": "1.5.0",
            "box_style": "",
            "layout": "IPY_MODEL_c0a9da039c494c8f90ad4dcedca3b403",
            "_model_module": "@jupyter-widgets/controls",
            "children": [
              "IPY_MODEL_e3e895d3fe97426bbb1df2d752bb8ab3",
              "IPY_MODEL_eb1750a28fc649e9a4b375d57941732f"
            ]
          }
        },
        "c0a9da039c494c8f90ad4dcedca3b403": {
          "model_module": "@jupyter-widgets/base",
          "model_name": "LayoutModel",
          "state": {
            "_view_name": "LayoutView",
            "grid_template_rows": null,
            "right": null,
            "justify_content": null,
            "_view_module": "@jupyter-widgets/base",
            "overflow": null,
            "_model_module_version": "1.2.0",
            "_view_count": null,
            "flex_flow": null,
            "width": null,
            "min_width": null,
            "border": null,
            "align_items": null,
            "bottom": null,
            "_model_module": "@jupyter-widgets/base",
            "top": null,
            "grid_column": null,
            "overflow_y": null,
            "overflow_x": null,
            "grid_auto_flow": null,
            "grid_area": null,
            "grid_template_columns": null,
            "flex": null,
            "_model_name": "LayoutModel",
            "justify_items": null,
            "grid_row": null,
            "max_height": null,
            "align_content": null,
            "visibility": null,
            "align_self": null,
            "height": null,
            "min_height": null,
            "padding": null,
            "grid_auto_rows": null,
            "grid_gap": null,
            "max_width": null,
            "order": null,
            "_view_module_version": "1.2.0",
            "grid_template_areas": null,
            "object_position": null,
            "object_fit": null,
            "grid_auto_columns": null,
            "margin": null,
            "display": null,
            "left": null
          }
        },
        "e3e895d3fe97426bbb1df2d752bb8ab3": {
          "model_module": "@jupyter-widgets/controls",
          "model_name": "IntProgressModel",
          "state": {
            "_view_name": "ProgressView",
            "style": "IPY_MODEL_42281acbe4c842e7b67c3228c585c937",
            "_dom_classes": [],
            "description": "",
            "_model_name": "IntProgressModel",
            "bar_style": "success",
            "max": 1,
            "_view_module": "@jupyter-widgets/controls",
            "_model_module_version": "1.5.0",
            "value": 1,
            "_view_count": null,
            "_view_module_version": "1.5.0",
            "orientation": "horizontal",
            "min": 0,
            "description_tooltip": null,
            "_model_module": "@jupyter-widgets/controls",
            "layout": "IPY_MODEL_c04186d8b549431ca320da699b87ab54"
          }
        },
        "eb1750a28fc649e9a4b375d57941732f": {
          "model_module": "@jupyter-widgets/controls",
          "model_name": "HTMLModel",
          "state": {
            "_view_name": "HTMLView",
            "style": "IPY_MODEL_254265356cc549d5b0c786aa7b8598ca",
            "_dom_classes": [],
            "description": "",
            "_model_name": "HTMLModel",
            "placeholder": "​",
            "_view_module": "@jupyter-widgets/controls",
            "_model_module_version": "1.5.0",
            "value": "8192it [00:00, 23671.62it/s]",
            "_view_count": null,
            "_view_module_version": "1.5.0",
            "description_tooltip": null,
            "_model_module": "@jupyter-widgets/controls",
            "layout": "IPY_MODEL_885192fd622b48d7a66ce035bfa030cd"
          }
        },
        "42281acbe4c842e7b67c3228c585c937": {
          "model_module": "@jupyter-widgets/controls",
          "model_name": "ProgressStyleModel",
          "state": {
            "_view_name": "StyleView",
            "_model_name": "ProgressStyleModel",
            "description_width": "",
            "_view_module": "@jupyter-widgets/base",
            "_model_module_version": "1.5.0",
            "_view_count": null,
            "_view_module_version": "1.2.0",
            "bar_color": null,
            "_model_module": "@jupyter-widgets/controls"
          }
        },
        "c04186d8b549431ca320da699b87ab54": {
          "model_module": "@jupyter-widgets/base",
          "model_name": "LayoutModel",
          "state": {
            "_view_name": "LayoutView",
            "grid_template_rows": null,
            "right": null,
            "justify_content": null,
            "_view_module": "@jupyter-widgets/base",
            "overflow": null,
            "_model_module_version": "1.2.0",
            "_view_count": null,
            "flex_flow": null,
            "width": null,
            "min_width": null,
            "border": null,
            "align_items": null,
            "bottom": null,
            "_model_module": "@jupyter-widgets/base",
            "top": null,
            "grid_column": null,
            "overflow_y": null,
            "overflow_x": null,
            "grid_auto_flow": null,
            "grid_area": null,
            "grid_template_columns": null,
            "flex": null,
            "_model_name": "LayoutModel",
            "justify_items": null,
            "grid_row": null,
            "max_height": null,
            "align_content": null,
            "visibility": null,
            "align_self": null,
            "height": null,
            "min_height": null,
            "padding": null,
            "grid_auto_rows": null,
            "grid_gap": null,
            "max_width": null,
            "order": null,
            "_view_module_version": "1.2.0",
            "grid_template_areas": null,
            "object_position": null,
            "object_fit": null,
            "grid_auto_columns": null,
            "margin": null,
            "display": null,
            "left": null
          }
        },
        "254265356cc549d5b0c786aa7b8598ca": {
          "model_module": "@jupyter-widgets/controls",
          "model_name": "DescriptionStyleModel",
          "state": {
            "_view_name": "StyleView",
            "_model_name": "DescriptionStyleModel",
            "description_width": "",
            "_view_module": "@jupyter-widgets/base",
            "_model_module_version": "1.5.0",
            "_view_count": null,
            "_view_module_version": "1.2.0",
            "_model_module": "@jupyter-widgets/controls"
          }
        },
        "885192fd622b48d7a66ce035bfa030cd": {
          "model_module": "@jupyter-widgets/base",
          "model_name": "LayoutModel",
          "state": {
            "_view_name": "LayoutView",
            "grid_template_rows": null,
            "right": null,
            "justify_content": null,
            "_view_module": "@jupyter-widgets/base",
            "overflow": null,
            "_model_module_version": "1.2.0",
            "_view_count": null,
            "flex_flow": null,
            "width": null,
            "min_width": null,
            "border": null,
            "align_items": null,
            "bottom": null,
            "_model_module": "@jupyter-widgets/base",
            "top": null,
            "grid_column": null,
            "overflow_y": null,
            "overflow_x": null,
            "grid_auto_flow": null,
            "grid_area": null,
            "grid_template_columns": null,
            "flex": null,
            "_model_name": "LayoutModel",
            "justify_items": null,
            "grid_row": null,
            "max_height": null,
            "align_content": null,
            "visibility": null,
            "align_self": null,
            "height": null,
            "min_height": null,
            "padding": null,
            "grid_auto_rows": null,
            "grid_gap": null,
            "max_width": null,
            "order": null,
            "_view_module_version": "1.2.0",
            "grid_template_areas": null,
            "object_position": null,
            "object_fit": null,
            "grid_auto_columns": null,
            "margin": null,
            "display": null,
            "left": null
          }
        }
      }
    }
  },
  "cells": [
    {
      "cell_type": "code",
      "metadata": {
        "id": "RgtmpVy6s3tm",
        "colab_type": "code",
        "colab": {}
      },
      "source": [
        "import matplotlib.pyplot as plt\n",
        "import numpy as np\n",
        "import sympy as sp"
      ],
      "execution_count": 0,
      "outputs": []
    },
    {
      "cell_type": "code",
      "metadata": {
        "id": "QCLnwIMetNcW",
        "colab_type": "code",
        "colab": {}
      },
      "source": [
        "def gradient_descent(f,x0,eta,epsilon):\n",
        "   x = sp.symbols(\"x\")\n",
        "   df = sp.lambdify(x,sp.diff(f(x),x)) # la dérivée de f (fonctionne si f n'est pas trop compliquée)\n",
        "   result = df(x0);\n",
        "   while(result >= epsilon):\n",
        "     xn = x0 - eta*df(x0)\n",
        "     x0 = xn\n",
        "     result = df(xn)\n",
        "   return x0"
      ],
      "execution_count": 0,
      "outputs": []
    },
    {
      "cell_type": "code",
      "metadata": {
        "id": "6lytFbbXuD1t",
        "colab_type": "code",
        "outputId": "747d40a4-9a5b-40a7-e1e0-a49d1db94ae1",
        "colab": {
          "base_uri": "https://localhost:8080/",
          "height": 34
        }
      },
      "source": [
        "g = lambda x : x**2-x+1\n",
        "eta=.01\n",
        "x0=10\n",
        "epsilon=.01\n",
        "gradient_descent(g, x0, eta, epsilon)"
      ],
      "execution_count": 3,
      "outputs": [
        {
          "output_type": "execute_result",
          "data": {
            "text/plain": [
              "0.5049690791479365"
            ]
          },
          "metadata": {
            "tags": []
          },
          "execution_count": 3
        }
      ]
    },
    {
      "cell_type": "code",
      "metadata": {
        "id": "EF_l2uKwvDoP",
        "colab_type": "code",
        "outputId": "b5f00dcd-e1d9-4071-f010-dc8718ddf4a1",
        "colab": {
          "base_uri": "https://localhost:8080/",
          "height": 34
        }
      },
      "source": [
        "f = lambda x : 0.01*(x**4+2*x**3-12*x**2-2*x+6)\n",
        "gradient_descent(f, x0, eta, epsilon)"
      ],
      "execution_count": 4,
      "outputs": [
        {
          "output_type": "execute_result",
          "data": {
            "text/plain": [
              "1.8881103204483922"
            ]
          },
          "metadata": {
            "tags": []
          },
          "execution_count": 4
        }
      ]
    },
    {
      "cell_type": "code",
      "metadata": {
        "id": "oBUPeoxEvT1R",
        "colab_type": "code",
        "outputId": "fe1fb65d-65b2-45a0-a92b-a654f8552a58",
        "colab": {
          "base_uri": "https://localhost:8080/",
          "height": 34
        }
      },
      "source": [
        "eta = .2\n",
        "epsilon = .1\n",
        "x0 = 4\n",
        "gradient_descent(f, x0, eta, epsilon)"
      ],
      "execution_count": 5,
      "outputs": [
        {
          "output_type": "execute_result",
          "data": {
            "text/plain": [
              "2.0683972708749554"
            ]
          },
          "metadata": {
            "tags": []
          },
          "execution_count": 5
        }
      ]
    },
    {
      "cell_type": "markdown",
      "metadata": {
        "id": "-Mh47OSfwRSs",
        "colab_type": "text"
      },
      "source": [
        "As we can observe, the big value of $\\epsilon$ allows the gradient descent to stop before it can find the exact local minimum of function $f$"
      ]
    },
    {
      "cell_type": "code",
      "metadata": {
        "id": "dDtA_Yu0wqJB",
        "colab_type": "code",
        "colab": {
          "base_uri": "https://localhost:8080/",
          "height": 388,
          "referenced_widgets": [
            "71751cb25c494693901574b670eec89d",
            "9facd9be3b7d4c59a9610811e39d75ab",
            "d87de8adbc704948b5eca60d0eb13375",
            "a8e569fbebe44be885c9eb1b2d69b070",
            "58254f8268734a38835945adbdd17489",
            "7b4b936cfa8543a5a5b80016cce0afdc",
            "4ec1f21e049a40eb8da199d75278037c",
            "285eb22b33944afca6cbba9cb7d034ce",
            "d4adb50e821e45efaa865dfe9741419e",
            "0bef7400c834440582a010cf924077d8",
            "f9593a41f7a14e338b717ea0fcec63b3",
            "db4b8013baa14d7ba209243e9e37b3be",
            "4e7bd75b534e400180368ebd71888030",
            "bff347dc344b44abb586eeb15294688c",
            "e3eebf71c64f4a91b9f973188c86ab92",
            "221df14d757e4a57b9dc43e8eeaf6bb0",
            "b889233e32e142be9f53cb973f386109",
            "5a67247a80b9453eb917d1045b491576",
            "5cfbe91a69184759b17ae9942af15743",
            "23ed9dd3b20d401e8577013025ff163c",
            "4e12667ff3b04bc3a9693c32545dc192",
            "f03f70341f8f46819adaab3e743c2b70",
            "6cc9ba174e3740bbbd87f85034e1c859",
            "a8eae03ea0d940929338b3382e736bb6",
            "ac3d3b609d1e4e3f881c0e058faa037d",
            "c0a9da039c494c8f90ad4dcedca3b403",
            "e3e895d3fe97426bbb1df2d752bb8ab3",
            "eb1750a28fc649e9a4b375d57941732f",
            "42281acbe4c842e7b67c3228c585c937",
            "c04186d8b549431ca320da699b87ab54",
            "254265356cc549d5b0c786aa7b8598ca",
            "885192fd622b48d7a66ce035bfa030cd"
          ]
        },
        "outputId": "274ff01d-0696-40b1-a43c-cc3c08fc721c"
      },
      "source": [
        "from torchvision import datasets\n",
        "import matplotlib.pyplot as plt\n",
        "\n",
        "training_data = datasets.FashionMNIST(\".\",download=True,train=True)\n",
        "test_data = datasets.FashionMNIST(\".\",download=True,train=False)"
      ],
      "execution_count": 6,
      "outputs": [
        {
          "output_type": "stream",
          "text": [
            "Downloading http://fashion-mnist.s3-website.eu-central-1.amazonaws.com/train-images-idx3-ubyte.gz to ./FashionMNIST/raw/train-images-idx3-ubyte.gz\n"
          ],
          "name": "stdout"
        },
        {
          "output_type": "display_data",
          "data": {
            "application/vnd.jupyter.widget-view+json": {
              "model_id": "71751cb25c494693901574b670eec89d",
              "version_minor": 0,
              "version_major": 2
            },
            "text/plain": [
              "HBox(children=(IntProgress(value=1, bar_style='info', max=1), HTML(value='')))"
            ]
          },
          "metadata": {
            "tags": []
          }
        },
        {
          "output_type": "stream",
          "text": [
            "\n",
            "Extracting ./FashionMNIST/raw/train-images-idx3-ubyte.gz to ./FashionMNIST/raw\n",
            "Downloading http://fashion-mnist.s3-website.eu-central-1.amazonaws.com/train-labels-idx1-ubyte.gz to ./FashionMNIST/raw/train-labels-idx1-ubyte.gz\n"
          ],
          "name": "stdout"
        },
        {
          "output_type": "display_data",
          "data": {
            "application/vnd.jupyter.widget-view+json": {
              "model_id": "d4adb50e821e45efaa865dfe9741419e",
              "version_minor": 0,
              "version_major": 2
            },
            "text/plain": [
              "HBox(children=(IntProgress(value=1, bar_style='info', max=1), HTML(value='')))"
            ]
          },
          "metadata": {
            "tags": []
          }
        },
        {
          "output_type": "stream",
          "text": [
            "\n",
            "Extracting ./FashionMNIST/raw/train-labels-idx1-ubyte.gz to ./FashionMNIST/raw\n",
            "Downloading http://fashion-mnist.s3-website.eu-central-1.amazonaws.com/t10k-images-idx3-ubyte.gz to ./FashionMNIST/raw/t10k-images-idx3-ubyte.gz\n"
          ],
          "name": "stdout"
        },
        {
          "output_type": "display_data",
          "data": {
            "application/vnd.jupyter.widget-view+json": {
              "model_id": "b889233e32e142be9f53cb973f386109",
              "version_minor": 0,
              "version_major": 2
            },
            "text/plain": [
              "HBox(children=(IntProgress(value=1, bar_style='info', max=1), HTML(value='')))"
            ]
          },
          "metadata": {
            "tags": []
          }
        },
        {
          "output_type": "stream",
          "text": [
            "\n",
            "Extracting ./FashionMNIST/raw/t10k-images-idx3-ubyte.gz to ./FashionMNIST/raw\n",
            "Downloading http://fashion-mnist.s3-website.eu-central-1.amazonaws.com/t10k-labels-idx1-ubyte.gz to ./FashionMNIST/raw/t10k-labels-idx1-ubyte.gz\n"
          ],
          "name": "stdout"
        },
        {
          "output_type": "display_data",
          "data": {
            "application/vnd.jupyter.widget-view+json": {
              "model_id": "ac3d3b609d1e4e3f881c0e058faa037d",
              "version_minor": 0,
              "version_major": 2
            },
            "text/plain": [
              "HBox(children=(IntProgress(value=1, bar_style='info', max=1), HTML(value='')))"
            ]
          },
          "metadata": {
            "tags": []
          }
        },
        {
          "output_type": "stream",
          "text": [
            "\n",
            "Extracting ./FashionMNIST/raw/t10k-labels-idx1-ubyte.gz to ./FashionMNIST/raw\n",
            "Processing...\n",
            "Done!\n"
          ],
          "name": "stdout"
        }
      ]
    },
    {
      "cell_type": "code",
      "metadata": {
        "colab_type": "code",
        "id": "muJ8arHp0HBp",
        "colab": {}
      },
      "source": [
        "training_data = [(np.append(np.ndarray.flatten(np.array(img)/255),1), cat) for img, cat in training_data]\n",
        "test_data = [(np.append(np.ndarray.flatten(np.array(img)/255),1), cat) for img, cat in test_data]\n",
        "np.random.shuffle(training_data)"
      ],
      "execution_count": 0,
      "outputs": []
    },
    {
      "cell_type": "markdown",
      "metadata": {
        "id": "x3BxNI2w1Ieh",
        "colab_type": "text"
      },
      "source": [
        "$S(\\vec w) = \\frac{1}{n} \\sum_{i} (y_i - \\vec w \\cdot \\vec x_i-b)^2$"
      ]
    },
    {
      "cell_type": "code",
      "metadata": {
        "id": "gAgBFG4wzak6",
        "colab_type": "code",
        "colab": {}
      },
      "source": [
        "def propagate(w, training_data):\n",
        "  cost = 0\n",
        "  n = 0\n",
        "  for (img, cat) in training_data:\n",
        "    cost += (cat - np.dot(w, img))**2\n",
        "    n += 1\n",
        "  cost /= n\n",
        "  gradw = 0\n",
        "  for (img, cat) in training_data:\n",
        "    gradw += -2*(cat - np.dot(w, img)) * img\n",
        "  gradw /= n\n",
        "  return (cost, gradw)"
      ],
      "execution_count": 0,
      "outputs": []
    },
    {
      "cell_type": "code",
      "metadata": {
        "id": "GklsYo3o6A9L",
        "colab_type": "code",
        "colab": {}
      },
      "source": [
        "def optimize_gd(w,training_data,rate=5e-3,maxiter=1000,info=10, epsilon=.01):\n",
        "  iter = 0\n",
        "  list_cost = []\n",
        "  while(True):\n",
        "    cost, gradw = propagate(w, training_data)\n",
        "    iter += 1\n",
        "    normsq_gradw = np.dot(gradw, gradw)\n",
        "    if(iter > maxiter or normsq_gradw < epsilon**2):\n",
        "      break\n",
        "    if(iter%info == 0):\n",
        "      print('Iteration ',iter,': Cost= ',cost)\n",
        "    w = w - rate*gradw\n",
        "    list_cost.append(cost)\n",
        "  return (w,list_cost)"
      ],
      "execution_count": 0,
      "outputs": []
    },
    {
      "cell_type": "code",
      "metadata": {
        "id": "vkNfUpS4AV1-",
        "colab_type": "code",
        "outputId": "57914149-f23d-4e62-fc6b-74845e001e98",
        "colab": {
          "base_uri": "https://localhost:8080/",
          "height": 1000
        }
      },
      "source": [
        "size_img = training_data[0][0].size\n",
        "w0 = np.zeros(size_img)\n",
        "gdw,gdcost = optimize_gd(w0, training_data[0:10000])\n",
        "print(gdcost[-1])"
      ],
      "execution_count": 10,
      "outputs": [
        {
          "output_type": "stream",
          "text": [
            "Iteration  10 : Cost=  5.064911074009693\n",
            "Iteration  20 : Cost=  4.005690662862319\n",
            "Iteration  30 : Cost=  3.7207658980027496\n",
            "Iteration  40 : Cost=  3.5767046962725253\n",
            "Iteration  50 : Cost=  3.4822027694376527\n",
            "Iteration  60 : Cost=  3.411360351554626\n",
            "Iteration  70 : Cost=  3.3538541741254178\n",
            "Iteration  80 : Cost=  3.304775887466374\n",
            "Iteration  90 : Cost=  3.2614747393222423\n",
            "Iteration  100 : Cost=  3.222377930977762\n",
            "Iteration  110 : Cost=  3.1864880568028715\n",
            "Iteration  120 : Cost=  3.1531412171635758\n",
            "Iteration  130 : Cost=  3.121878033785609\n",
            "Iteration  140 : Cost=  3.0923695705869636\n",
            "Iteration  150 : Cost=  3.064372637027081\n",
            "Iteration  160 : Cost=  3.0377019165082313\n",
            "Iteration  170 : Cost=  3.012212161305426\n",
            "Iteration  180 : Cost=  2.9877865838116855\n",
            "Iteration  190 : Cost=  2.964329138809784\n",
            "Iteration  200 : Cost=  2.941759289026562\n",
            "Iteration  210 : Cost=  2.9200083796242158\n",
            "Iteration  220 : Cost=  2.8990170713391197\n",
            "Iteration  230 : Cost=  2.878733481757574\n",
            "Iteration  240 : Cost=  2.8591118087542164\n",
            "Iteration  250 : Cost=  2.840111288510575\n",
            "Iteration  260 : Cost=  2.821695390359038\n",
            "Iteration  270 : Cost=  2.803831182693849\n",
            "Iteration  280 : Cost=  2.7864888249736883\n",
            "Iteration  290 : Cost=  2.7696411545055457\n",
            "Iteration  300 : Cost=  2.7532633458137687\n",
            "Iteration  310 : Cost=  2.7373326265626776\n",
            "Iteration  320 : Cost=  2.7218280382420073\n",
            "Iteration  330 : Cost=  2.70673023278755\n",
            "Iteration  340 : Cost=  2.6920212984164107\n",
            "Iteration  350 : Cost=  2.677684609479679\n",
            "Iteration  360 : Cost=  2.6637046962550937\n",
            "Iteration  370 : Cost=  2.650067131439563\n",
            "Iteration  380 : Cost=  2.636758430734678\n",
            "Iteration  390 : Cost=  2.6237659654075944\n",
            "Iteration  400 : Cost=  2.6110778850886427\n",
            "Iteration  410 : Cost=  2.59868304936802\n",
            "Iteration  420 : Cost=  2.5865709669915615\n",
            "Iteration  430 : Cost=  2.574731741649416\n",
            "Iteration  440 : Cost=  2.563156023506435\n",
            "Iteration  450 : Cost=  2.551834965752355\n",
            "Iteration  460 : Cost=  2.5407601855544706\n",
            "Iteration  470 : Cost=  2.5299237288839618\n",
            "Iteration  480 : Cost=  2.519318038760008\n",
            "Iteration  490 : Cost=  2.508935926517824\n",
            "Iteration  500 : Cost=  2.4987705457587754\n",
            "Iteration  510 : Cost=  2.4888153686849437\n",
            "Iteration  520 : Cost=  2.479064164558335\n",
            "Iteration  530 : Cost=  2.4695109800574837\n",
            "Iteration  540 : Cost=  2.460150121331409\n",
            "Iteration  550 : Cost=  2.4509761375758212\n",
            "Iteration  560 : Cost=  2.441983805976232\n",
            "Iteration  570 : Cost=  2.4331681178810625\n",
            "Iteration  580 : Cost=  2.4245242660838873\n",
            "Iteration  590 : Cost=  2.4160476331069263\n",
            "Iteration  600 : Cost=  2.407733780390062\n",
            "Iteration  610 : Cost=  2.3995784383006264\n",
            "Iteration  620 : Cost=  2.391577496887635\n",
            "Iteration  630 : Cost=  2.383726997312677\n",
            "Iteration  640 : Cost=  2.37602312389684\n",
            "Iteration  650 : Cost=  2.3684621967291513\n",
            "Iteration  660 : Cost=  2.3610406647874775\n",
            "Iteration  670 : Cost=  2.3537550995283167\n",
            "Iteration  680 : Cost=  2.3466021889055217\n",
            "Iteration  690 : Cost=  2.3395787317825145\n",
            "Iteration  700 : Cost=  2.332681632705722\n",
            "Iteration  710 : Cost=  2.325907897010055\n",
            "Iteration  720 : Cost=  2.3192546262300335\n",
            "Iteration  730 : Cost=  2.312719013792809\n",
            "Iteration  740 : Cost=  2.3062983409711175\n",
            "Iteration  750 : Cost=  2.2999899730766318\n",
            "Iteration  760 : Cost=  2.293791355875667\n",
            "Iteration  770 : Cost=  2.2877000122107876\n",
            "Iteration  780 : Cost=  2.2817135388135226\n",
            "Iteration  790 : Cost=  2.2758296032943326\n",
            "Iteration  800 : Cost=  2.2700459412975635\n",
            "Iteration  810 : Cost=  2.2643603538097756\n",
            "Iteration  820 : Cost=  2.2587707046109196\n",
            "Iteration  830 : Cost=  2.253274917858935\n",
            "Iteration  840 : Cost=  2.247870975798617\n",
            "Iteration  850 : Cost=  2.2425569165869255\n",
            "Iteration  860 : Cost=  2.237330832226831\n",
            "Iteration  870 : Cost=  2.2321908666032835\n",
            "Iteration  880 : Cost=  2.2271352136142712\n",
            "Iteration  890 : Cost=  2.222162115391716\n",
            "Iteration  900 : Cost=  2.217269860606203\n",
            "Iteration  910 : Cost=  2.212456782850778\n",
            "Iteration  920 : Cost=  2.2077212590990145\n",
            "Iteration  930 : Cost=  2.2030617082330037\n",
            "Iteration  940 : Cost=  2.198476589637217\n",
            "Iteration  950 : Cost=  2.193964401854517\n",
            "Iteration  960 : Cost=  2.1895236813006593\n",
            "Iteration  970 : Cost=  2.185153001034254\n",
            "Iteration  980 : Cost=  2.1808509695790357\n",
            "Iteration  990 : Cost=  2.17661622979535\n",
            "Iteration  1000 : Cost=  2.1724474577988824\n",
            "2.1724474577988824\n"
          ],
          "name": "stdout"
        }
      ]
    },
    {
      "cell_type": "code",
      "metadata": {
        "id": "uboaXeRuG6wI",
        "colab_type": "code",
        "colab": {}
      },
      "source": [
        "def test_params(w, test_data):\n",
        "  correct = 0\n",
        "  size = 0\n",
        "  for (img, cat) in test_data:\n",
        "    size += 1;\n",
        "    pred = np.dot(img, w)\n",
        "    pred = np.around(pred)\n",
        "    if(pred > 9): pred = 9\n",
        "    if(pred < 0): pred = 0\n",
        "    if (pred==cat):\n",
        "      correct += 1\n",
        "  return correct/size"
      ],
      "execution_count": 0,
      "outputs": []
    },
    {
      "cell_type": "code",
      "metadata": {
        "id": "CHb9QIAgIePI",
        "colab_type": "code",
        "outputId": "02470869-bdf2-4447-81f2-4ba84cd5a8d6",
        "colab": {
          "base_uri": "https://localhost:8080/",
          "height": 34
        }
      },
      "source": [
        "test_params(gdw, test_data)"
      ],
      "execution_count": 12,
      "outputs": [
        {
          "output_type": "execute_result",
          "data": {
            "text/plain": [
              "0.359"
            ]
          },
          "metadata": {
            "tags": []
          },
          "execution_count": 12
        }
      ]
    },
    {
      "cell_type": "code",
      "metadata": {
        "id": "LpXRlQjuIO7w",
        "colab_type": "code",
        "colab": {}
      },
      "source": [
        "def optimize_sgd(w,training_data,rate=5e-4,maxiter=1000,info=10, epsilon=.01):\n",
        "  iter = 0\n",
        "  list_cost = []\n",
        "  while(True):\n",
        "    i = np.random.randint(0, len(training_data))\n",
        "    cost, gradw = propagate(w, training_data[slice(i,i+1)])\n",
        "    iter += 1\n",
        "    normsq_gradw = np.dot(gradw, gradw)\n",
        "    if(iter > maxiter or normsq_gradw < epsilon**2):\n",
        "      break\n",
        "    if(iter%info == 0):\n",
        "      print('Iteration ',iter,': Cost= ',cost)\n",
        "    w = w - rate*gradw\n",
        "    list_cost.append(cost)\n",
        "  return (w,list_cost)"
      ],
      "execution_count": 0,
      "outputs": []
    },
    {
      "cell_type": "code",
      "metadata": {
        "id": "gJvniuA4IYI_",
        "colab_type": "code",
        "colab": {
          "base_uri": "https://localhost:8080/",
          "height": 1000
        },
        "outputId": "d8eac5db-4664-4709-a457-de298f5fa054"
      },
      "source": [
        "sgdw,sgdcost = optimize_sgd(w0, training_data[0:10000], info=10)\n",
        "test_params(sgdw, test_data)"
      ],
      "execution_count": 14,
      "outputs": [
        {
          "output_type": "stream",
          "text": [
            "Iteration  10 : Cost=  5.683940182813211\n",
            "Iteration  20 : Cost=  10.84836975168326\n",
            "Iteration  30 : Cost=  33.40805346713547\n",
            "Iteration  40 : Cost=  4.5906394794984084\n",
            "Iteration  50 : Cost=  1.0371853406706726\n",
            "Iteration  60 : Cost=  4.0895627515209565\n",
            "Iteration  70 : Cost=  0.7709112636074706\n",
            "Iteration  80 : Cost=  0.0012209012981276438\n",
            "Iteration  90 : Cost=  0.17436190079339078\n",
            "Iteration  100 : Cost=  11.658838514851322\n",
            "Iteration  110 : Cost=  4.804954572370802\n",
            "Iteration  120 : Cost=  0.016197859943664936\n",
            "Iteration  130 : Cost=  0.08580220973416429\n",
            "Iteration  140 : Cost=  11.480771412313423\n",
            "Iteration  150 : Cost=  1.1496273585625079\n",
            "Iteration  160 : Cost=  6.082198468982974\n",
            "Iteration  170 : Cost=  0.1091817893662835\n",
            "Iteration  180 : Cost=  1.159346421187389\n",
            "Iteration  190 : Cost=  26.447232376497432\n",
            "Iteration  200 : Cost=  0.390573259465467\n",
            "Iteration  210 : Cost=  0.5829128011315577\n",
            "Iteration  220 : Cost=  0.4772473364266194\n",
            "Iteration  230 : Cost=  0.8530837650560111\n",
            "Iteration  240 : Cost=  3.2540142014553317\n",
            "Iteration  250 : Cost=  0.39422986461723125\n",
            "Iteration  260 : Cost=  4.879646856240651\n",
            "Iteration  270 : Cost=  0.13444724407424535\n",
            "Iteration  280 : Cost=  1.8493116193464267\n",
            "Iteration  290 : Cost=  2.8588562991833664\n",
            "Iteration  300 : Cost=  14.334521935881154\n",
            "Iteration  310 : Cost=  0.1995230208255445\n",
            "Iteration  320 : Cost=  0.006504824448470389\n",
            "Iteration  330 : Cost=  29.901522222749538\n",
            "Iteration  340 : Cost=  0.6212988319105163\n",
            "Iteration  350 : Cost=  3.010992816999225\n",
            "Iteration  360 : Cost=  0.04932152197479405\n",
            "Iteration  370 : Cost=  0.16550036012692934\n",
            "Iteration  380 : Cost=  0.07176179892379786\n",
            "Iteration  390 : Cost=  0.1788114858078041\n",
            "Iteration  400 : Cost=  0.8899125313804719\n",
            "Iteration  410 : Cost=  4.793234869847515\n",
            "Iteration  420 : Cost=  4.801743278010444\n",
            "Iteration  430 : Cost=  20.711732842997183\n",
            "Iteration  440 : Cost=  0.0055493472718949315\n",
            "Iteration  450 : Cost=  6.060163376888497\n",
            "Iteration  460 : Cost=  4.383188636836343\n",
            "Iteration  470 : Cost=  0.656490730696751\n",
            "Iteration  480 : Cost=  0.0006157160814914069\n",
            "Iteration  490 : Cost=  3.440781170879227\n",
            "Iteration  500 : Cost=  0.0487342789535611\n",
            "Iteration  510 : Cost=  3.2428122385837974\n",
            "Iteration  520 : Cost=  1.2529436502921918\n",
            "Iteration  530 : Cost=  3.0863498585850313\n",
            "Iteration  540 : Cost=  1.9007138486770125\n",
            "Iteration  550 : Cost=  0.3839763229276073\n",
            "Iteration  560 : Cost=  0.7677397964710057\n",
            "Iteration  570 : Cost=  16.322017886522943\n",
            "Iteration  580 : Cost=  3.557818542605381\n",
            "Iteration  590 : Cost=  35.47536974952981\n",
            "Iteration  600 : Cost=  5.840184339971121\n",
            "Iteration  610 : Cost=  0.5618577145889915\n",
            "Iteration  620 : Cost=  0.8239555215476254\n",
            "Iteration  630 : Cost=  0.6393557661428677\n",
            "Iteration  640 : Cost=  0.9806859897368935\n",
            "Iteration  650 : Cost=  0.039436058693968934\n",
            "Iteration  660 : Cost=  0.18441991719978115\n",
            "Iteration  670 : Cost=  12.058287157059885\n",
            "Iteration  680 : Cost=  1.2771452311326457\n",
            "Iteration  690 : Cost=  16.305011281069913\n",
            "Iteration  700 : Cost=  0.3553031447371886\n",
            "Iteration  710 : Cost=  3.02373688464481\n",
            "Iteration  720 : Cost=  0.23442756197839104\n",
            "Iteration  730 : Cost=  6.080768377606869\n",
            "Iteration  740 : Cost=  0.00843800121060275\n",
            "Iteration  750 : Cost=  1.3071472537183564\n",
            "Iteration  760 : Cost=  2.2464684711966423\n",
            "Iteration  770 : Cost=  3.8096588040060344\n",
            "Iteration  780 : Cost=  2.0830948517361887\n",
            "Iteration  790 : Cost=  0.13807036138882647\n",
            "Iteration  800 : Cost=  0.4183445961120986\n",
            "Iteration  810 : Cost=  23.062151023085455\n",
            "Iteration  820 : Cost=  0.16059824166643794\n",
            "Iteration  830 : Cost=  0.08059289883110067\n",
            "Iteration  840 : Cost=  10.077764351617578\n",
            "Iteration  850 : Cost=  0.2899801598353527\n",
            "Iteration  860 : Cost=  2.1685506885831938\n",
            "Iteration  870 : Cost=  17.015868078387975\n",
            "Iteration  880 : Cost=  0.5679636815468401\n",
            "Iteration  890 : Cost=  0.7798216249171013\n",
            "Iteration  900 : Cost=  18.231219613165056\n",
            "Iteration  910 : Cost=  0.007428789063526431\n",
            "Iteration  920 : Cost=  0.7050159046159674\n",
            "Iteration  930 : Cost=  1.073163166024439\n",
            "Iteration  940 : Cost=  7.816382435152576\n",
            "Iteration  950 : Cost=  0.8680382242330696\n",
            "Iteration  960 : Cost=  0.6245703885982838\n",
            "Iteration  970 : Cost=  0.20136721748085806\n",
            "Iteration  980 : Cost=  0.2024477165636975\n",
            "Iteration  990 : Cost=  0.4153127025294839\n",
            "Iteration  1000 : Cost=  3.43295993441169\n"
          ],
          "name": "stdout"
        },
        {
          "output_type": "execute_result",
          "data": {
            "text/plain": [
              "0.3074"
            ]
          },
          "metadata": {
            "tags": []
          },
          "execution_count": 14
        }
      ]
    },
    {
      "cell_type": "code",
      "metadata": {
        "id": "nUOafgEwQM1v",
        "colab_type": "code",
        "colab": {}
      },
      "source": [
        "def optimize_sgdm(w,training_data,rate=5e-4,maxiter=1000,info=10, batch_size=100, epsilon=.01):\n",
        "  iter = 0\n",
        "  list_cost = []\n",
        "  while(True):\n",
        "    i = np.random.randint(0, len(training_data)-batch_size)\n",
        "    cost, gradw= propagate(w, training_data[i:(i+batch_size)])\n",
        "    iter += 1\n",
        "    normsq_gradw = np.dot(gradw, gradw)\n",
        "    if(iter > maxiter or normsq_gradw < epsilon**2):\n",
        "      break\n",
        "    if(iter%info == 0):\n",
        "      print('Iteration ',iter,': Cost= ',cost)\n",
        "    w = w - rate*gradw\n",
        "    list_cost.append(cost)\n",
        "  return (w,list_cost)"
      ],
      "execution_count": 0,
      "outputs": []
    },
    {
      "cell_type": "code",
      "metadata": {
        "id": "pjFXufCWUo19",
        "colab_type": "code",
        "outputId": "9e3b11da-ca47-4b2c-cb84-eb93eb5b96d7",
        "colab": {
          "base_uri": "https://localhost:8080/",
          "height": 1000
        }
      },
      "source": [
        "sgdmw,sgdmcost = optimize_sgdm(w0, training_data[0:10000], maxiter=1000, info=10)\n",
        "test_params(sgdmw, test_data)"
      ],
      "execution_count": 16,
      "outputs": [
        {
          "output_type": "stream",
          "text": [
            "Iteration  10 : Cost=  11.001070497769412\n",
            "Iteration  20 : Cost=  9.253408360821892\n",
            "Iteration  30 : Cost=  8.761537192957135\n",
            "Iteration  40 : Cost=  7.607459167089176\n",
            "Iteration  50 : Cost=  6.330003023442487\n",
            "Iteration  60 : Cost=  6.546338090672991\n",
            "Iteration  70 : Cost=  7.042473989948426\n",
            "Iteration  80 : Cost=  5.134085620701152\n",
            "Iteration  90 : Cost=  4.980448902104569\n",
            "Iteration  100 : Cost=  5.641225337451073\n",
            "Iteration  110 : Cost=  4.683301322329874\n",
            "Iteration  120 : Cost=  4.860513707353162\n",
            "Iteration  130 : Cost=  3.779120623447746\n",
            "Iteration  140 : Cost=  4.139233811341113\n",
            "Iteration  150 : Cost=  4.659947416216664\n",
            "Iteration  160 : Cost=  4.5374958184845635\n",
            "Iteration  170 : Cost=  3.4776634055343085\n",
            "Iteration  180 : Cost=  3.8699003471692244\n",
            "Iteration  190 : Cost=  4.055030333194115\n",
            "Iteration  200 : Cost=  4.19053790880718\n",
            "Iteration  210 : Cost=  3.655909294938204\n",
            "Iteration  220 : Cost=  3.7136120358398905\n",
            "Iteration  230 : Cost=  4.46167882952501\n",
            "Iteration  240 : Cost=  3.7646966373883894\n",
            "Iteration  250 : Cost=  3.5495436963149127\n",
            "Iteration  260 : Cost=  4.333386388187583\n",
            "Iteration  270 : Cost=  4.291632169154699\n",
            "Iteration  280 : Cost=  3.7440226539606196\n",
            "Iteration  290 : Cost=  3.5164920280222867\n",
            "Iteration  300 : Cost=  4.264618634479162\n",
            "Iteration  310 : Cost=  3.290161699995524\n",
            "Iteration  320 : Cost=  3.0344499594545535\n",
            "Iteration  330 : Cost=  4.13280236285426\n",
            "Iteration  340 : Cost=  4.559173250537704\n",
            "Iteration  350 : Cost=  3.8569434159437064\n",
            "Iteration  360 : Cost=  3.57377316118823\n",
            "Iteration  370 : Cost=  3.4127671065739253\n",
            "Iteration  380 : Cost=  3.8928051865557296\n",
            "Iteration  390 : Cost=  3.734208364953349\n",
            "Iteration  400 : Cost=  3.3260802461244907\n",
            "Iteration  410 : Cost=  2.207374704793971\n",
            "Iteration  420 : Cost=  3.5690603767963625\n",
            "Iteration  430 : Cost=  2.7275132684040453\n",
            "Iteration  440 : Cost=  3.2478628067737305\n",
            "Iteration  450 : Cost=  3.54261772949041\n",
            "Iteration  460 : Cost=  3.492439593397929\n",
            "Iteration  470 : Cost=  3.310295545879238\n",
            "Iteration  480 : Cost=  2.6442885513395367\n",
            "Iteration  490 : Cost=  3.2307162058503156\n",
            "Iteration  500 : Cost=  2.7112884394872276\n",
            "Iteration  510 : Cost=  3.7442889283536207\n",
            "Iteration  520 : Cost=  2.6521484876549355\n",
            "Iteration  530 : Cost=  3.46703269723928\n",
            "Iteration  540 : Cost=  3.795311186834672\n",
            "Iteration  550 : Cost=  4.203742798958942\n",
            "Iteration  560 : Cost=  4.0272598991826305\n",
            "Iteration  570 : Cost=  2.624789088619668\n",
            "Iteration  580 : Cost=  3.1224274094677726\n",
            "Iteration  590 : Cost=  3.583726353915913\n",
            "Iteration  600 : Cost=  1.87369026768949\n",
            "Iteration  610 : Cost=  3.817037118070957\n",
            "Iteration  620 : Cost=  2.9510532030265826\n",
            "Iteration  630 : Cost=  3.478966848137353\n",
            "Iteration  640 : Cost=  3.243046935035794\n",
            "Iteration  650 : Cost=  4.169401678960961\n",
            "Iteration  660 : Cost=  3.306291849825687\n",
            "Iteration  670 : Cost=  2.445890648230349\n",
            "Iteration  680 : Cost=  3.311646602297722\n",
            "Iteration  690 : Cost=  3.0776438636713994\n",
            "Iteration  700 : Cost=  3.2109750032756006\n",
            "Iteration  710 : Cost=  3.884646863081764\n",
            "Iteration  720 : Cost=  3.150418534232738\n",
            "Iteration  730 : Cost=  3.103428387577253\n",
            "Iteration  740 : Cost=  3.408400668850429\n",
            "Iteration  750 : Cost=  3.394480630147978\n",
            "Iteration  760 : Cost=  3.2448866895127764\n",
            "Iteration  770 : Cost=  4.115709772384849\n",
            "Iteration  780 : Cost=  4.375723920526286\n",
            "Iteration  790 : Cost=  2.8590535070622103\n",
            "Iteration  800 : Cost=  3.9424338464438\n",
            "Iteration  810 : Cost=  4.196563086582204\n",
            "Iteration  820 : Cost=  3.9796742200826127\n",
            "Iteration  830 : Cost=  4.144253915140754\n",
            "Iteration  840 : Cost=  2.386613589693131\n",
            "Iteration  850 : Cost=  2.723111908013958\n",
            "Iteration  860 : Cost=  3.8035495943167748\n",
            "Iteration  870 : Cost=  3.0559921555627074\n",
            "Iteration  880 : Cost=  4.184584831902198\n",
            "Iteration  890 : Cost=  3.4219523014665616\n",
            "Iteration  900 : Cost=  2.689673532012199\n",
            "Iteration  910 : Cost=  3.401140406996739\n",
            "Iteration  920 : Cost=  2.5089138569245613\n",
            "Iteration  930 : Cost=  2.6047478968686453\n",
            "Iteration  940 : Cost=  3.812239382750354\n",
            "Iteration  950 : Cost=  3.65274901528602\n",
            "Iteration  960 : Cost=  3.6679528776733026\n",
            "Iteration  970 : Cost=  3.108077523240399\n",
            "Iteration  980 : Cost=  2.7722232795682125\n",
            "Iteration  990 : Cost=  2.262141760234017\n",
            "Iteration  1000 : Cost=  3.854419863347999\n"
          ],
          "name": "stdout"
        },
        {
          "output_type": "execute_result",
          "data": {
            "text/plain": [
              "0.3072"
            ]
          },
          "metadata": {
            "tags": []
          },
          "execution_count": 16
        }
      ]
    },
    {
      "cell_type": "code",
      "metadata": {
        "id": "tA1fLkSbXYug",
        "colab_type": "code",
        "outputId": "f59b14ec-7b9a-4f06-eedc-7ce57bc31df1",
        "colab": {
          "base_uri": "https://localhost:8080/",
          "height": 269
        }
      },
      "source": [
        "\n",
        "def graph(**kwargs):\n",
        "  colors = \"bgrcmykw:\"\n",
        "  fig, ax = plt.subplots()\n",
        "  \n",
        "  for name,color in zip(kwargs,colors):\n",
        "    ax.semilogx(kwargs[name],color,label=name)\n",
        "  ax.legend()\n",
        "  plt.show()\n",
        "\n",
        "# exemple d'utilisation\n",
        "graph(gd=gdcost,sgdm=sgdmcost)\n",
        "# le label de [1,2,3] est \"toto1\""
      ],
      "execution_count": 17,
      "outputs": [
        {
          "output_type": "display_data",
          "data": {
            "image/png": "[encoded data removed]",
            "text/plain": [
              "<Figure size 432x288 with 1 Axes>"
            ]
          },
          "metadata": {
            "tags": []
          }
        }
      ]
    },
    {
      "cell_type": "code",
      "metadata": {
        "id": "p4umYqXlagr1",
        "colab_type": "code",
        "colab": {}
      },
      "source": [
        "def optimize_sgdm_moment(w,training_data,rate=1e-3,mu=0.95,maxiter=40,info=10, batch_size=100, epsilon=.01):\n",
        "  iter = 0\n",
        "  list_cost = []\n",
        "  vw = 0\n",
        "  while(True):\n",
        "    i = np.random.randint(0, len(training_data)-batch_size)\n",
        "    cost, gradw = propagate(w, training_data[i:(i+batch_size)])\n",
        "    iter += 1\n",
        "    normsq_gradw = np.dot(gradw, gradw)\n",
        "    if(iter > maxiter or normsq_gradw < epsilon**2):\n",
        "      break\n",
        "    if(iter%info == 0):\n",
        "      print('Iteration ',iter,': Cost= ',cost)\n",
        "    vw = mu*vw - rate*gradw\n",
        "    w = w + vw\n",
        "    list_cost.append(cost)\n",
        "  return (w,list_cost)"
      ],
      "execution_count": 0,
      "outputs": []
    },
    {
      "cell_type": "code",
      "metadata": {
        "id": "eaXEhCvHbfCm",
        "colab_type": "code",
        "outputId": "15e7a8ca-5ce1-47d2-ce3d-bc51c7035a43",
        "colab": {
          "base_uri": "https://localhost:8080/",
          "height": 1000
        }
      },
      "source": [
        "sgdm_moment_w,sgdm_moment_cost = optimize_sgdm_moment(w0, training_data[0:10000], mu=0.95, maxiter=1000, info=10)\n",
        "test_params(sgdm_moment_w, test_data)"
      ],
      "execution_count": 19,
      "outputs": [
        {
          "output_type": "stream",
          "text": [
            "Iteration  10 : Cost=  3.910358847570474\n",
            "Iteration  20 : Cost=  9.998359935052903\n",
            "Iteration  30 : Cost=  3.8363160204146567\n",
            "Iteration  40 : Cost=  6.563173361251047\n",
            "Iteration  50 : Cost=  4.012431437656497\n",
            "Iteration  60 : Cost=  4.527491357639522\n",
            "Iteration  70 : Cost=  2.1184744596234193\n",
            "Iteration  80 : Cost=  4.0617940273349324\n",
            "Iteration  90 : Cost=  2.645097226425299\n",
            "Iteration  100 : Cost=  3.278250479468149\n",
            "Iteration  110 : Cost=  3.084852148163374\n",
            "Iteration  120 : Cost=  3.452065760117028\n",
            "Iteration  130 : Cost=  2.246691581181762\n",
            "Iteration  140 : Cost=  2.5269828893940223\n",
            "Iteration  150 : Cost=  2.679530790686174\n",
            "Iteration  160 : Cost=  2.2276278938588705\n",
            "Iteration  170 : Cost=  2.0655261046762403\n",
            "Iteration  180 : Cost=  2.1150650946637906\n",
            "Iteration  190 : Cost=  1.9343213277478768\n",
            "Iteration  200 : Cost=  2.525314212455272\n",
            "Iteration  210 : Cost=  1.8206999479147448\n",
            "Iteration  220 : Cost=  1.786830107081281\n",
            "Iteration  230 : Cost=  2.1067171656977144\n",
            "Iteration  240 : Cost=  1.9495946552573986\n",
            "Iteration  250 : Cost=  2.568857612202552\n",
            "Iteration  260 : Cost=  2.1532290817639868\n",
            "Iteration  270 : Cost=  2.62901305378949\n",
            "Iteration  280 : Cost=  2.575685607497779\n",
            "Iteration  290 : Cost=  2.3903472361526106\n",
            "Iteration  300 : Cost=  1.8921136571800665\n",
            "Iteration  310 : Cost=  1.203205801875378\n",
            "Iteration  320 : Cost=  2.1612312227466677\n",
            "Iteration  330 : Cost=  1.8234369289818997\n",
            "Iteration  340 : Cost=  2.5197798907109212\n",
            "Iteration  350 : Cost=  2.252644415507699\n",
            "Iteration  360 : Cost=  2.259093370064109\n",
            "Iteration  370 : Cost=  1.500404551381109\n",
            "Iteration  380 : Cost=  1.590407776842793\n",
            "Iteration  390 : Cost=  1.8828847534217985\n",
            "Iteration  400 : Cost=  1.9600550736668625\n",
            "Iteration  410 : Cost=  2.2200616770071346\n",
            "Iteration  420 : Cost=  2.397410754405685\n",
            "Iteration  430 : Cost=  1.997205672178403\n",
            "Iteration  440 : Cost=  2.022440149272495\n",
            "Iteration  450 : Cost=  2.0699619343098634\n",
            "Iteration  460 : Cost=  1.6782928593045159\n",
            "Iteration  470 : Cost=  1.8732323891651288\n",
            "Iteration  480 : Cost=  2.083304845025541\n",
            "Iteration  490 : Cost=  2.0358063335408887\n",
            "Iteration  500 : Cost=  2.004526954883095\n",
            "Iteration  510 : Cost=  1.7249383913587097\n",
            "Iteration  520 : Cost=  2.0147619603332707\n",
            "Iteration  530 : Cost=  1.7693911026257103\n",
            "Iteration  540 : Cost=  2.335017812052414\n",
            "Iteration  550 : Cost=  1.6326177234783115\n",
            "Iteration  560 : Cost=  2.4887163341259684\n",
            "Iteration  570 : Cost=  1.8908993024707248\n",
            "Iteration  580 : Cost=  2.3180075012232213\n",
            "Iteration  590 : Cost=  1.3413160465931215\n",
            "Iteration  600 : Cost=  2.036050155961119\n",
            "Iteration  610 : Cost=  1.366655809386782\n",
            "Iteration  620 : Cost=  1.8796165828614635\n",
            "Iteration  630 : Cost=  1.5707885873290934\n",
            "Iteration  640 : Cost=  1.7695344813158704\n",
            "Iteration  650 : Cost=  1.2289448066725353\n",
            "Iteration  660 : Cost=  2.0398356037504723\n",
            "Iteration  670 : Cost=  1.6512726807719702\n",
            "Iteration  680 : Cost=  2.2015222123725913\n",
            "Iteration  690 : Cost=  1.5957934202332182\n",
            "Iteration  700 : Cost=  2.583883464279177\n",
            "Iteration  710 : Cost=  1.5804766848849527\n",
            "Iteration  720 : Cost=  2.527043899840014\n",
            "Iteration  730 : Cost=  2.0115574253321187\n",
            "Iteration  740 : Cost=  1.1583555216798609\n",
            "Iteration  750 : Cost=  1.8437738135002808\n",
            "Iteration  760 : Cost=  2.015802252733839\n",
            "Iteration  770 : Cost=  2.3932003468069274\n",
            "Iteration  780 : Cost=  2.5415589405116448\n",
            "Iteration  790 : Cost=  1.67701624884349\n",
            "Iteration  800 : Cost=  1.317327463529169\n",
            "Iteration  810 : Cost=  2.6129922257144624\n",
            "Iteration  820 : Cost=  1.2123229464618324\n",
            "Iteration  830 : Cost=  2.3818919776397\n",
            "Iteration  840 : Cost=  1.300197897015924\n",
            "Iteration  850 : Cost=  3.616804404365465\n",
            "Iteration  860 : Cost=  1.7261788514370104\n",
            "Iteration  870 : Cost=  1.7099010118699294\n",
            "Iteration  880 : Cost=  1.9141620473920955\n",
            "Iteration  890 : Cost=  2.5101207342559024\n",
            "Iteration  900 : Cost=  2.898024750794454\n",
            "Iteration  910 : Cost=  2.038492105119132\n",
            "Iteration  920 : Cost=  1.5731079339405738\n",
            "Iteration  930 : Cost=  2.078425291872197\n",
            "Iteration  940 : Cost=  1.8642370186648265\n",
            "Iteration  950 : Cost=  2.551980824662825\n",
            "Iteration  960 : Cost=  1.1189293157006426\n",
            "Iteration  970 : Cost=  2.0607566418045375\n",
            "Iteration  980 : Cost=  2.0174280322990112\n",
            "Iteration  990 : Cost=  1.4842172092515913\n",
            "Iteration  1000 : Cost=  1.568715670809904\n"
          ],
          "name": "stdout"
        },
        {
          "output_type": "execute_result",
          "data": {
            "text/plain": [
              "0.3697"
            ]
          },
          "metadata": {
            "tags": []
          },
          "execution_count": 19
        }
      ]
    },
    {
      "cell_type": "code",
      "metadata": {
        "id": "k0HnvXSZkFbE",
        "colab_type": "code",
        "colab": {}
      },
      "source": [
        "def optimize_sg_nesterov(w,training_data,rate=1e-5,mu=0.95,maxiter=500,info=10,epsilon=.01):\n",
        "  iter = 0\n",
        "  list_cost = []\n",
        "  vw = 0\n",
        "  while(True):\n",
        "    wtemp = w + mu*vw\n",
        "    cost, gradw= propagate(wtemp, training_data)\n",
        "    iter += 1\n",
        "    normsq_gradw = np.dot(gradw, gradw)\n",
        "    if(iter > maxiter or normsq_gradw < epsilon**2):\n",
        "      break\n",
        "    if(iter%info == 0):\n",
        "      print('Iteration ',iter,': Cost= ',cost)\n",
        "    vw = mu*vw - rate*gradw\n",
        "    w = wtemp + vw\n",
        "    list_cost.append(cost)\n",
        "  return (w,list_cost)"
      ],
      "execution_count": 0,
      "outputs": []
    },
    {
      "cell_type": "code",
      "metadata": {
        "id": "Tgr-7vFemjVz",
        "colab_type": "code",
        "outputId": "ffc2146b-5a9b-4be2-9b34-2d49327d6282",
        "colab": {
          "base_uri": "https://localhost:8080/",
          "height": 903
        }
      },
      "source": [
        "sgn_w,sgn_cost = optimize_sg_nesterov(w0, training_data[0:10000], mu=0.95, maxiter=500, info=10)\n",
        "test_params(sgn_w, test_data)"
      ],
      "execution_count": 21,
      "outputs": [
        {
          "output_type": "stream",
          "text": [
            "Iteration  10 : Cost=  23.15317458137455\n",
            "Iteration  20 : Cost=  14.758524108173047\n",
            "Iteration  30 : Cost=  10.640508483781286\n",
            "Iteration  40 : Cost=  10.051449612835098\n",
            "Iteration  50 : Cost=  9.786993461168638\n",
            "Iteration  60 : Cost=  8.71858746943649\n",
            "Iteration  70 : Cost=  7.464858737011904\n",
            "Iteration  80 : Cost=  6.621712249935741\n",
            "Iteration  90 : Cost=  6.162987767802625\n",
            "Iteration  100 : Cost=  5.83067149142797\n",
            "Iteration  110 : Cost=  5.504112433832666\n",
            "Iteration  120 : Cost=  5.206741437835373\n",
            "Iteration  130 : Cost=  4.975168306880511\n",
            "Iteration  140 : Cost=  4.8032385947043625\n",
            "Iteration  150 : Cost=  4.665719780996454\n",
            "Iteration  160 : Cost=  4.547244333642947\n",
            "Iteration  170 : Cost=  4.444946505727327\n",
            "Iteration  180 : Cost=  4.358758061921705\n",
            "Iteration  190 : Cost=  4.286264422550994\n",
            "Iteration  200 : Cost=  4.223883536793085\n",
            "Iteration  210 : Cost=  4.169001884029861\n",
            "Iteration  220 : Cost=  4.120270018413246\n",
            "Iteration  230 : Cost=  4.076848626859648\n",
            "Iteration  240 : Cost=  4.037918158284577\n",
            "Iteration  250 : Cost=  4.002689836372083\n",
            "Iteration  260 : Cost=  3.970538295961264\n",
            "Iteration  270 : Cost=  3.9410146217784945\n",
            "Iteration  280 : Cost=  3.9137763888604438\n",
            "Iteration  290 : Cost=  3.8885338117686095\n",
            "Iteration  300 : Cost=  3.8650370989418232\n",
            "Iteration  310 : Cost=  3.843078361438252\n",
            "Iteration  320 : Cost=  3.8224874689321733\n",
            "Iteration  330 : Cost=  3.8031224424272527\n",
            "Iteration  340 : Cost=  3.784861483890738\n",
            "Iteration  350 : Cost=  3.7675988852474074\n",
            "Iteration  360 : Cost=  3.7512428710773915\n",
            "Iteration  370 : Cost=  3.7357135622293565\n",
            "Iteration  380 : Cost=  3.720940857441503\n",
            "Iteration  390 : Cost=  3.7068626704989316\n",
            "Iteration  400 : Cost=  3.693423672004686\n",
            "Iteration  410 : Cost=  3.680574363292755\n",
            "Iteration  420 : Cost=  3.6682703023484953\n",
            "Iteration  430 : Cost=  3.6564714274346763\n",
            "Iteration  440 : Cost=  3.6451414877111405\n",
            "Iteration  450 : Cost=  3.6342475783752692\n",
            "Iteration  460 : Cost=  3.623759756260682\n",
            "Iteration  470 : Cost=  3.613650711880799\n",
            "Iteration  480 : Cost=  3.60389548508622\n",
            "Iteration  490 : Cost=  3.594471218584092\n",
            "Iteration  500 : Cost=  3.5853569443941873\n"
          ],
          "name": "stdout"
        },
        {
          "output_type": "execute_result",
          "data": {
            "text/plain": [
              "0.2851"
            ]
          },
          "metadata": {
            "tags": []
          },
          "execution_count": 21
        }
      ]
    },
    {
      "cell_type": "code",
      "metadata": {
        "id": "82DO4yPS9r8M",
        "colab_type": "code",
        "colab": {}
      },
      "source": [
        "def optimize_sgdm_nesterov(w,training_data,rate=1e-5,mu=0.95,maxiter=1000,info=10, epsilon=.01, batch_size=100):\n",
        "  iter = 0\n",
        "  list_cost = []\n",
        "  vw = 0\n",
        "  while(True):\n",
        "    wtemp = w + mu*vw\n",
        "    i = np.random.randint(0, len(training_data)-batch_size)\n",
        "    cost, gradw = propagate(w, training_data[i:(i+batch_size)])\n",
        "    iter += 1\n",
        "    normsq_gradw = np.dot(gradw, gradw)\n",
        "    if(iter > maxiter or normsq_gradw < epsilon**2):\n",
        "      break\n",
        "    if(iter%info == 0):\n",
        "      print('Iteration ',iter,': Cost= ',cost)\n",
        "    vw = mu*vw - rate*gradw\n",
        "    w = w + vw\n",
        "    list_cost.append(cost)\n",
        "  return (w,list_cost)"
      ],
      "execution_count": 0,
      "outputs": []
    },
    {
      "cell_type": "code",
      "metadata": {
        "id": "HT_LahEa-l7c",
        "colab_type": "code",
        "colab": {
          "base_uri": "https://localhost:8080/",
          "height": 1000
        },
        "outputId": "011b648c-89d5-4f65-a514-106157841b54"
      },
      "source": [
        "sgdmn_w,sgdmn_cost = optimize_sgdm_nesterov(w0, training_data[0:10000])\n",
        "test_params(sgdmn_w, test_data)"
      ],
      "execution_count": 23,
      "outputs": [
        {
          "output_type": "stream",
          "text": [
            "Iteration  10 : Cost=  25.815525167883102\n",
            "Iteration  20 : Cost=  19.145577825275666\n",
            "Iteration  30 : Cost=  10.693358734650662\n",
            "Iteration  40 : Cost=  11.253264808166264\n",
            "Iteration  50 : Cost=  10.872809864769053\n",
            "Iteration  60 : Cost=  9.522006376331817\n",
            "Iteration  70 : Cost=  9.88675406419689\n",
            "Iteration  80 : Cost=  9.362168777758605\n",
            "Iteration  90 : Cost=  9.578943718106396\n",
            "Iteration  100 : Cost=  6.9662754223670005\n",
            "Iteration  110 : Cost=  7.1782940435967575\n",
            "Iteration  120 : Cost=  7.188949894584368\n",
            "Iteration  130 : Cost=  6.70658488221745\n",
            "Iteration  140 : Cost=  6.520974981445789\n",
            "Iteration  150 : Cost=  6.8066603064180375\n",
            "Iteration  160 : Cost=  6.470543477500351\n",
            "Iteration  170 : Cost=  5.044866835885674\n",
            "Iteration  180 : Cost=  6.091116379449683\n",
            "Iteration  190 : Cost=  6.147928104331108\n",
            "Iteration  200 : Cost=  6.348120773558616\n",
            "Iteration  210 : Cost=  6.007417219753311\n",
            "Iteration  220 : Cost=  4.429188826937395\n",
            "Iteration  230 : Cost=  4.270664936763632\n",
            "Iteration  240 : Cost=  4.883023198163472\n",
            "Iteration  250 : Cost=  6.11114756568841\n",
            "Iteration  260 : Cost=  4.900986803908699\n",
            "Iteration  270 : Cost=  4.155418256846797\n",
            "Iteration  280 : Cost=  4.514908573583117\n",
            "Iteration  290 : Cost=  4.383038324125994\n",
            "Iteration  300 : Cost=  4.321960411425692\n",
            "Iteration  310 : Cost=  4.920837365789395\n",
            "Iteration  320 : Cost=  4.515519310344874\n",
            "Iteration  330 : Cost=  5.549291823880936\n",
            "Iteration  340 : Cost=  4.6437074084187016\n",
            "Iteration  350 : Cost=  5.068751556346064\n",
            "Iteration  360 : Cost=  4.012180882308607\n",
            "Iteration  370 : Cost=  4.2978351026363235\n",
            "Iteration  380 : Cost=  3.260787703704273\n",
            "Iteration  390 : Cost=  4.243178858546885\n",
            "Iteration  400 : Cost=  4.793630926946812\n",
            "Iteration  410 : Cost=  4.561817978823322\n",
            "Iteration  420 : Cost=  4.175901988365107\n",
            "Iteration  430 : Cost=  4.078315075353434\n",
            "Iteration  440 : Cost=  5.166494574900795\n",
            "Iteration  450 : Cost=  4.508681081409259\n",
            "Iteration  460 : Cost=  4.519493272386911\n",
            "Iteration  470 : Cost=  4.223340215148756\n",
            "Iteration  480 : Cost=  5.328047732408383\n",
            "Iteration  490 : Cost=  3.8340457833338246\n",
            "Iteration  500 : Cost=  3.9440337253388345\n",
            "Iteration  510 : Cost=  4.839268202028779\n",
            "Iteration  520 : Cost=  2.7010866044522595\n",
            "Iteration  530 : Cost=  4.588403230044363\n",
            "Iteration  540 : Cost=  3.849098725275233\n",
            "Iteration  550 : Cost=  3.91226139273506\n",
            "Iteration  560 : Cost=  4.235263506304273\n",
            "Iteration  570 : Cost=  3.3393778155219693\n",
            "Iteration  580 : Cost=  3.0214430920578677\n",
            "Iteration  590 : Cost=  2.7118238510806263\n",
            "Iteration  600 : Cost=  4.062330337322826\n",
            "Iteration  610 : Cost=  3.802845187643756\n",
            "Iteration  620 : Cost=  2.895636228855102\n",
            "Iteration  630 : Cost=  4.700620638558812\n",
            "Iteration  640 : Cost=  3.542685322837696\n",
            "Iteration  650 : Cost=  3.787502559797578\n",
            "Iteration  660 : Cost=  4.651155940871221\n",
            "Iteration  670 : Cost=  3.4093244852296207\n",
            "Iteration  680 : Cost=  3.7667117522956968\n",
            "Iteration  690 : Cost=  3.008937515284993\n",
            "Iteration  700 : Cost=  3.569401316968117\n",
            "Iteration  710 : Cost=  3.776182830246587\n",
            "Iteration  720 : Cost=  4.241078828099894\n",
            "Iteration  730 : Cost=  3.271763740939288\n",
            "Iteration  740 : Cost=  3.5307909465683682\n",
            "Iteration  750 : Cost=  4.008924067501145\n",
            "Iteration  760 : Cost=  2.868041045381949\n",
            "Iteration  770 : Cost=  3.516956304507983\n",
            "Iteration  780 : Cost=  3.0420867712716237\n",
            "Iteration  790 : Cost=  3.0741156730458115\n",
            "Iteration  800 : Cost=  3.800207605913982\n",
            "Iteration  810 : Cost=  3.0421410700364038\n",
            "Iteration  820 : Cost=  3.5562879674005017\n",
            "Iteration  830 : Cost=  2.843453006875316\n",
            "Iteration  840 : Cost=  3.7006849786248255\n",
            "Iteration  850 : Cost=  4.049475702060062\n",
            "Iteration  860 : Cost=  3.579253108402593\n",
            "Iteration  870 : Cost=  3.6810321119006715\n",
            "Iteration  880 : Cost=  2.7356146718212178\n",
            "Iteration  890 : Cost=  4.123280600908205\n",
            "Iteration  900 : Cost=  3.943563632345648\n",
            "Iteration  910 : Cost=  4.606710120228601\n",
            "Iteration  920 : Cost=  3.2415460162415775\n",
            "Iteration  930 : Cost=  3.7299633526097735\n",
            "Iteration  940 : Cost=  3.4817980826972383\n",
            "Iteration  950 : Cost=  3.9070941537157404\n",
            "Iteration  960 : Cost=  2.9390798124566184\n",
            "Iteration  970 : Cost=  3.479697659813358\n",
            "Iteration  980 : Cost=  4.890479868012636\n",
            "Iteration  990 : Cost=  3.0147518145814813\n",
            "Iteration  1000 : Cost=  3.928586535806515\n"
          ],
          "name": "stdout"
        },
        {
          "output_type": "execute_result",
          "data": {
            "text/plain": [
              "0.285"
            ]
          },
          "metadata": {
            "tags": []
          },
          "execution_count": 23
        }
      ]
    },
    {
      "cell_type": "code",
      "metadata": {
        "id": "5tWZuVxFNEhk",
        "colab_type": "code",
        "colab": {}
      },
      "source": [
        "def optimize_sgdm_adam(w,training_data,rate=1e-3,beta1=0.9,beta2=0.999,epsilon=1e-8,maxiter=1000,info=10, batch_size=100):\n",
        "  list_cost = []\n",
        "  m = 0\n",
        "  v = 0\n",
        "  iter = 0\n",
        "  while(True):\n",
        "    i = np.random.randint(0, len(training_data)-batch_size)\n",
        "    cost, gradw = propagate(w, training_data[i:(i+batch_size)])\n",
        "    normsq_gradw = np.dot(gradw,gradw)\n",
        "    iter += 1\n",
        "    if(iter > maxiter or normsq_gradw < .01**2):\n",
        "      break\n",
        "    if(iter%info == 0):\n",
        "      print('Iteration ',iter,': Cost=', cost)\n",
        "    m = beta1*m+(1-beta1)*gradw\n",
        "    v = beta2*v+(1-beta2)*normsq_gradw\n",
        "    mt = m/(1-beta1**iter)\n",
        "    vt = v/(1-beta2**iter)\n",
        "    w = w - rate*mt/(epsilon+np.sqrt(vt))\n",
        "    list_cost.append(cost)\n",
        "  return(gradw, list_cost)\n"
      ],
      "execution_count": 0,
      "outputs": []
    },
    {
      "cell_type": "code",
      "metadata": {
        "id": "0zDViyatWWDK",
        "colab_type": "code",
        "colab": {
          "base_uri": "https://localhost:8080/",
          "height": 1000
        },
        "outputId": "ff0fdc31-21af-44fe-9df9-634b78ed3253"
      },
      "source": [
        "sgdm_adam_w,sgdm_adam_cost = optimize_sgdm_adam(w0, training_data[0:10000])\n",
        "test_params(sgdm_adam_w, test_data)"
      ],
      "execution_count": 57,
      "outputs": [
        {
          "output_type": "stream",
          "text": [
            "Iteration  10 : Cost= 31.056127773375316\n",
            "Iteration  20 : Cost= 24.264315581910523\n",
            "Iteration  30 : Cost= 27.310512521047826\n",
            "Iteration  40 : Cost= 26.604784113151577\n",
            "Iteration  50 : Cost= 25.371477589131743\n",
            "Iteration  60 : Cost= 25.519051791916375\n",
            "Iteration  70 : Cost= 23.762100352397674\n",
            "Iteration  80 : Cost= 20.533924762475667\n",
            "Iteration  90 : Cost= 22.635147609729266\n",
            "Iteration  100 : Cost= 18.768348967010276\n",
            "Iteration  110 : Cost= 21.286326350859028\n",
            "Iteration  120 : Cost= 15.27825425487577\n",
            "Iteration  130 : Cost= 22.96517496811518\n",
            "Iteration  140 : Cost= 19.322833536686133\n",
            "Iteration  150 : Cost= 21.24969091662852\n",
            "Iteration  160 : Cost= 18.731307418814513\n",
            "Iteration  170 : Cost= 21.127875091445404\n",
            "Iteration  180 : Cost= 20.76933147543524\n",
            "Iteration  190 : Cost= 16.607175633843866\n",
            "Iteration  200 : Cost= 20.21947791487739\n",
            "Iteration  210 : Cost= 16.985972349271634\n",
            "Iteration  220 : Cost= 16.146400191378895\n",
            "Iteration  230 : Cost= 17.431483469935685\n",
            "Iteration  240 : Cost= 13.977450188716235\n",
            "Iteration  250 : Cost= 14.224982427044894\n",
            "Iteration  260 : Cost= 12.906155389464562\n",
            "Iteration  270 : Cost= 14.20983056621677\n",
            "Iteration  280 : Cost= 15.063380644851538\n",
            "Iteration  290 : Cost= 15.863374412027595\n",
            "Iteration  300 : Cost= 14.773030382246889\n",
            "Iteration  310 : Cost= 12.07118163796779\n",
            "Iteration  320 : Cost= 13.153965504184953\n",
            "Iteration  330 : Cost= 11.037085121660523\n",
            "Iteration  340 : Cost= 11.542018892748485\n",
            "Iteration  350 : Cost= 10.289128273235317\n",
            "Iteration  360 : Cost= 10.282113795825364\n",
            "Iteration  370 : Cost= 11.403157611982703\n",
            "Iteration  380 : Cost= 13.25189647367243\n",
            "Iteration  390 : Cost= 11.927359738308278\n",
            "Iteration  400 : Cost= 13.419947103392955\n",
            "Iteration  410 : Cost= 10.694454169550232\n",
            "Iteration  420 : Cost= 11.470576834179605\n",
            "Iteration  430 : Cost= 10.757890545651145\n",
            "Iteration  440 : Cost= 10.553577612316053\n",
            "Iteration  450 : Cost= 9.441923423851394\n",
            "Iteration  460 : Cost= 10.442382007937951\n",
            "Iteration  470 : Cost= 11.558199662788239\n",
            "Iteration  480 : Cost= 10.326348740364029\n",
            "Iteration  490 : Cost= 10.369594280893686\n",
            "Iteration  500 : Cost= 9.980668892139866\n",
            "Iteration  510 : Cost= 9.565874385181017\n",
            "Iteration  520 : Cost= 8.939546733236046\n",
            "Iteration  530 : Cost= 8.418748752691977\n",
            "Iteration  540 : Cost= 8.47897043417261\n",
            "Iteration  550 : Cost= 10.081994591810869\n",
            "Iteration  560 : Cost= 9.55506092861956\n",
            "Iteration  570 : Cost= 11.168835745670181\n",
            "Iteration  580 : Cost= 8.938776270815858\n",
            "Iteration  590 : Cost= 11.192856302382033\n",
            "Iteration  600 : Cost= 10.265324450082812\n",
            "Iteration  610 : Cost= 8.986926272257293\n",
            "Iteration  620 : Cost= 8.814072931768932\n",
            "Iteration  630 : Cost= 10.04693595471756\n",
            "Iteration  640 : Cost= 9.998418718959028\n",
            "Iteration  650 : Cost= 8.422088515729822\n",
            "Iteration  660 : Cost= 8.791358168924598\n",
            "Iteration  670 : Cost= 8.072225830804728\n",
            "Iteration  680 : Cost= 8.89381839117995\n",
            "Iteration  690 : Cost= 8.011628586025747\n",
            "Iteration  700 : Cost= 8.928090646041092\n",
            "Iteration  710 : Cost= 9.662555890389706\n",
            "Iteration  720 : Cost= 7.192440470017325\n",
            "Iteration  730 : Cost= 8.576347054323357\n",
            "Iteration  740 : Cost= 10.277848102772836\n",
            "Iteration  750 : Cost= 8.253762090432083\n",
            "Iteration  760 : Cost= 8.522821896706564\n",
            "Iteration  770 : Cost= 7.549416229852025\n",
            "Iteration  780 : Cost= 10.33944941224979\n",
            "Iteration  790 : Cost= 8.9047996142477\n",
            "Iteration  800 : Cost= 8.281413571359472\n",
            "Iteration  810 : Cost= 8.239815597349354\n",
            "Iteration  820 : Cost= 8.385500310403717\n",
            "Iteration  830 : Cost= 9.560542050913268\n",
            "Iteration  840 : Cost= 8.684055888162852\n",
            "Iteration  850 : Cost= 9.262420553334582\n",
            "Iteration  860 : Cost= 8.100463045432933\n",
            "Iteration  870 : Cost= 7.404296990699468\n",
            "Iteration  880 : Cost= 7.676560012249442\n",
            "Iteration  890 : Cost= 7.4321956714682065\n",
            "Iteration  900 : Cost= 7.503933308638303\n",
            "Iteration  910 : Cost= 6.674551565079602\n",
            "Iteration  920 : Cost= 7.172036004958493\n",
            "Iteration  930 : Cost= 8.303024946565664\n",
            "Iteration  940 : Cost= 7.455224771507829\n",
            "Iteration  950 : Cost= 7.256305798982072\n",
            "Iteration  960 : Cost= 6.716503963477281\n",
            "Iteration  970 : Cost= 7.890129974907802\n",
            "Iteration  980 : Cost= 7.098209940050843\n",
            "Iteration  990 : Cost= 7.406265690026495\n",
            "Iteration  1000 : Cost= 7.140168265645846\n"
          ],
          "name": "stdout"
        },
        {
          "output_type": "execute_result",
          "data": {
            "text/plain": [
              "0.0239"
            ]
          },
          "metadata": {
            "tags": []
          },
          "execution_count": 57
        }
      ]
    },
    {
      "cell_type": "code",
      "metadata": {
        "id": "A2BtKKMxDU2m",
        "colab_type": "code",
        "colab": {
          "base_uri": "https://localhost:8080/",
          "height": 269
        },
        "outputId": "77dc3a7e-0e34-453f-b17b-f7ecef08d606"
      },
      "source": [
        "graph(gd=gdcost,sgdm=sgdmcost, sgdm_moment=sgdm_moment_cost, sgn=sgn_cost, sgadam=sgdm_adam_cost, sgdmn=sgdmn_cost)"
      ],
      "execution_count": 59,
      "outputs": [
        {
          "output_type": "display_data",
          "data": {
            "image/png": "[encoded data removed]",
            "text/plain": [
              "<Figure size 432x288 with 1 Axes>"
            ]
          },
          "metadata": {
            "tags": []
          }
        }
      ]
    }
  ]
}