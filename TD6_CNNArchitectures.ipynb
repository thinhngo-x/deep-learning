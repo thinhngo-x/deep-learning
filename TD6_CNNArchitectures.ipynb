{
  "nbformat": 4,
  "nbformat_minor": 0,
  "metadata": {
    "colab": {
      "name": "TD6_CNNArchitectures.ipynb",
      "provenance": [],
      "collapsed_sections": [
        "pOukmG4j7Qyx",
        "ZTkfVe_TbECg"
      ],
      "toc_visible": true,
      "authorship_tag": "ABX9TyOtPB9ncnHAYhCCvxkSWNKo",
      "include_colab_link": true
    },
    "kernelspec": {
      "name": "python3",
      "display_name": "Python 3"
    },
    "accelerator": "GPU",
    "widgets": {
      "application/vnd.jupyter.widget-state+json": {
        "a2432529ab734f4cae8aceb7a7a3129a": {
          "model_module": "@jupyter-widgets/controls",
          "model_name": "HBoxModel",
          "state": {
            "_view_name": "HBoxView",
            "_dom_classes": [],
            "_model_name": "HBoxModel",
            "_view_module": "@jupyter-widgets/controls",
            "_model_module_version": "1.5.0",
            "_view_count": null,
            "_view_module_version": "1.5.0",
            "box_style": "",
            "layout": "IPY_MODEL_deaed59505a04076b18c991182b8482d",
            "_model_module": "@jupyter-widgets/controls",
            "children": [
              "IPY_MODEL_ac12f8ff8a524269aafa86edf4160a4c",
              "IPY_MODEL_46b2d262143d48b9b27167bf519a4a2c"
            ]
          }
        },
        "deaed59505a04076b18c991182b8482d": {
          "model_module": "@jupyter-widgets/base",
          "model_name": "LayoutModel",
          "state": {
            "_view_name": "LayoutView",
            "grid_template_rows": null,
            "right": null,
            "justify_content": null,
            "_view_module": "@jupyter-widgets/base",
            "overflow": null,
            "_model_module_version": "1.2.0",
            "_view_count": null,
            "flex_flow": null,
            "width": null,
            "min_width": null,
            "border": null,
            "align_items": null,
            "bottom": null,
            "_model_module": "@jupyter-widgets/base",
            "top": null,
            "grid_column": null,
            "overflow_y": null,
            "overflow_x": null,
            "grid_auto_flow": null,
            "grid_area": null,
            "grid_template_columns": null,
            "flex": null,
            "_model_name": "LayoutModel",
            "justify_items": null,
            "grid_row": null,
            "max_height": null,
            "align_content": null,
            "visibility": null,
            "align_self": null,
            "height": null,
            "min_height": null,
            "padding": null,
            "grid_auto_rows": null,
            "grid_gap": null,
            "max_width": null,
            "order": null,
            "_view_module_version": "1.2.0",
            "grid_template_areas": null,
            "object_position": null,
            "object_fit": null,
            "grid_auto_columns": null,
            "margin": null,
            "display": null,
            "left": null
          }
        },
        "ac12f8ff8a524269aafa86edf4160a4c": {
          "model_module": "@jupyter-widgets/controls",
          "model_name": "IntProgressModel",
          "state": {
            "_view_name": "ProgressView",
            "style": "IPY_MODEL_631501490b2f4a5f8e161f3e9eeba26b",
            "_dom_classes": [],
            "description": "",
            "_model_name": "IntProgressModel",
            "bar_style": "success",
            "max": 1,
            "_view_module": "@jupyter-widgets/controls",
            "_model_module_version": "1.5.0",
            "value": 1,
            "_view_count": null,
            "_view_module_version": "1.5.0",
            "orientation": "horizontal",
            "min": 0,
            "description_tooltip": null,
            "_model_module": "@jupyter-widgets/controls",
            "layout": "IPY_MODEL_20265dcad32349a68e8d84287b08988a"
          }
        },
        "46b2d262143d48b9b27167bf519a4a2c": {
          "model_module": "@jupyter-widgets/controls",
          "model_name": "HTMLModel",
          "state": {
            "_view_name": "HTMLView",
            "style": "IPY_MODEL_ba1e656a9c00496081b4e3e8b4e3f784",
            "_dom_classes": [],
            "description": "",
            "_model_name": "HTMLModel",
            "placeholder": "​",
            "_view_module": "@jupyter-widgets/controls",
            "_model_module_version": "1.5.0",
            "value": " 170500096/? [00:08&lt;00:00, 20472350.46it/s]",
            "_view_count": null,
            "_view_module_version": "1.5.0",
            "description_tooltip": null,
            "_model_module": "@jupyter-widgets/controls",
            "layout": "IPY_MODEL_080d0eb611354d5cae3c8a84d06f8892"
          }
        },
        "631501490b2f4a5f8e161f3e9eeba26b": {
          "model_module": "@jupyter-widgets/controls",
          "model_name": "ProgressStyleModel",
          "state": {
            "_view_name": "StyleView",
            "_model_name": "ProgressStyleModel",
            "description_width": "initial",
            "_view_module": "@jupyter-widgets/base",
            "_model_module_version": "1.5.0",
            "_view_count": null,
            "_view_module_version": "1.2.0",
            "bar_color": null,
            "_model_module": "@jupyter-widgets/controls"
          }
        },
        "20265dcad32349a68e8d84287b08988a": {
          "model_module": "@jupyter-widgets/base",
          "model_name": "LayoutModel",
          "state": {
            "_view_name": "LayoutView",
            "grid_template_rows": null,
            "right": null,
            "justify_content": null,
            "_view_module": "@jupyter-widgets/base",
            "overflow": null,
            "_model_module_version": "1.2.0",
            "_view_count": null,
            "flex_flow": null,
            "width": null,
            "min_width": null,
            "border": null,
            "align_items": null,
            "bottom": null,
            "_model_module": "@jupyter-widgets/base",
            "top": null,
            "grid_column": null,
            "overflow_y": null,
            "overflow_x": null,
            "grid_auto_flow": null,
            "grid_area": null,
            "grid_template_columns": null,
            "flex": null,
            "_model_name": "LayoutModel",
            "justify_items": null,
            "grid_row": null,
            "max_height": null,
            "align_content": null,
            "visibility": null,
            "align_self": null,
            "height": null,
            "min_height": null,
            "padding": null,
            "grid_auto_rows": null,
            "grid_gap": null,
            "max_width": null,
            "order": null,
            "_view_module_version": "1.2.0",
            "grid_template_areas": null,
            "object_position": null,
            "object_fit": null,
            "grid_auto_columns": null,
            "margin": null,
            "display": null,
            "left": null
          }
        },
        "ba1e656a9c00496081b4e3e8b4e3f784": {
          "model_module": "@jupyter-widgets/controls",
          "model_name": "DescriptionStyleModel",
          "state": {
            "_view_name": "StyleView",
            "_model_name": "DescriptionStyleModel",
            "description_width": "",
            "_view_module": "@jupyter-widgets/base",
            "_model_module_version": "1.5.0",
            "_view_count": null,
            "_view_module_version": "1.2.0",
            "_model_module": "@jupyter-widgets/controls"
          }
        },
        "080d0eb611354d5cae3c8a84d06f8892": {
          "model_module": "@jupyter-widgets/base",
          "model_name": "LayoutModel",
          "state": {
            "_view_name": "LayoutView",
            "grid_template_rows": null,
            "right": null,
            "justify_content": null,
            "_view_module": "@jupyter-widgets/base",
            "overflow": null,
            "_model_module_version": "1.2.0",
            "_view_count": null,
            "flex_flow": null,
            "width": null,
            "min_width": null,
            "border": null,
            "align_items": null,
            "bottom": null,
            "_model_module": "@jupyter-widgets/base",
            "top": null,
            "grid_column": null,
            "overflow_y": null,
            "overflow_x": null,
            "grid_auto_flow": null,
            "grid_area": null,
            "grid_template_columns": null,
            "flex": null,
            "_model_name": "LayoutModel",
            "justify_items": null,
            "grid_row": null,
            "max_height": null,
            "align_content": null,
            "visibility": null,
            "align_self": null,
            "height": null,
            "min_height": null,
            "padding": null,
            "grid_auto_rows": null,
            "grid_gap": null,
            "max_width": null,
            "order": null,
            "_view_module_version": "1.2.0",
            "grid_template_areas": null,
            "object_position": null,
            "object_fit": null,
            "grid_auto_columns": null,
            "margin": null,
            "display": null,
            "left": null
          }
        },
        "013996910f7f4d2697faacca35ee6728": {
          "model_module": "@jupyter-widgets/controls",
          "model_name": "HBoxModel",
          "state": {
            "_view_name": "HBoxView",
            "_dom_classes": [],
            "_model_name": "HBoxModel",
            "_view_module": "@jupyter-widgets/controls",
            "_model_module_version": "1.5.0",
            "_view_count": null,
            "_view_module_version": "1.5.0",
            "box_style": "",
            "layout": "IPY_MODEL_66282fa8c7344afcafbb587b77461ef0",
            "_model_module": "@jupyter-widgets/controls",
            "children": [
              "IPY_MODEL_9c11ed381ae148e08bf81361e8c72451",
              "IPY_MODEL_89e7dccc6d4a4dc09f657b875031cb87"
            ]
          }
        },
        "66282fa8c7344afcafbb587b77461ef0": {
          "model_module": "@jupyter-widgets/base",
          "model_name": "LayoutModel",
          "state": {
            "_view_name": "LayoutView",
            "grid_template_rows": null,
            "right": null,
            "justify_content": null,
            "_view_module": "@jupyter-widgets/base",
            "overflow": null,
            "_model_module_version": "1.2.0",
            "_view_count": null,
            "flex_flow": null,
            "width": null,
            "min_width": null,
            "border": null,
            "align_items": null,
            "bottom": null,
            "_model_module": "@jupyter-widgets/base",
            "top": null,
            "grid_column": null,
            "overflow_y": null,
            "overflow_x": null,
            "grid_auto_flow": null,
            "grid_area": null,
            "grid_template_columns": null,
            "flex": null,
            "_model_name": "LayoutModel",
            "justify_items": null,
            "grid_row": null,
            "max_height": null,
            "align_content": null,
            "visibility": null,
            "align_self": null,
            "height": null,
            "min_height": null,
            "padding": null,
            "grid_auto_rows": null,
            "grid_gap": null,
            "max_width": null,
            "order": null,
            "_view_module_version": "1.2.0",
            "grid_template_areas": null,
            "object_position": null,
            "object_fit": null,
            "grid_auto_columns": null,
            "margin": null,
            "display": null,
            "left": null
          }
        },
        "9c11ed381ae148e08bf81361e8c72451": {
          "model_module": "@jupyter-widgets/controls",
          "model_name": "IntProgressModel",
          "state": {
            "_view_name": "ProgressView",
            "style": "IPY_MODEL_69293b6c1526455d8fec5c05297f310e",
            "_dom_classes": [],
            "description": "100%",
            "_model_name": "IntProgressModel",
            "bar_style": "success",
            "max": 244418560,
            "_view_module": "@jupyter-widgets/controls",
            "_model_module_version": "1.5.0",
            "value": 244418560,
            "_view_count": null,
            "_view_module_version": "1.5.0",
            "orientation": "horizontal",
            "min": 0,
            "description_tooltip": null,
            "_model_module": "@jupyter-widgets/controls",
            "layout": "IPY_MODEL_fa883ba7653d442ab56e97f874267c47"
          }
        },
        "89e7dccc6d4a4dc09f657b875031cb87": {
          "model_module": "@jupyter-widgets/controls",
          "model_name": "HTMLModel",
          "state": {
            "_view_name": "HTMLView",
            "style": "IPY_MODEL_bb5e62dd36154e4c9c5330fc2dd82485",
            "_dom_classes": [],
            "description": "",
            "_model_name": "HTMLModel",
            "placeholder": "​",
            "_view_module": "@jupyter-widgets/controls",
            "_model_module_version": "1.5.0",
            "value": " 233M/233M [00:02&lt;00:00, 88.2MB/s]",
            "_view_count": null,
            "_view_module_version": "1.5.0",
            "description_tooltip": null,
            "_model_module": "@jupyter-widgets/controls",
            "layout": "IPY_MODEL_259023d69c3e40f39ff8c890bb47cbae"
          }
        },
        "69293b6c1526455d8fec5c05297f310e": {
          "model_module": "@jupyter-widgets/controls",
          "model_name": "ProgressStyleModel",
          "state": {
            "_view_name": "StyleView",
            "_model_name": "ProgressStyleModel",
            "description_width": "initial",
            "_view_module": "@jupyter-widgets/base",
            "_model_module_version": "1.5.0",
            "_view_count": null,
            "_view_module_version": "1.2.0",
            "bar_color": null,
            "_model_module": "@jupyter-widgets/controls"
          }
        },
        "fa883ba7653d442ab56e97f874267c47": {
          "model_module": "@jupyter-widgets/base",
          "model_name": "LayoutModel",
          "state": {
            "_view_name": "LayoutView",
            "grid_template_rows": null,
            "right": null,
            "justify_content": null,
            "_view_module": "@jupyter-widgets/base",
            "overflow": null,
            "_model_module_version": "1.2.0",
            "_view_count": null,
            "flex_flow": null,
            "width": null,
            "min_width": null,
            "border": null,
            "align_items": null,
            "bottom": null,
            "_model_module": "@jupyter-widgets/base",
            "top": null,
            "grid_column": null,
            "overflow_y": null,
            "overflow_x": null,
            "grid_auto_flow": null,
            "grid_area": null,
            "grid_template_columns": null,
            "flex": null,
            "_model_name": "LayoutModel",
            "justify_items": null,
            "grid_row": null,
            "max_height": null,
            "align_content": null,
            "visibility": null,
            "align_self": null,
            "height": null,
            "min_height": null,
            "padding": null,
            "grid_auto_rows": null,
            "grid_gap": null,
            "max_width": null,
            "order": null,
            "_view_module_version": "1.2.0",
            "grid_template_areas": null,
            "object_position": null,
            "object_fit": null,
            "grid_auto_columns": null,
            "margin": null,
            "display": null,
            "left": null
          }
        },
        "bb5e62dd36154e4c9c5330fc2dd82485": {
          "model_module": "@jupyter-widgets/controls",
          "model_name": "DescriptionStyleModel",
          "state": {
            "_view_name": "StyleView",
            "_model_name": "DescriptionStyleModel",
            "description_width": "",
            "_view_module": "@jupyter-widgets/base",
            "_model_module_version": "1.5.0",
            "_view_count": null,
            "_view_module_version": "1.2.0",
            "_model_module": "@jupyter-widgets/controls"
          }
        },
        "259023d69c3e40f39ff8c890bb47cbae": {
          "model_module": "@jupyter-widgets/base",
          "model_name": "LayoutModel",
          "state": {
            "_view_name": "LayoutView",
            "grid_template_rows": null,
            "right": null,
            "justify_content": null,
            "_view_module": "@jupyter-widgets/base",
            "overflow": null,
            "_model_module_version": "1.2.0",
            "_view_count": null,
            "flex_flow": null,
            "width": null,
            "min_width": null,
            "border": null,
            "align_items": null,
            "bottom": null,
            "_model_module": "@jupyter-widgets/base",
            "top": null,
            "grid_column": null,
            "overflow_y": null,
            "overflow_x": null,
            "grid_auto_flow": null,
            "grid_area": null,
            "grid_template_columns": null,
            "flex": null,
            "_model_name": "LayoutModel",
            "justify_items": null,
            "grid_row": null,
            "max_height": null,
            "align_content": null,
            "visibility": null,
            "align_self": null,
            "height": null,
            "min_height": null,
            "padding": null,
            "grid_auto_rows": null,
            "grid_gap": null,
            "max_width": null,
            "order": null,
            "_view_module_version": "1.2.0",
            "grid_template_areas": null,
            "object_position": null,
            "object_fit": null,
            "grid_auto_columns": null,
            "margin": null,
            "display": null,
            "left": null
          }
        },
        "b02c7733cfbe46638df97d3df56a9306": {
          "model_module": "@jupyter-widgets/controls",
          "model_name": "HBoxModel",
          "state": {
            "_view_name": "HBoxView",
            "_dom_classes": [],
            "_model_name": "HBoxModel",
            "_view_module": "@jupyter-widgets/controls",
            "_model_module_version": "1.5.0",
            "_view_count": null,
            "_view_module_version": "1.5.0",
            "box_style": "",
            "layout": "IPY_MODEL_f2f213c29b3e44549ba1072d707cf361",
            "_model_module": "@jupyter-widgets/controls",
            "children": [
              "IPY_MODEL_fb75d7e9be574831a4772810cc17c7e7",
              "IPY_MODEL_50e5fe6003a54a2fb85af9ad74b048cd"
            ]
          }
        },
        "f2f213c29b3e44549ba1072d707cf361": {
          "model_module": "@jupyter-widgets/base",
          "model_name": "LayoutModel",
          "state": {
            "_view_name": "LayoutView",
            "grid_template_rows": null,
            "right": null,
            "justify_content": null,
            "_view_module": "@jupyter-widgets/base",
            "overflow": null,
            "_model_module_version": "1.2.0",
            "_view_count": null,
            "flex_flow": null,
            "width": null,
            "min_width": null,
            "border": null,
            "align_items": null,
            "bottom": null,
            "_model_module": "@jupyter-widgets/base",
            "top": null,
            "grid_column": null,
            "overflow_y": null,
            "overflow_x": null,
            "grid_auto_flow": null,
            "grid_area": null,
            "grid_template_columns": null,
            "flex": null,
            "_model_name": "LayoutModel",
            "justify_items": null,
            "grid_row": null,
            "max_height": null,
            "align_content": null,
            "visibility": null,
            "align_self": null,
            "height": null,
            "min_height": null,
            "padding": null,
            "grid_auto_rows": null,
            "grid_gap": null,
            "max_width": null,
            "order": null,
            "_view_module_version": "1.2.0",
            "grid_template_areas": null,
            "object_position": null,
            "object_fit": null,
            "grid_auto_columns": null,
            "margin": null,
            "display": null,
            "left": null
          }
        },
        "fb75d7e9be574831a4772810cc17c7e7": {
          "model_module": "@jupyter-widgets/controls",
          "model_name": "IntProgressModel",
          "state": {
            "_view_name": "ProgressView",
            "style": "IPY_MODEL_51a8ab02847740e7a0308f7dde72f08f",
            "_dom_classes": [],
            "description": "100%",
            "_model_name": "IntProgressModel",
            "bar_style": "success",
            "max": 531503671,
            "_view_module": "@jupyter-widgets/controls",
            "_model_module_version": "1.5.0",
            "value": 531503671,
            "_view_count": null,
            "_view_module_version": "1.5.0",
            "orientation": "horizontal",
            "min": 0,
            "description_tooltip": null,
            "_model_module": "@jupyter-widgets/controls",
            "layout": "IPY_MODEL_aa63e2d9761f4137b8300144ab092686"
          }
        },
        "50e5fe6003a54a2fb85af9ad74b048cd": {
          "model_module": "@jupyter-widgets/controls",
          "model_name": "HTMLModel",
          "state": {
            "_view_name": "HTMLView",
            "style": "IPY_MODEL_1717f68be248410d9b27cc5ded0fe851",
            "_dom_classes": [],
            "description": "",
            "_model_name": "HTMLModel",
            "placeholder": "​",
            "_view_module": "@jupyter-widgets/controls",
            "_model_module_version": "1.5.0",
            "value": " 507M/507M [08:03&lt;00:00, 1.10MB/s]",
            "_view_count": null,
            "_view_module_version": "1.5.0",
            "description_tooltip": null,
            "_model_module": "@jupyter-widgets/controls",
            "layout": "IPY_MODEL_d841f87f62dc45caba71526224d383e7"
          }
        },
        "51a8ab02847740e7a0308f7dde72f08f": {
          "model_module": "@jupyter-widgets/controls",
          "model_name": "ProgressStyleModel",
          "state": {
            "_view_name": "StyleView",
            "_model_name": "ProgressStyleModel",
            "description_width": "initial",
            "_view_module": "@jupyter-widgets/base",
            "_model_module_version": "1.5.0",
            "_view_count": null,
            "_view_module_version": "1.2.0",
            "bar_color": null,
            "_model_module": "@jupyter-widgets/controls"
          }
        },
        "aa63e2d9761f4137b8300144ab092686": {
          "model_module": "@jupyter-widgets/base",
          "model_name": "LayoutModel",
          "state": {
            "_view_name": "LayoutView",
            "grid_template_rows": null,
            "right": null,
            "justify_content": null,
            "_view_module": "@jupyter-widgets/base",
            "overflow": null,
            "_model_module_version": "1.2.0",
            "_view_count": null,
            "flex_flow": null,
            "width": null,
            "min_width": null,
            "border": null,
            "align_items": null,
            "bottom": null,
            "_model_module": "@jupyter-widgets/base",
            "top": null,
            "grid_column": null,
            "overflow_y": null,
            "overflow_x": null,
            "grid_auto_flow": null,
            "grid_area": null,
            "grid_template_columns": null,
            "flex": null,
            "_model_name": "LayoutModel",
            "justify_items": null,
            "grid_row": null,
            "max_height": null,
            "align_content": null,
            "visibility": null,
            "align_self": null,
            "height": null,
            "min_height": null,
            "padding": null,
            "grid_auto_rows": null,
            "grid_gap": null,
            "max_width": null,
            "order": null,
            "_view_module_version": "1.2.0",
            "grid_template_areas": null,
            "object_position": null,
            "object_fit": null,
            "grid_auto_columns": null,
            "margin": null,
            "display": null,
            "left": null
          }
        },
        "1717f68be248410d9b27cc5ded0fe851": {
          "model_module": "@jupyter-widgets/controls",
          "model_name": "DescriptionStyleModel",
          "state": {
            "_view_name": "StyleView",
            "_model_name": "DescriptionStyleModel",
            "description_width": "",
            "_view_module": "@jupyter-widgets/base",
            "_model_module_version": "1.5.0",
            "_view_count": null,
            "_view_module_version": "1.2.0",
            "_model_module": "@jupyter-widgets/controls"
          }
        },
        "d841f87f62dc45caba71526224d383e7": {
          "model_module": "@jupyter-widgets/base",
          "model_name": "LayoutModel",
          "state": {
            "_view_name": "LayoutView",
            "grid_template_rows": null,
            "right": null,
            "justify_content": null,
            "_view_module": "@jupyter-widgets/base",
            "overflow": null,
            "_model_module_version": "1.2.0",
            "_view_count": null,
            "flex_flow": null,
            "width": null,
            "min_width": null,
            "border": null,
            "align_items": null,
            "bottom": null,
            "_model_module": "@jupyter-widgets/base",
            "top": null,
            "grid_column": null,
            "overflow_y": null,
            "overflow_x": null,
            "grid_auto_flow": null,
            "grid_area": null,
            "grid_template_columns": null,
            "flex": null,
            "_model_name": "LayoutModel",
            "justify_items": null,
            "grid_row": null,
            "max_height": null,
            "align_content": null,
            "visibility": null,
            "align_self": null,
            "height": null,
            "min_height": null,
            "padding": null,
            "grid_auto_rows": null,
            "grid_gap": null,
            "max_width": null,
            "order": null,
            "_view_module_version": "1.2.0",
            "grid_template_areas": null,
            "object_position": null,
            "object_fit": null,
            "grid_auto_columns": null,
            "margin": null,
            "display": null,
            "left": null
          }
        },
        "f07a6b9698d841698c38abcfc4017653": {
          "model_module": "@jupyter-widgets/controls",
          "model_name": "HBoxModel",
          "state": {
            "_view_name": "HBoxView",
            "_dom_classes": [],
            "_model_name": "HBoxModel",
            "_view_module": "@jupyter-widgets/controls",
            "_model_module_version": "1.5.0",
            "_view_count": null,
            "_view_module_version": "1.5.0",
            "box_style": "",
            "layout": "IPY_MODEL_d50821987164451383836b569c077b0c",
            "_model_module": "@jupyter-widgets/controls",
            "children": [
              "IPY_MODEL_f4e8e515f4da4911ad72f9578323555f",
              "IPY_MODEL_65ab8ca766f44de9b855f287827dd1db"
            ]
          }
        },
        "d50821987164451383836b569c077b0c": {
          "model_module": "@jupyter-widgets/base",
          "model_name": "LayoutModel",
          "state": {
            "_view_name": "LayoutView",
            "grid_template_rows": null,
            "right": null,
            "justify_content": null,
            "_view_module": "@jupyter-widgets/base",
            "overflow": null,
            "_model_module_version": "1.2.0",
            "_view_count": null,
            "flex_flow": null,
            "width": null,
            "min_width": null,
            "border": null,
            "align_items": null,
            "bottom": null,
            "_model_module": "@jupyter-widgets/base",
            "top": null,
            "grid_column": null,
            "overflow_y": null,
            "overflow_x": null,
            "grid_auto_flow": null,
            "grid_area": null,
            "grid_template_columns": null,
            "flex": null,
            "_model_name": "LayoutModel",
            "justify_items": null,
            "grid_row": null,
            "max_height": null,
            "align_content": null,
            "visibility": null,
            "align_self": null,
            "height": null,
            "min_height": null,
            "padding": null,
            "grid_auto_rows": null,
            "grid_gap": null,
            "max_width": null,
            "order": null,
            "_view_module_version": "1.2.0",
            "grid_template_areas": null,
            "object_position": null,
            "object_fit": null,
            "grid_auto_columns": null,
            "margin": null,
            "display": null,
            "left": null
          }
        },
        "f4e8e515f4da4911ad72f9578323555f": {
          "model_module": "@jupyter-widgets/controls",
          "model_name": "IntProgressModel",
          "state": {
            "_view_name": "ProgressView",
            "style": "IPY_MODEL_f7c2a6b6114f415f8e51649b7f7682c0",
            "_dom_classes": [],
            "description": "100%",
            "_model_name": "IntProgressModel",
            "bar_style": "success",
            "max": 10,
            "_view_module": "@jupyter-widgets/controls",
            "_model_module_version": "1.5.0",
            "value": 10,
            "_view_count": null,
            "_view_module_version": "1.5.0",
            "orientation": "horizontal",
            "min": 0,
            "description_tooltip": null,
            "_model_module": "@jupyter-widgets/controls",
            "layout": "IPY_MODEL_3433a9abb9fb4527890283c2e6fdac3c"
          }
        },
        "65ab8ca766f44de9b855f287827dd1db": {
          "model_module": "@jupyter-widgets/controls",
          "model_name": "HTMLModel",
          "state": {
            "_view_name": "HTMLView",
            "style": "IPY_MODEL_9ada21cf2880481bba50cc424642e5f3",
            "_dom_classes": [],
            "description": "",
            "_model_name": "HTMLModel",
            "placeholder": "​",
            "_view_module": "@jupyter-widgets/controls",
            "_model_module_version": "1.5.0",
            "value": " 10/10 [05:27&lt;00:00, 32.77s/it]",
            "_view_count": null,
            "_view_module_version": "1.5.0",
            "description_tooltip": null,
            "_model_module": "@jupyter-widgets/controls",
            "layout": "IPY_MODEL_8520902a82dc42adabd81004f1f71df2"
          }
        },
        "f7c2a6b6114f415f8e51649b7f7682c0": {
          "model_module": "@jupyter-widgets/controls",
          "model_name": "ProgressStyleModel",
          "state": {
            "_view_name": "StyleView",
            "_model_name": "ProgressStyleModel",
            "description_width": "initial",
            "_view_module": "@jupyter-widgets/base",
            "_model_module_version": "1.5.0",
            "_view_count": null,
            "_view_module_version": "1.2.0",
            "bar_color": null,
            "_model_module": "@jupyter-widgets/controls"
          }
        },
        "3433a9abb9fb4527890283c2e6fdac3c": {
          "model_module": "@jupyter-widgets/base",
          "model_name": "LayoutModel",
          "state": {
            "_view_name": "LayoutView",
            "grid_template_rows": null,
            "right": null,
            "justify_content": null,
            "_view_module": "@jupyter-widgets/base",
            "overflow": null,
            "_model_module_version": "1.2.0",
            "_view_count": null,
            "flex_flow": null,
            "width": null,
            "min_width": null,
            "border": null,
            "align_items": null,
            "bottom": null,
            "_model_module": "@jupyter-widgets/base",
            "top": null,
            "grid_column": null,
            "overflow_y": null,
            "overflow_x": null,
            "grid_auto_flow": null,
            "grid_area": null,
            "grid_template_columns": null,
            "flex": null,
            "_model_name": "LayoutModel",
            "justify_items": null,
            "grid_row": null,
            "max_height": null,
            "align_content": null,
            "visibility": null,
            "align_self": null,
            "height": null,
            "min_height": null,
            "padding": null,
            "grid_auto_rows": null,
            "grid_gap": null,
            "max_width": null,
            "order": null,
            "_view_module_version": "1.2.0",
            "grid_template_areas": null,
            "object_position": null,
            "object_fit": null,
            "grid_auto_columns": null,
            "margin": null,
            "display": null,
            "left": null
          }
        },
        "9ada21cf2880481bba50cc424642e5f3": {
          "model_module": "@jupyter-widgets/controls",
          "model_name": "DescriptionStyleModel",
          "state": {
            "_view_name": "StyleView",
            "_model_name": "DescriptionStyleModel",
            "description_width": "",
            "_view_module": "@jupyter-widgets/base",
            "_model_module_version": "1.5.0",
            "_view_count": null,
            "_view_module_version": "1.2.0",
            "_model_module": "@jupyter-widgets/controls"
          }
        },
        "8520902a82dc42adabd81004f1f71df2": {
          "model_module": "@jupyter-widgets/base",
          "model_name": "LayoutModel",
          "state": {
            "_view_name": "LayoutView",
            "grid_template_rows": null,
            "right": null,
            "justify_content": null,
            "_view_module": "@jupyter-widgets/base",
            "overflow": null,
            "_model_module_version": "1.2.0",
            "_view_count": null,
            "flex_flow": null,
            "width": null,
            "min_width": null,
            "border": null,
            "align_items": null,
            "bottom": null,
            "_model_module": "@jupyter-widgets/base",
            "top": null,
            "grid_column": null,
            "overflow_y": null,
            "overflow_x": null,
            "grid_auto_flow": null,
            "grid_area": null,
            "grid_template_columns": null,
            "flex": null,
            "_model_name": "LayoutModel",
            "justify_items": null,
            "grid_row": null,
            "max_height": null,
            "align_content": null,
            "visibility": null,
            "align_self": null,
            "height": null,
            "min_height": null,
            "padding": null,
            "grid_auto_rows": null,
            "grid_gap": null,
            "max_width": null,
            "order": null,
            "_view_module_version": "1.2.0",
            "grid_template_areas": null,
            "object_position": null,
            "object_fit": null,
            "grid_auto_columns": null,
            "margin": null,
            "display": null,
            "left": null
          }
        },
        "46d7bbaccad0458ab52d5e44ad6aeac4": {
          "model_module": "@jupyter-widgets/controls",
          "model_name": "HBoxModel",
          "state": {
            "_view_name": "HBoxView",
            "_dom_classes": [],
            "_model_name": "HBoxModel",
            "_view_module": "@jupyter-widgets/controls",
            "_model_module_version": "1.5.0",
            "_view_count": null,
            "_view_module_version": "1.5.0",
            "box_style": "",
            "layout": "IPY_MODEL_3e36bcdc654d4b3db4ce02f57dda70d8",
            "_model_module": "@jupyter-widgets/controls",
            "children": [
              "IPY_MODEL_d026ff66c2a2494fa434e9fb2679d191",
              "IPY_MODEL_76b9c5fa459840a78ab2dd059c7612c7"
            ]
          }
        },
        "3e36bcdc654d4b3db4ce02f57dda70d8": {
          "model_module": "@jupyter-widgets/base",
          "model_name": "LayoutModel",
          "state": {
            "_view_name": "LayoutView",
            "grid_template_rows": null,
            "right": null,
            "justify_content": null,
            "_view_module": "@jupyter-widgets/base",
            "overflow": null,
            "_model_module_version": "1.2.0",
            "_view_count": null,
            "flex_flow": null,
            "width": null,
            "min_width": null,
            "border": null,
            "align_items": null,
            "bottom": null,
            "_model_module": "@jupyter-widgets/base",
            "top": null,
            "grid_column": null,
            "overflow_y": null,
            "overflow_x": null,
            "grid_auto_flow": null,
            "grid_area": null,
            "grid_template_columns": null,
            "flex": null,
            "_model_name": "LayoutModel",
            "justify_items": null,
            "grid_row": null,
            "max_height": null,
            "align_content": null,
            "visibility": null,
            "align_self": null,
            "height": null,
            "min_height": null,
            "padding": null,
            "grid_auto_rows": null,
            "grid_gap": null,
            "max_width": null,
            "order": null,
            "_view_module_version": "1.2.0",
            "grid_template_areas": null,
            "object_position": null,
            "object_fit": null,
            "grid_auto_columns": null,
            "margin": null,
            "display": null,
            "left": null
          }
        },
        "d026ff66c2a2494fa434e9fb2679d191": {
          "model_module": "@jupyter-widgets/controls",
          "model_name": "IntProgressModel",
          "state": {
            "_view_name": "ProgressView",
            "style": "IPY_MODEL_67df71fcc551486b9ef5642102d1b484",
            "_dom_classes": [],
            "description": "100%",
            "_model_name": "IntProgressModel",
            "bar_style": "success",
            "max": 10,
            "_view_module": "@jupyter-widgets/controls",
            "_model_module_version": "1.5.0",
            "value": 10,
            "_view_count": null,
            "_view_module_version": "1.5.0",
            "orientation": "horizontal",
            "min": 0,
            "description_tooltip": null,
            "_model_module": "@jupyter-widgets/controls",
            "layout": "IPY_MODEL_a05c20fe5e204169acb751f87ee64acd"
          }
        },
        "76b9c5fa459840a78ab2dd059c7612c7": {
          "model_module": "@jupyter-widgets/controls",
          "model_name": "HTMLModel",
          "state": {
            "_view_name": "HTMLView",
            "style": "IPY_MODEL_a281c4933fcc4bf8a01b3a5baf274c9f",
            "_dom_classes": [],
            "description": "",
            "_model_name": "HTMLModel",
            "placeholder": "​",
            "_view_module": "@jupyter-widgets/controls",
            "_model_module_version": "1.5.0",
            "value": " 10/10 [05:13&lt;00:00, 31.32s/it]",
            "_view_count": null,
            "_view_module_version": "1.5.0",
            "description_tooltip": null,
            "_model_module": "@jupyter-widgets/controls",
            "layout": "IPY_MODEL_82977c4a15fb4d148537a14d25c626cb"
          }
        },
        "67df71fcc551486b9ef5642102d1b484": {
          "model_module": "@jupyter-widgets/controls",
          "model_name": "ProgressStyleModel",
          "state": {
            "_view_name": "StyleView",
            "_model_name": "ProgressStyleModel",
            "description_width": "initial",
            "_view_module": "@jupyter-widgets/base",
            "_model_module_version": "1.5.0",
            "_view_count": null,
            "_view_module_version": "1.2.0",
            "bar_color": null,
            "_model_module": "@jupyter-widgets/controls"
          }
        },
        "a05c20fe5e204169acb751f87ee64acd": {
          "model_module": "@jupyter-widgets/base",
          "model_name": "LayoutModel",
          "state": {
            "_view_name": "LayoutView",
            "grid_template_rows": null,
            "right": null,
            "justify_content": null,
            "_view_module": "@jupyter-widgets/base",
            "overflow": null,
            "_model_module_version": "1.2.0",
            "_view_count": null,
            "flex_flow": null,
            "width": null,
            "min_width": null,
            "border": null,
            "align_items": null,
            "bottom": null,
            "_model_module": "@jupyter-widgets/base",
            "top": null,
            "grid_column": null,
            "overflow_y": null,
            "overflow_x": null,
            "grid_auto_flow": null,
            "grid_area": null,
            "grid_template_columns": null,
            "flex": null,
            "_model_name": "LayoutModel",
            "justify_items": null,
            "grid_row": null,
            "max_height": null,
            "align_content": null,
            "visibility": null,
            "align_self": null,
            "height": null,
            "min_height": null,
            "padding": null,
            "grid_auto_rows": null,
            "grid_gap": null,
            "max_width": null,
            "order": null,
            "_view_module_version": "1.2.0",
            "grid_template_areas": null,
            "object_position": null,
            "object_fit": null,
            "grid_auto_columns": null,
            "margin": null,
            "display": null,
            "left": null
          }
        },
        "a281c4933fcc4bf8a01b3a5baf274c9f": {
          "model_module": "@jupyter-widgets/controls",
          "model_name": "DescriptionStyleModel",
          "state": {
            "_view_name": "StyleView",
            "_model_name": "DescriptionStyleModel",
            "description_width": "",
            "_view_module": "@jupyter-widgets/base",
            "_model_module_version": "1.5.0",
            "_view_count": null,
            "_view_module_version": "1.2.0",
            "_model_module": "@jupyter-widgets/controls"
          }
        },
        "82977c4a15fb4d148537a14d25c626cb": {
          "model_module": "@jupyter-widgets/base",
          "model_name": "LayoutModel",
          "state": {
            "_view_name": "LayoutView",
            "grid_template_rows": null,
            "right": null,
            "justify_content": null,
            "_view_module": "@jupyter-widgets/base",
            "overflow": null,
            "_model_module_version": "1.2.0",
            "_view_count": null,
            "flex_flow": null,
            "width": null,
            "min_width": null,
            "border": null,
            "align_items": null,
            "bottom": null,
            "_model_module": "@jupyter-widgets/base",
            "top": null,
            "grid_column": null,
            "overflow_y": null,
            "overflow_x": null,
            "grid_auto_flow": null,
            "grid_area": null,
            "grid_template_columns": null,
            "flex": null,
            "_model_name": "LayoutModel",
            "justify_items": null,
            "grid_row": null,
            "max_height": null,
            "align_content": null,
            "visibility": null,
            "align_self": null,
            "height": null,
            "min_height": null,
            "padding": null,
            "grid_auto_rows": null,
            "grid_gap": null,
            "max_width": null,
            "order": null,
            "_view_module_version": "1.2.0",
            "grid_template_areas": null,
            "object_position": null,
            "object_fit": null,
            "grid_auto_columns": null,
            "margin": null,
            "display": null,
            "left": null
          }
        },
        "8dc6c54e8c5f4ad99f14d05144505a9c": {
          "model_module": "@jupyter-widgets/controls",
          "model_name": "HBoxModel",
          "state": {
            "_view_name": "HBoxView",
            "_dom_classes": [],
            "_model_name": "HBoxModel",
            "_view_module": "@jupyter-widgets/controls",
            "_model_module_version": "1.5.0",
            "_view_count": null,
            "_view_module_version": "1.5.0",
            "box_style": "",
            "layout": "IPY_MODEL_dbd533d84cb24e8994983e118c68167b",
            "_model_module": "@jupyter-widgets/controls",
            "children": [
              "IPY_MODEL_5bbecd4ebe214721b47fb9140d9e23b5",
              "IPY_MODEL_93c6f9402bc54c88a68994220bd6043f"
            ]
          }
        },
        "dbd533d84cb24e8994983e118c68167b": {
          "model_module": "@jupyter-widgets/base",
          "model_name": "LayoutModel",
          "state": {
            "_view_name": "LayoutView",
            "grid_template_rows": null,
            "right": null,
            "justify_content": null,
            "_view_module": "@jupyter-widgets/base",
            "overflow": null,
            "_model_module_version": "1.2.0",
            "_view_count": null,
            "flex_flow": null,
            "width": null,
            "min_width": null,
            "border": null,
            "align_items": null,
            "bottom": null,
            "_model_module": "@jupyter-widgets/base",
            "top": null,
            "grid_column": null,
            "overflow_y": null,
            "overflow_x": null,
            "grid_auto_flow": null,
            "grid_area": null,
            "grid_template_columns": null,
            "flex": null,
            "_model_name": "LayoutModel",
            "justify_items": null,
            "grid_row": null,
            "max_height": null,
            "align_content": null,
            "visibility": null,
            "align_self": null,
            "height": null,
            "min_height": null,
            "padding": null,
            "grid_auto_rows": null,
            "grid_gap": null,
            "max_width": null,
            "order": null,
            "_view_module_version": "1.2.0",
            "grid_template_areas": null,
            "object_position": null,
            "object_fit": null,
            "grid_auto_columns": null,
            "margin": null,
            "display": null,
            "left": null
          }
        },
        "5bbecd4ebe214721b47fb9140d9e23b5": {
          "model_module": "@jupyter-widgets/controls",
          "model_name": "IntProgressModel",
          "state": {
            "_view_name": "ProgressView",
            "style": "IPY_MODEL_1cc41ec45ae64da1b1db581373fd88e1",
            "_dom_classes": [],
            "description": "",
            "_model_name": "IntProgressModel",
            "bar_style": "success",
            "max": 1,
            "_view_module": "@jupyter-widgets/controls",
            "_model_module_version": "1.5.0",
            "value": 1,
            "_view_count": null,
            "_view_module_version": "1.5.0",
            "orientation": "horizontal",
            "min": 0,
            "description_tooltip": null,
            "_model_module": "@jupyter-widgets/controls",
            "layout": "IPY_MODEL_e915be758aa8423dbe138cf6f781b8e3"
          }
        },
        "93c6f9402bc54c88a68994220bd6043f": {
          "model_module": "@jupyter-widgets/controls",
          "model_name": "HTMLModel",
          "state": {
            "_view_name": "HTMLView",
            "style": "IPY_MODEL_27ed6d5eab2148b2b3030299ec99c76c",
            "_dom_classes": [],
            "description": "",
            "_model_name": "HTMLModel",
            "placeholder": "​",
            "_view_module": "@jupyter-widgets/controls",
            "_model_module_version": "1.5.0",
            "value": " 26427392/? [00:04&lt;00:00, 6339398.87it/s]",
            "_view_count": null,
            "_view_module_version": "1.5.0",
            "description_tooltip": null,
            "_model_module": "@jupyter-widgets/controls",
            "layout": "IPY_MODEL_50202f20508545e79d13fca8d3606001"
          }
        },
        "1cc41ec45ae64da1b1db581373fd88e1": {
          "model_module": "@jupyter-widgets/controls",
          "model_name": "ProgressStyleModel",
          "state": {
            "_view_name": "StyleView",
            "_model_name": "ProgressStyleModel",
            "description_width": "initial",
            "_view_module": "@jupyter-widgets/base",
            "_model_module_version": "1.5.0",
            "_view_count": null,
            "_view_module_version": "1.2.0",
            "bar_color": null,
            "_model_module": "@jupyter-widgets/controls"
          }
        },
        "e915be758aa8423dbe138cf6f781b8e3": {
          "model_module": "@jupyter-widgets/base",
          "model_name": "LayoutModel",
          "state": {
            "_view_name": "LayoutView",
            "grid_template_rows": null,
            "right": null,
            "justify_content": null,
            "_view_module": "@jupyter-widgets/base",
            "overflow": null,
            "_model_module_version": "1.2.0",
            "_view_count": null,
            "flex_flow": null,
            "width": null,
            "min_width": null,
            "border": null,
            "align_items": null,
            "bottom": null,
            "_model_module": "@jupyter-widgets/base",
            "top": null,
            "grid_column": null,
            "overflow_y": null,
            "overflow_x": null,
            "grid_auto_flow": null,
            "grid_area": null,
            "grid_template_columns": null,
            "flex": null,
            "_model_name": "LayoutModel",
            "justify_items": null,
            "grid_row": null,
            "max_height": null,
            "align_content": null,
            "visibility": null,
            "align_self": null,
            "height": null,
            "min_height": null,
            "padding": null,
            "grid_auto_rows": null,
            "grid_gap": null,
            "max_width": null,
            "order": null,
            "_view_module_version": "1.2.0",
            "grid_template_areas": null,
            "object_position": null,
            "object_fit": null,
            "grid_auto_columns": null,
            "margin": null,
            "display": null,
            "left": null
          }
        },
        "27ed6d5eab2148b2b3030299ec99c76c": {
          "model_module": "@jupyter-widgets/controls",
          "model_name": "DescriptionStyleModel",
          "state": {
            "_view_name": "StyleView",
            "_model_name": "DescriptionStyleModel",
            "description_width": "",
            "_view_module": "@jupyter-widgets/base",
            "_model_module_version": "1.5.0",
            "_view_count": null,
            "_view_module_version": "1.2.0",
            "_model_module": "@jupyter-widgets/controls"
          }
        },
        "50202f20508545e79d13fca8d3606001": {
          "model_module": "@jupyter-widgets/base",
          "model_name": "LayoutModel",
          "state": {
            "_view_name": "LayoutView",
            "grid_template_rows": null,
            "right": null,
            "justify_content": null,
            "_view_module": "@jupyter-widgets/base",
            "overflow": null,
            "_model_module_version": "1.2.0",
            "_view_count": null,
            "flex_flow": null,
            "width": null,
            "min_width": null,
            "border": null,
            "align_items": null,
            "bottom": null,
            "_model_module": "@jupyter-widgets/base",
            "top": null,
            "grid_column": null,
            "overflow_y": null,
            "overflow_x": null,
            "grid_auto_flow": null,
            "grid_area": null,
            "grid_template_columns": null,
            "flex": null,
            "_model_name": "LayoutModel",
            "justify_items": null,
            "grid_row": null,
            "max_height": null,
            "align_content": null,
            "visibility": null,
            "align_self": null,
            "height": null,
            "min_height": null,
            "padding": null,
            "grid_auto_rows": null,
            "grid_gap": null,
            "max_width": null,
            "order": null,
            "_view_module_version": "1.2.0",
            "grid_template_areas": null,
            "object_position": null,
            "object_fit": null,
            "grid_auto_columns": null,
            "margin": null,
            "display": null,
            "left": null
          }
        },
        "e433bd147d4c443f998e61fa389551cc": {
          "model_module": "@jupyter-widgets/controls",
          "model_name": "HBoxModel",
          "state": {
            "_view_name": "HBoxView",
            "_dom_classes": [],
            "_model_name": "HBoxModel",
            "_view_module": "@jupyter-widgets/controls",
            "_model_module_version": "1.5.0",
            "_view_count": null,
            "_view_module_version": "1.5.0",
            "box_style": "",
            "layout": "IPY_MODEL_cd901762a5784799b4e55d1d44c871a8",
            "_model_module": "@jupyter-widgets/controls",
            "children": [
              "IPY_MODEL_25631a6c8663440782fa6934fcc469a8",
              "IPY_MODEL_d52cb9d568eb4f699bd3914e1f7fcb9b"
            ]
          }
        },
        "cd901762a5784799b4e55d1d44c871a8": {
          "model_module": "@jupyter-widgets/base",
          "model_name": "LayoutModel",
          "state": {
            "_view_name": "LayoutView",
            "grid_template_rows": null,
            "right": null,
            "justify_content": null,
            "_view_module": "@jupyter-widgets/base",
            "overflow": null,
            "_model_module_version": "1.2.0",
            "_view_count": null,
            "flex_flow": null,
            "width": null,
            "min_width": null,
            "border": null,
            "align_items": null,
            "bottom": null,
            "_model_module": "@jupyter-widgets/base",
            "top": null,
            "grid_column": null,
            "overflow_y": null,
            "overflow_x": null,
            "grid_auto_flow": null,
            "grid_area": null,
            "grid_template_columns": null,
            "flex": null,
            "_model_name": "LayoutModel",
            "justify_items": null,
            "grid_row": null,
            "max_height": null,
            "align_content": null,
            "visibility": null,
            "align_self": null,
            "height": null,
            "min_height": null,
            "padding": null,
            "grid_auto_rows": null,
            "grid_gap": null,
            "max_width": null,
            "order": null,
            "_view_module_version": "1.2.0",
            "grid_template_areas": null,
            "object_position": null,
            "object_fit": null,
            "grid_auto_columns": null,
            "margin": null,
            "display": null,
            "left": null
          }
        },
        "25631a6c8663440782fa6934fcc469a8": {
          "model_module": "@jupyter-widgets/controls",
          "model_name": "IntProgressModel",
          "state": {
            "_view_name": "ProgressView",
            "style": "IPY_MODEL_35c150ba05d74ec39e8e37522062c46c",
            "_dom_classes": [],
            "description": "",
            "_model_name": "IntProgressModel",
            "bar_style": "success",
            "max": 1,
            "_view_module": "@jupyter-widgets/controls",
            "_model_module_version": "1.5.0",
            "value": 1,
            "_view_count": null,
            "_view_module_version": "1.5.0",
            "orientation": "horizontal",
            "min": 0,
            "description_tooltip": null,
            "_model_module": "@jupyter-widgets/controls",
            "layout": "IPY_MODEL_8e3fe029227d4400b4b08d97ea743a56"
          }
        },
        "d52cb9d568eb4f699bd3914e1f7fcb9b": {
          "model_module": "@jupyter-widgets/controls",
          "model_name": "HTMLModel",
          "state": {
            "_view_name": "HTMLView",
            "style": "IPY_MODEL_7ed5c59c9d7d4911865ae879985f408e",
            "_dom_classes": [],
            "description": "",
            "_model_name": "HTMLModel",
            "placeholder": "​",
            "_view_module": "@jupyter-widgets/controls",
            "_model_module_version": "1.5.0",
            "value": " 32768/? [00:01&lt;00:00, 24212.81it/s]",
            "_view_count": null,
            "_view_module_version": "1.5.0",
            "description_tooltip": null,
            "_model_module": "@jupyter-widgets/controls",
            "layout": "IPY_MODEL_af59ac319e324358a2d956064deeb5c8"
          }
        },
        "35c150ba05d74ec39e8e37522062c46c": {
          "model_module": "@jupyter-widgets/controls",
          "model_name": "ProgressStyleModel",
          "state": {
            "_view_name": "StyleView",
            "_model_name": "ProgressStyleModel",
            "description_width": "initial",
            "_view_module": "@jupyter-widgets/base",
            "_model_module_version": "1.5.0",
            "_view_count": null,
            "_view_module_version": "1.2.0",
            "bar_color": null,
            "_model_module": "@jupyter-widgets/controls"
          }
        },
        "8e3fe029227d4400b4b08d97ea743a56": {
          "model_module": "@jupyter-widgets/base",
          "model_name": "LayoutModel",
          "state": {
            "_view_name": "LayoutView",
            "grid_template_rows": null,
            "right": null,
            "justify_content": null,
            "_view_module": "@jupyter-widgets/base",
            "overflow": null,
            "_model_module_version": "1.2.0",
            "_view_count": null,
            "flex_flow": null,
            "width": null,
            "min_width": null,
            "border": null,
            "align_items": null,
            "bottom": null,
            "_model_module": "@jupyter-widgets/base",
            "top": null,
            "grid_column": null,
            "overflow_y": null,
            "overflow_x": null,
            "grid_auto_flow": null,
            "grid_area": null,
            "grid_template_columns": null,
            "flex": null,
            "_model_name": "LayoutModel",
            "justify_items": null,
            "grid_row": null,
            "max_height": null,
            "align_content": null,
            "visibility": null,
            "align_self": null,
            "height": null,
            "min_height": null,
            "padding": null,
            "grid_auto_rows": null,
            "grid_gap": null,
            "max_width": null,
            "order": null,
            "_view_module_version": "1.2.0",
            "grid_template_areas": null,
            "object_position": null,
            "object_fit": null,
            "grid_auto_columns": null,
            "margin": null,
            "display": null,
            "left": null
          }
        },
        "7ed5c59c9d7d4911865ae879985f408e": {
          "model_module": "@jupyter-widgets/controls",
          "model_name": "DescriptionStyleModel",
          "state": {
            "_view_name": "StyleView",
            "_model_name": "DescriptionStyleModel",
            "description_width": "",
            "_view_module": "@jupyter-widgets/base",
            "_model_module_version": "1.5.0",
            "_view_count": null,
            "_view_module_version": "1.2.0",
            "_model_module": "@jupyter-widgets/controls"
          }
        },
        "af59ac319e324358a2d956064deeb5c8": {
          "model_module": "@jupyter-widgets/base",
          "model_name": "LayoutModel",
          "state": {
            "_view_name": "LayoutView",
            "grid_template_rows": null,
            "right": null,
            "justify_content": null,
            "_view_module": "@jupyter-widgets/base",
            "overflow": null,
            "_model_module_version": "1.2.0",
            "_view_count": null,
            "flex_flow": null,
            "width": null,
            "min_width": null,
            "border": null,
            "align_items": null,
            "bottom": null,
            "_model_module": "@jupyter-widgets/base",
            "top": null,
            "grid_column": null,
            "overflow_y": null,
            "overflow_x": null,
            "grid_auto_flow": null,
            "grid_area": null,
            "grid_template_columns": null,
            "flex": null,
            "_model_name": "LayoutModel",
            "justify_items": null,
            "grid_row": null,
            "max_height": null,
            "align_content": null,
            "visibility": null,
            "align_self": null,
            "height": null,
            "min_height": null,
            "padding": null,
            "grid_auto_rows": null,
            "grid_gap": null,
            "max_width": null,
            "order": null,
            "_view_module_version": "1.2.0",
            "grid_template_areas": null,
            "object_position": null,
            "object_fit": null,
            "grid_auto_columns": null,
            "margin": null,
            "display": null,
            "left": null
          }
        },
        "b53601df547f458cbb2f85be3a7bf973": {
          "model_module": "@jupyter-widgets/controls",
          "model_name": "HBoxModel",
          "state": {
            "_view_name": "HBoxView",
            "_dom_classes": [],
            "_model_name": "HBoxModel",
            "_view_module": "@jupyter-widgets/controls",
            "_model_module_version": "1.5.0",
            "_view_count": null,
            "_view_module_version": "1.5.0",
            "box_style": "",
            "layout": "IPY_MODEL_788802b31c7c4725885c8bf74af760e6",
            "_model_module": "@jupyter-widgets/controls",
            "children": [
              "IPY_MODEL_bdbe8136586d476c895307ef2bdd1229",
              "IPY_MODEL_df908da626ea4fb1a5d27b775b49b850"
            ]
          }
        },
        "788802b31c7c4725885c8bf74af760e6": {
          "model_module": "@jupyter-widgets/base",
          "model_name": "LayoutModel",
          "state": {
            "_view_name": "LayoutView",
            "grid_template_rows": null,
            "right": null,
            "justify_content": null,
            "_view_module": "@jupyter-widgets/base",
            "overflow": null,
            "_model_module_version": "1.2.0",
            "_view_count": null,
            "flex_flow": null,
            "width": null,
            "min_width": null,
            "border": null,
            "align_items": null,
            "bottom": null,
            "_model_module": "@jupyter-widgets/base",
            "top": null,
            "grid_column": null,
            "overflow_y": null,
            "overflow_x": null,
            "grid_auto_flow": null,
            "grid_area": null,
            "grid_template_columns": null,
            "flex": null,
            "_model_name": "LayoutModel",
            "justify_items": null,
            "grid_row": null,
            "max_height": null,
            "align_content": null,
            "visibility": null,
            "align_self": null,
            "height": null,
            "min_height": null,
            "padding": null,
            "grid_auto_rows": null,
            "grid_gap": null,
            "max_width": null,
            "order": null,
            "_view_module_version": "1.2.0",
            "grid_template_areas": null,
            "object_position": null,
            "object_fit": null,
            "grid_auto_columns": null,
            "margin": null,
            "display": null,
            "left": null
          }
        },
        "bdbe8136586d476c895307ef2bdd1229": {
          "model_module": "@jupyter-widgets/controls",
          "model_name": "IntProgressModel",
          "state": {
            "_view_name": "ProgressView",
            "style": "IPY_MODEL_4ce3ab4979604731bdf1a167d34df045",
            "_dom_classes": [],
            "description": "",
            "_model_name": "IntProgressModel",
            "bar_style": "info",
            "max": 1,
            "_view_module": "@jupyter-widgets/controls",
            "_model_module_version": "1.5.0",
            "value": 1,
            "_view_count": null,
            "_view_module_version": "1.5.0",
            "orientation": "horizontal",
            "min": 0,
            "description_tooltip": null,
            "_model_module": "@jupyter-widgets/controls",
            "layout": "IPY_MODEL_f5b8780f065747c5930550119832f3d4"
          }
        },
        "df908da626ea4fb1a5d27b775b49b850": {
          "model_module": "@jupyter-widgets/controls",
          "model_name": "HTMLModel",
          "state": {
            "_view_name": "HTMLView",
            "style": "IPY_MODEL_7e6e1c9320524f83960cd598cce01e9e",
            "_dom_classes": [],
            "description": "",
            "_model_name": "HTMLModel",
            "placeholder": "​",
            "_view_module": "@jupyter-widgets/controls",
            "_model_module_version": "1.5.0",
            "value": " 4423680/? [00:16&lt;00:00, 805394.10it/s]",
            "_view_count": null,
            "_view_module_version": "1.5.0",
            "description_tooltip": null,
            "_model_module": "@jupyter-widgets/controls",
            "layout": "IPY_MODEL_87b4dd731fc745e689fe2317e9e7bc4b"
          }
        },
        "4ce3ab4979604731bdf1a167d34df045": {
          "model_module": "@jupyter-widgets/controls",
          "model_name": "ProgressStyleModel",
          "state": {
            "_view_name": "StyleView",
            "_model_name": "ProgressStyleModel",
            "description_width": "initial",
            "_view_module": "@jupyter-widgets/base",
            "_model_module_version": "1.5.0",
            "_view_count": null,
            "_view_module_version": "1.2.0",
            "bar_color": null,
            "_model_module": "@jupyter-widgets/controls"
          }
        },
        "f5b8780f065747c5930550119832f3d4": {
          "model_module": "@jupyter-widgets/base",
          "model_name": "LayoutModel",
          "state": {
            "_view_name": "LayoutView",
            "grid_template_rows": null,
            "right": null,
            "justify_content": null,
            "_view_module": "@jupyter-widgets/base",
            "overflow": null,
            "_model_module_version": "1.2.0",
            "_view_count": null,
            "flex_flow": null,
            "width": null,
            "min_width": null,
            "border": null,
            "align_items": null,
            "bottom": null,
            "_model_module": "@jupyter-widgets/base",
            "top": null,
            "grid_column": null,
            "overflow_y": null,
            "overflow_x": null,
            "grid_auto_flow": null,
            "grid_area": null,
            "grid_template_columns": null,
            "flex": null,
            "_model_name": "LayoutModel",
            "justify_items": null,
            "grid_row": null,
            "max_height": null,
            "align_content": null,
            "visibility": null,
            "align_self": null,
            "height": null,
            "min_height": null,
            "padding": null,
            "grid_auto_rows": null,
            "grid_gap": null,
            "max_width": null,
            "order": null,
            "_view_module_version": "1.2.0",
            "grid_template_areas": null,
            "object_position": null,
            "object_fit": null,
            "grid_auto_columns": null,
            "margin": null,
            "display": null,
            "left": null
          }
        },
        "7e6e1c9320524f83960cd598cce01e9e": {
          "model_module": "@jupyter-widgets/controls",
          "model_name": "DescriptionStyleModel",
          "state": {
            "_view_name": "StyleView",
            "_model_name": "DescriptionStyleModel",
            "description_width": "",
            "_view_module": "@jupyter-widgets/base",
            "_model_module_version": "1.5.0",
            "_view_count": null,
            "_view_module_version": "1.2.0",
            "_model_module": "@jupyter-widgets/controls"
          }
        },
        "87b4dd731fc745e689fe2317e9e7bc4b": {
          "model_module": "@jupyter-widgets/base",
          "model_name": "LayoutModel",
          "state": {
            "_view_name": "LayoutView",
            "grid_template_rows": null,
            "right": null,
            "justify_content": null,
            "_view_module": "@jupyter-widgets/base",
            "overflow": null,
            "_model_module_version": "1.2.0",
            "_view_count": null,
            "flex_flow": null,
            "width": null,
            "min_width": null,
            "border": null,
            "align_items": null,
            "bottom": null,
            "_model_module": "@jupyter-widgets/base",
            "top": null,
            "grid_column": null,
            "overflow_y": null,
            "overflow_x": null,
            "grid_auto_flow": null,
            "grid_area": null,
            "grid_template_columns": null,
            "flex": null,
            "_model_name": "LayoutModel",
            "justify_items": null,
            "grid_row": null,
            "max_height": null,
            "align_content": null,
            "visibility": null,
            "align_self": null,
            "height": null,
            "min_height": null,
            "padding": null,
            "grid_auto_rows": null,
            "grid_gap": null,
            "max_width": null,
            "order": null,
            "_view_module_version": "1.2.0",
            "grid_template_areas": null,
            "object_position": null,
            "object_fit": null,
            "grid_auto_columns": null,
            "margin": null,
            "display": null,
            "left": null
          }
        },
        "6c658ea12ad1459dbe1692093ae7373f": {
          "model_module": "@jupyter-widgets/controls",
          "model_name": "HBoxModel",
          "state": {
            "_view_name": "HBoxView",
            "_dom_classes": [],
            "_model_name": "HBoxModel",
            "_view_module": "@jupyter-widgets/controls",
            "_model_module_version": "1.5.0",
            "_view_count": null,
            "_view_module_version": "1.5.0",
            "box_style": "",
            "layout": "IPY_MODEL_9e0156f13c314988b65e9209d9dba79a",
            "_model_module": "@jupyter-widgets/controls",
            "children": [
              "IPY_MODEL_de2f3b7035744258a9cc11b96bdd6c3c",
              "IPY_MODEL_d494d3201e1e42b7ae4fdb26460396a8"
            ]
          }
        },
        "9e0156f13c314988b65e9209d9dba79a": {
          "model_module": "@jupyter-widgets/base",
          "model_name": "LayoutModel",
          "state": {
            "_view_name": "LayoutView",
            "grid_template_rows": null,
            "right": null,
            "justify_content": null,
            "_view_module": "@jupyter-widgets/base",
            "overflow": null,
            "_model_module_version": "1.2.0",
            "_view_count": null,
            "flex_flow": null,
            "width": null,
            "min_width": null,
            "border": null,
            "align_items": null,
            "bottom": null,
            "_model_module": "@jupyter-widgets/base",
            "top": null,
            "grid_column": null,
            "overflow_y": null,
            "overflow_x": null,
            "grid_auto_flow": null,
            "grid_area": null,
            "grid_template_columns": null,
            "flex": null,
            "_model_name": "LayoutModel",
            "justify_items": null,
            "grid_row": null,
            "max_height": null,
            "align_content": null,
            "visibility": null,
            "align_self": null,
            "height": null,
            "min_height": null,
            "padding": null,
            "grid_auto_rows": null,
            "grid_gap": null,
            "max_width": null,
            "order": null,
            "_view_module_version": "1.2.0",
            "grid_template_areas": null,
            "object_position": null,
            "object_fit": null,
            "grid_auto_columns": null,
            "margin": null,
            "display": null,
            "left": null
          }
        },
        "de2f3b7035744258a9cc11b96bdd6c3c": {
          "model_module": "@jupyter-widgets/controls",
          "model_name": "IntProgressModel",
          "state": {
            "_view_name": "ProgressView",
            "style": "IPY_MODEL_ffda2f4c8da1416f8e3b43d00f0a7906",
            "_dom_classes": [],
            "description": "",
            "_model_name": "IntProgressModel",
            "bar_style": "success",
            "max": 1,
            "_view_module": "@jupyter-widgets/controls",
            "_model_module_version": "1.5.0",
            "value": 1,
            "_view_count": null,
            "_view_module_version": "1.5.0",
            "orientation": "horizontal",
            "min": 0,
            "description_tooltip": null,
            "_model_module": "@jupyter-widgets/controls",
            "layout": "IPY_MODEL_0e844fca3d594e43804e776d7e08ca5d"
          }
        },
        "d494d3201e1e42b7ae4fdb26460396a8": {
          "model_module": "@jupyter-widgets/controls",
          "model_name": "HTMLModel",
          "state": {
            "_view_name": "HTMLView",
            "style": "IPY_MODEL_8185daed45054680bca8dd9fc9781730",
            "_dom_classes": [],
            "description": "",
            "_model_name": "HTMLModel",
            "placeholder": "​",
            "_view_module": "@jupyter-widgets/controls",
            "_model_module_version": "1.5.0",
            "value": " 8192/? [00:00&lt;00:00, 17300.44it/s]",
            "_view_count": null,
            "_view_module_version": "1.5.0",
            "description_tooltip": null,
            "_model_module": "@jupyter-widgets/controls",
            "layout": "IPY_MODEL_202a3bd512564a1e80095467812c60eb"
          }
        },
        "ffda2f4c8da1416f8e3b43d00f0a7906": {
          "model_module": "@jupyter-widgets/controls",
          "model_name": "ProgressStyleModel",
          "state": {
            "_view_name": "StyleView",
            "_model_name": "ProgressStyleModel",
            "description_width": "initial",
            "_view_module": "@jupyter-widgets/base",
            "_model_module_version": "1.5.0",
            "_view_count": null,
            "_view_module_version": "1.2.0",
            "bar_color": null,
            "_model_module": "@jupyter-widgets/controls"
          }
        },
        "0e844fca3d594e43804e776d7e08ca5d": {
          "model_module": "@jupyter-widgets/base",
          "model_name": "LayoutModel",
          "state": {
            "_view_name": "LayoutView",
            "grid_template_rows": null,
            "right": null,
            "justify_content": null,
            "_view_module": "@jupyter-widgets/base",
            "overflow": null,
            "_model_module_version": "1.2.0",
            "_view_count": null,
            "flex_flow": null,
            "width": null,
            "min_width": null,
            "border": null,
            "align_items": null,
            "bottom": null,
            "_model_module": "@jupyter-widgets/base",
            "top": null,
            "grid_column": null,
            "overflow_y": null,
            "overflow_x": null,
            "grid_auto_flow": null,
            "grid_area": null,
            "grid_template_columns": null,
            "flex": null,
            "_model_name": "LayoutModel",
            "justify_items": null,
            "grid_row": null,
            "max_height": null,
            "align_content": null,
            "visibility": null,
            "align_self": null,
            "height": null,
            "min_height": null,
            "padding": null,
            "grid_auto_rows": null,
            "grid_gap": null,
            "max_width": null,
            "order": null,
            "_view_module_version": "1.2.0",
            "grid_template_areas": null,
            "object_position": null,
            "object_fit": null,
            "grid_auto_columns": null,
            "margin": null,
            "display": null,
            "left": null
          }
        },
        "8185daed45054680bca8dd9fc9781730": {
          "model_module": "@jupyter-widgets/controls",
          "model_name": "DescriptionStyleModel",
          "state": {
            "_view_name": "StyleView",
            "_model_name": "DescriptionStyleModel",
            "description_width": "",
            "_view_module": "@jupyter-widgets/base",
            "_model_module_version": "1.5.0",
            "_view_count": null,
            "_view_module_version": "1.2.0",
            "_model_module": "@jupyter-widgets/controls"
          }
        },
        "202a3bd512564a1e80095467812c60eb": {
          "model_module": "@jupyter-widgets/base",
          "model_name": "LayoutModel",
          "state": {
            "_view_name": "LayoutView",
            "grid_template_rows": null,
            "right": null,
            "justify_content": null,
            "_view_module": "@jupyter-widgets/base",
            "overflow": null,
            "_model_module_version": "1.2.0",
            "_view_count": null,
            "flex_flow": null,
            "width": null,
            "min_width": null,
            "border": null,
            "align_items": null,
            "bottom": null,
            "_model_module": "@jupyter-widgets/base",
            "top": null,
            "grid_column": null,
            "overflow_y": null,
            "overflow_x": null,
            "grid_auto_flow": null,
            "grid_area": null,
            "grid_template_columns": null,
            "flex": null,
            "_model_name": "LayoutModel",
            "justify_items": null,
            "grid_row": null,
            "max_height": null,
            "align_content": null,
            "visibility": null,
            "align_self": null,
            "height": null,
            "min_height": null,
            "padding": null,
            "grid_auto_rows": null,
            "grid_gap": null,
            "max_width": null,
            "order": null,
            "_view_module_version": "1.2.0",
            "grid_template_areas": null,
            "object_position": null,
            "object_fit": null,
            "grid_auto_columns": null,
            "margin": null,
            "display": null,
            "left": null
          }
        },
        "7a38788e9405460dbfb9a81ddfdafdd6": {
          "model_module": "@jupyter-widgets/controls",
          "model_name": "HBoxModel",
          "state": {
            "_view_name": "HBoxView",
            "_dom_classes": [],
            "_model_name": "HBoxModel",
            "_view_module": "@jupyter-widgets/controls",
            "_model_module_version": "1.5.0",
            "_view_count": null,
            "_view_module_version": "1.5.0",
            "box_style": "",
            "layout": "IPY_MODEL_131f96954d23497f9705235384f32714",
            "_model_module": "@jupyter-widgets/controls",
            "children": [
              "IPY_MODEL_376dd3f3010b4c24b8b864df14c7fa77",
              "IPY_MODEL_b8af58d01d9748c2bfa2cde80e6748c4"
            ]
          }
        },
        "131f96954d23497f9705235384f32714": {
          "model_module": "@jupyter-widgets/base",
          "model_name": "LayoutModel",
          "state": {
            "_view_name": "LayoutView",
            "grid_template_rows": null,
            "right": null,
            "justify_content": null,
            "_view_module": "@jupyter-widgets/base",
            "overflow": null,
            "_model_module_version": "1.2.0",
            "_view_count": null,
            "flex_flow": null,
            "width": null,
            "min_width": null,
            "border": null,
            "align_items": null,
            "bottom": null,
            "_model_module": "@jupyter-widgets/base",
            "top": null,
            "grid_column": null,
            "overflow_y": null,
            "overflow_x": null,
            "grid_auto_flow": null,
            "grid_area": null,
            "grid_template_columns": null,
            "flex": null,
            "_model_name": "LayoutModel",
            "justify_items": null,
            "grid_row": null,
            "max_height": null,
            "align_content": null,
            "visibility": null,
            "align_self": null,
            "height": null,
            "min_height": null,
            "padding": null,
            "grid_auto_rows": null,
            "grid_gap": null,
            "max_width": null,
            "order": null,
            "_view_module_version": "1.2.0",
            "grid_template_areas": null,
            "object_position": null,
            "object_fit": null,
            "grid_auto_columns": null,
            "margin": null,
            "display": null,
            "left": null
          }
        },
        "376dd3f3010b4c24b8b864df14c7fa77": {
          "model_module": "@jupyter-widgets/controls",
          "model_name": "IntProgressModel",
          "state": {
            "_view_name": "ProgressView",
            "style": "IPY_MODEL_d251bfd320284028afcdf07d63f1f87d",
            "_dom_classes": [],
            "description": "100%",
            "_model_name": "IntProgressModel",
            "bar_style": "success",
            "max": 10,
            "_view_module": "@jupyter-widgets/controls",
            "_model_module_version": "1.5.0",
            "value": 10,
            "_view_count": null,
            "_view_module_version": "1.5.0",
            "orientation": "horizontal",
            "min": 0,
            "description_tooltip": null,
            "_model_module": "@jupyter-widgets/controls",
            "layout": "IPY_MODEL_155bdd082cea403f8e04db76c83c0a0c"
          }
        },
        "b8af58d01d9748c2bfa2cde80e6748c4": {
          "model_module": "@jupyter-widgets/controls",
          "model_name": "HTMLModel",
          "state": {
            "_view_name": "HTMLView",
            "style": "IPY_MODEL_324d740bd6414f0d84fe1029a9b29240",
            "_dom_classes": [],
            "description": "",
            "_model_name": "HTMLModel",
            "placeholder": "​",
            "_view_module": "@jupyter-widgets/controls",
            "_model_module_version": "1.5.0",
            "value": " 10/10 [10:56&lt;00:00, 65.69s/it]",
            "_view_count": null,
            "_view_module_version": "1.5.0",
            "description_tooltip": null,
            "_model_module": "@jupyter-widgets/controls",
            "layout": "IPY_MODEL_56d3a8457f4b4b7f8723f2ae58e43847"
          }
        },
        "d251bfd320284028afcdf07d63f1f87d": {
          "model_module": "@jupyter-widgets/controls",
          "model_name": "ProgressStyleModel",
          "state": {
            "_view_name": "StyleView",
            "_model_name": "ProgressStyleModel",
            "description_width": "initial",
            "_view_module": "@jupyter-widgets/base",
            "_model_module_version": "1.5.0",
            "_view_count": null,
            "_view_module_version": "1.2.0",
            "bar_color": null,
            "_model_module": "@jupyter-widgets/controls"
          }
        },
        "155bdd082cea403f8e04db76c83c0a0c": {
          "model_module": "@jupyter-widgets/base",
          "model_name": "LayoutModel",
          "state": {
            "_view_name": "LayoutView",
            "grid_template_rows": null,
            "right": null,
            "justify_content": null,
            "_view_module": "@jupyter-widgets/base",
            "overflow": null,
            "_model_module_version": "1.2.0",
            "_view_count": null,
            "flex_flow": null,
            "width": null,
            "min_width": null,
            "border": null,
            "align_items": null,
            "bottom": null,
            "_model_module": "@jupyter-widgets/base",
            "top": null,
            "grid_column": null,
            "overflow_y": null,
            "overflow_x": null,
            "grid_auto_flow": null,
            "grid_area": null,
            "grid_template_columns": null,
            "flex": null,
            "_model_name": "LayoutModel",
            "justify_items": null,
            "grid_row": null,
            "max_height": null,
            "align_content": null,
            "visibility": null,
            "align_self": null,
            "height": null,
            "min_height": null,
            "padding": null,
            "grid_auto_rows": null,
            "grid_gap": null,
            "max_width": null,
            "order": null,
            "_view_module_version": "1.2.0",
            "grid_template_areas": null,
            "object_position": null,
            "object_fit": null,
            "grid_auto_columns": null,
            "margin": null,
            "display": null,
            "left": null
          }
        },
        "324d740bd6414f0d84fe1029a9b29240": {
          "model_module": "@jupyter-widgets/controls",
          "model_name": "DescriptionStyleModel",
          "state": {
            "_view_name": "StyleView",
            "_model_name": "DescriptionStyleModel",
            "description_width": "",
            "_view_module": "@jupyter-widgets/base",
            "_model_module_version": "1.5.0",
            "_view_count": null,
            "_view_module_version": "1.2.0",
            "_model_module": "@jupyter-widgets/controls"
          }
        },
        "56d3a8457f4b4b7f8723f2ae58e43847": {
          "model_module": "@jupyter-widgets/base",
          "model_name": "LayoutModel",
          "state": {
            "_view_name": "LayoutView",
            "grid_template_rows": null,
            "right": null,
            "justify_content": null,
            "_view_module": "@jupyter-widgets/base",
            "overflow": null,
            "_model_module_version": "1.2.0",
            "_view_count": null,
            "flex_flow": null,
            "width": null,
            "min_width": null,
            "border": null,
            "align_items": null,
            "bottom": null,
            "_model_module": "@jupyter-widgets/base",
            "top": null,
            "grid_column": null,
            "overflow_y": null,
            "overflow_x": null,
            "grid_auto_flow": null,
            "grid_area": null,
            "grid_template_columns": null,
            "flex": null,
            "_model_name": "LayoutModel",
            "justify_items": null,
            "grid_row": null,
            "max_height": null,
            "align_content": null,
            "visibility": null,
            "align_self": null,
            "height": null,
            "min_height": null,
            "padding": null,
            "grid_auto_rows": null,
            "grid_gap": null,
            "max_width": null,
            "order": null,
            "_view_module_version": "1.2.0",
            "grid_template_areas": null,
            "object_position": null,
            "object_fit": null,
            "grid_auto_columns": null,
            "margin": null,
            "display": null,
            "left": null
          }
        },
        "1b61b9178bd1405197ab6e852903e97f": {
          "model_module": "@jupyter-widgets/controls",
          "model_name": "HBoxModel",
          "state": {
            "_view_name": "HBoxView",
            "_dom_classes": [],
            "_model_name": "HBoxModel",
            "_view_module": "@jupyter-widgets/controls",
            "_model_module_version": "1.5.0",
            "_view_count": null,
            "_view_module_version": "1.5.0",
            "box_style": "",
            "layout": "IPY_MODEL_7f1840aa27864dea8df473889e4fa437",
            "_model_module": "@jupyter-widgets/controls",
            "children": [
              "IPY_MODEL_bdb74454631b454bb33163b34928c80d",
              "IPY_MODEL_29ecf9fd4aa141569e940c23961e46fd"
            ]
          }
        },
        "7f1840aa27864dea8df473889e4fa437": {
          "model_module": "@jupyter-widgets/base",
          "model_name": "LayoutModel",
          "state": {
            "_view_name": "LayoutView",
            "grid_template_rows": null,
            "right": null,
            "justify_content": null,
            "_view_module": "@jupyter-widgets/base",
            "overflow": null,
            "_model_module_version": "1.2.0",
            "_view_count": null,
            "flex_flow": null,
            "width": null,
            "min_width": null,
            "border": null,
            "align_items": null,
            "bottom": null,
            "_model_module": "@jupyter-widgets/base",
            "top": null,
            "grid_column": null,
            "overflow_y": null,
            "overflow_x": null,
            "grid_auto_flow": null,
            "grid_area": null,
            "grid_template_columns": null,
            "flex": null,
            "_model_name": "LayoutModel",
            "justify_items": null,
            "grid_row": null,
            "max_height": null,
            "align_content": null,
            "visibility": null,
            "align_self": null,
            "height": null,
            "min_height": null,
            "padding": null,
            "grid_auto_rows": null,
            "grid_gap": null,
            "max_width": null,
            "order": null,
            "_view_module_version": "1.2.0",
            "grid_template_areas": null,
            "object_position": null,
            "object_fit": null,
            "grid_auto_columns": null,
            "margin": null,
            "display": null,
            "left": null
          }
        },
        "bdb74454631b454bb33163b34928c80d": {
          "model_module": "@jupyter-widgets/controls",
          "model_name": "IntProgressModel",
          "state": {
            "_view_name": "ProgressView",
            "style": "IPY_MODEL_806b3a1ce73147e3a4c47b8e291a2244",
            "_dom_classes": [],
            "description": "100%",
            "_model_name": "IntProgressModel",
            "bar_style": "success",
            "max": 10,
            "_view_module": "@jupyter-widgets/controls",
            "_model_module_version": "1.5.0",
            "value": 10,
            "_view_count": null,
            "_view_module_version": "1.5.0",
            "orientation": "horizontal",
            "min": 0,
            "description_tooltip": null,
            "_model_module": "@jupyter-widgets/controls",
            "layout": "IPY_MODEL_6b8d03fb7d43417eb8a9b9e0cd277f53"
          }
        },
        "29ecf9fd4aa141569e940c23961e46fd": {
          "model_module": "@jupyter-widgets/controls",
          "model_name": "HTMLModel",
          "state": {
            "_view_name": "HTMLView",
            "style": "IPY_MODEL_cf17fcd276124a8e9cb4b919ccd75b82",
            "_dom_classes": [],
            "description": "",
            "_model_name": "HTMLModel",
            "placeholder": "​",
            "_view_module": "@jupyter-widgets/controls",
            "_model_module_version": "1.5.0",
            "value": " 10/10 [06:10&lt;00:00, 37.09s/it]",
            "_view_count": null,
            "_view_module_version": "1.5.0",
            "description_tooltip": null,
            "_model_module": "@jupyter-widgets/controls",
            "layout": "IPY_MODEL_9f05380c02fa4717817d3953b3f7c435"
          }
        },
        "806b3a1ce73147e3a4c47b8e291a2244": {
          "model_module": "@jupyter-widgets/controls",
          "model_name": "ProgressStyleModel",
          "state": {
            "_view_name": "StyleView",
            "_model_name": "ProgressStyleModel",
            "description_width": "initial",
            "_view_module": "@jupyter-widgets/base",
            "_model_module_version": "1.5.0",
            "_view_count": null,
            "_view_module_version": "1.2.0",
            "bar_color": null,
            "_model_module": "@jupyter-widgets/controls"
          }
        },
        "6b8d03fb7d43417eb8a9b9e0cd277f53": {
          "model_module": "@jupyter-widgets/base",
          "model_name": "LayoutModel",
          "state": {
            "_view_name": "LayoutView",
            "grid_template_rows": null,
            "right": null,
            "justify_content": null,
            "_view_module": "@jupyter-widgets/base",
            "overflow": null,
            "_model_module_version": "1.2.0",
            "_view_count": null,
            "flex_flow": null,
            "width": null,
            "min_width": null,
            "border": null,
            "align_items": null,
            "bottom": null,
            "_model_module": "@jupyter-widgets/base",
            "top": null,
            "grid_column": null,
            "overflow_y": null,
            "overflow_x": null,
            "grid_auto_flow": null,
            "grid_area": null,
            "grid_template_columns": null,
            "flex": null,
            "_model_name": "LayoutModel",
            "justify_items": null,
            "grid_row": null,
            "max_height": null,
            "align_content": null,
            "visibility": null,
            "align_self": null,
            "height": null,
            "min_height": null,
            "padding": null,
            "grid_auto_rows": null,
            "grid_gap": null,
            "max_width": null,
            "order": null,
            "_view_module_version": "1.2.0",
            "grid_template_areas": null,
            "object_position": null,
            "object_fit": null,
            "grid_auto_columns": null,
            "margin": null,
            "display": null,
            "left": null
          }
        },
        "cf17fcd276124a8e9cb4b919ccd75b82": {
          "model_module": "@jupyter-widgets/controls",
          "model_name": "DescriptionStyleModel",
          "state": {
            "_view_name": "StyleView",
            "_model_name": "DescriptionStyleModel",
            "description_width": "",
            "_view_module": "@jupyter-widgets/base",
            "_model_module_version": "1.5.0",
            "_view_count": null,
            "_view_module_version": "1.2.0",
            "_model_module": "@jupyter-widgets/controls"
          }
        },
        "9f05380c02fa4717817d3953b3f7c435": {
          "model_module": "@jupyter-widgets/base",
          "model_name": "LayoutModel",
          "state": {
            "_view_name": "LayoutView",
            "grid_template_rows": null,
            "right": null,
            "justify_content": null,
            "_view_module": "@jupyter-widgets/base",
            "overflow": null,
            "_model_module_version": "1.2.0",
            "_view_count": null,
            "flex_flow": null,
            "width": null,
            "min_width": null,
            "border": null,
            "align_items": null,
            "bottom": null,
            "_model_module": "@jupyter-widgets/base",
            "top": null,
            "grid_column": null,
            "overflow_y": null,
            "overflow_x": null,
            "grid_auto_flow": null,
            "grid_area": null,
            "grid_template_columns": null,
            "flex": null,
            "_model_name": "LayoutModel",
            "justify_items": null,
            "grid_row": null,
            "max_height": null,
            "align_content": null,
            "visibility": null,
            "align_self": null,
            "height": null,
            "min_height": null,
            "padding": null,
            "grid_auto_rows": null,
            "grid_gap": null,
            "max_width": null,
            "order": null,
            "_view_module_version": "1.2.0",
            "grid_template_areas": null,
            "object_position": null,
            "object_fit": null,
            "grid_auto_columns": null,
            "margin": null,
            "display": null,
            "left": null
          }
        },
        "a0a9bca1b29d4ee3bffe47f4fe4dc491": {
          "model_module": "@jupyter-widgets/controls",
          "model_name": "HBoxModel",
          "state": {
            "_view_name": "HBoxView",
            "_dom_classes": [],
            "_model_name": "HBoxModel",
            "_view_module": "@jupyter-widgets/controls",
            "_model_module_version": "1.5.0",
            "_view_count": null,
            "_view_module_version": "1.5.0",
            "box_style": "",
            "layout": "IPY_MODEL_d585bad3453c47048ac625a2079b262b",
            "_model_module": "@jupyter-widgets/controls",
            "children": [
              "IPY_MODEL_fdf1f6209ad940168c39f33cb621b4a2",
              "IPY_MODEL_9693f7501b524c9ab1580df0aa7feab6"
            ]
          }
        },
        "d585bad3453c47048ac625a2079b262b": {
          "model_module": "@jupyter-widgets/base",
          "model_name": "LayoutModel",
          "state": {
            "_view_name": "LayoutView",
            "grid_template_rows": null,
            "right": null,
            "justify_content": null,
            "_view_module": "@jupyter-widgets/base",
            "overflow": null,
            "_model_module_version": "1.2.0",
            "_view_count": null,
            "flex_flow": null,
            "width": null,
            "min_width": null,
            "border": null,
            "align_items": null,
            "bottom": null,
            "_model_module": "@jupyter-widgets/base",
            "top": null,
            "grid_column": null,
            "overflow_y": null,
            "overflow_x": null,
            "grid_auto_flow": null,
            "grid_area": null,
            "grid_template_columns": null,
            "flex": null,
            "_model_name": "LayoutModel",
            "justify_items": null,
            "grid_row": null,
            "max_height": null,
            "align_content": null,
            "visibility": null,
            "align_self": null,
            "height": null,
            "min_height": null,
            "padding": null,
            "grid_auto_rows": null,
            "grid_gap": null,
            "max_width": null,
            "order": null,
            "_view_module_version": "1.2.0",
            "grid_template_areas": null,
            "object_position": null,
            "object_fit": null,
            "grid_auto_columns": null,
            "margin": null,
            "display": null,
            "left": null
          }
        },
        "fdf1f6209ad940168c39f33cb621b4a2": {
          "model_module": "@jupyter-widgets/controls",
          "model_name": "IntProgressModel",
          "state": {
            "_view_name": "ProgressView",
            "style": "IPY_MODEL_3e25ec94c7fd4117a732ae99b4adeae7",
            "_dom_classes": [],
            "description": "100%",
            "_model_name": "IntProgressModel",
            "bar_style": "success",
            "max": 10,
            "_view_module": "@jupyter-widgets/controls",
            "_model_module_version": "1.5.0",
            "value": 10,
            "_view_count": null,
            "_view_module_version": "1.5.0",
            "orientation": "horizontal",
            "min": 0,
            "description_tooltip": null,
            "_model_module": "@jupyter-widgets/controls",
            "layout": "IPY_MODEL_a47912d8d6914632a747921179a64909"
          }
        },
        "9693f7501b524c9ab1580df0aa7feab6": {
          "model_module": "@jupyter-widgets/controls",
          "model_name": "HTMLModel",
          "state": {
            "_view_name": "HTMLView",
            "style": "IPY_MODEL_507457deba8c462885fa1871defc50dc",
            "_dom_classes": [],
            "description": "",
            "_model_name": "HTMLModel",
            "placeholder": "​",
            "_view_module": "@jupyter-widgets/controls",
            "_model_module_version": "1.5.0",
            "value": " 10/10 [12:13&lt;00:00, 73.33s/it]",
            "_view_count": null,
            "_view_module_version": "1.5.0",
            "description_tooltip": null,
            "_model_module": "@jupyter-widgets/controls",
            "layout": "IPY_MODEL_2159a93e0a034b6ab25a3ea3a878bcca"
          }
        },
        "3e25ec94c7fd4117a732ae99b4adeae7": {
          "model_module": "@jupyter-widgets/controls",
          "model_name": "ProgressStyleModel",
          "state": {
            "_view_name": "StyleView",
            "_model_name": "ProgressStyleModel",
            "description_width": "initial",
            "_view_module": "@jupyter-widgets/base",
            "_model_module_version": "1.5.0",
            "_view_count": null,
            "_view_module_version": "1.2.0",
            "bar_color": null,
            "_model_module": "@jupyter-widgets/controls"
          }
        },
        "a47912d8d6914632a747921179a64909": {
          "model_module": "@jupyter-widgets/base",
          "model_name": "LayoutModel",
          "state": {
            "_view_name": "LayoutView",
            "grid_template_rows": null,
            "right": null,
            "justify_content": null,
            "_view_module": "@jupyter-widgets/base",
            "overflow": null,
            "_model_module_version": "1.2.0",
            "_view_count": null,
            "flex_flow": null,
            "width": null,
            "min_width": null,
            "border": null,
            "align_items": null,
            "bottom": null,
            "_model_module": "@jupyter-widgets/base",
            "top": null,
            "grid_column": null,
            "overflow_y": null,
            "overflow_x": null,
            "grid_auto_flow": null,
            "grid_area": null,
            "grid_template_columns": null,
            "flex": null,
            "_model_name": "LayoutModel",
            "justify_items": null,
            "grid_row": null,
            "max_height": null,
            "align_content": null,
            "visibility": null,
            "align_self": null,
            "height": null,
            "min_height": null,
            "padding": null,
            "grid_auto_rows": null,
            "grid_gap": null,
            "max_width": null,
            "order": null,
            "_view_module_version": "1.2.0",
            "grid_template_areas": null,
            "object_position": null,
            "object_fit": null,
            "grid_auto_columns": null,
            "margin": null,
            "display": null,
            "left": null
          }
        },
        "507457deba8c462885fa1871defc50dc": {
          "model_module": "@jupyter-widgets/controls",
          "model_name": "DescriptionStyleModel",
          "state": {
            "_view_name": "StyleView",
            "_model_name": "DescriptionStyleModel",
            "description_width": "",
            "_view_module": "@jupyter-widgets/base",
            "_model_module_version": "1.5.0",
            "_view_count": null,
            "_view_module_version": "1.2.0",
            "_model_module": "@jupyter-widgets/controls"
          }
        },
        "2159a93e0a034b6ab25a3ea3a878bcca": {
          "model_module": "@jupyter-widgets/base",
          "model_name": "LayoutModel",
          "state": {
            "_view_name": "LayoutView",
            "grid_template_rows": null,
            "right": null,
            "justify_content": null,
            "_view_module": "@jupyter-widgets/base",
            "overflow": null,
            "_model_module_version": "1.2.0",
            "_view_count": null,
            "flex_flow": null,
            "width": null,
            "min_width": null,
            "border": null,
            "align_items": null,
            "bottom": null,
            "_model_module": "@jupyter-widgets/base",
            "top": null,
            "grid_column": null,
            "overflow_y": null,
            "overflow_x": null,
            "grid_auto_flow": null,
            "grid_area": null,
            "grid_template_columns": null,
            "flex": null,
            "_model_name": "LayoutModel",
            "justify_items": null,
            "grid_row": null,
            "max_height": null,
            "align_content": null,
            "visibility": null,
            "align_self": null,
            "height": null,
            "min_height": null,
            "padding": null,
            "grid_auto_rows": null,
            "grid_gap": null,
            "max_width": null,
            "order": null,
            "_view_module_version": "1.2.0",
            "grid_template_areas": null,
            "object_position": null,
            "object_fit": null,
            "grid_auto_columns": null,
            "margin": null,
            "display": null,
            "left": null
          }
        },
        "01ba15a12a6d4de08f6c57c23b66de21": {
          "model_module": "@jupyter-widgets/controls",
          "model_name": "HBoxModel",
          "state": {
            "_view_name": "HBoxView",
            "_dom_classes": [],
            "_model_name": "HBoxModel",
            "_view_module": "@jupyter-widgets/controls",
            "_model_module_version": "1.5.0",
            "_view_count": null,
            "_view_module_version": "1.5.0",
            "box_style": "",
            "layout": "IPY_MODEL_e82ec39c040b4543945243b12f0ad2c2",
            "_model_module": "@jupyter-widgets/controls",
            "children": [
              "IPY_MODEL_e7be80fc0ca9443c917e0cb6a99c89db",
              "IPY_MODEL_6f78ca37d82947898f8036228de320c9"
            ]
          }
        },
        "e82ec39c040b4543945243b12f0ad2c2": {
          "model_module": "@jupyter-widgets/base",
          "model_name": "LayoutModel",
          "state": {
            "_view_name": "LayoutView",
            "grid_template_rows": null,
            "right": null,
            "justify_content": null,
            "_view_module": "@jupyter-widgets/base",
            "overflow": null,
            "_model_module_version": "1.2.0",
            "_view_count": null,
            "flex_flow": null,
            "width": null,
            "min_width": null,
            "border": null,
            "align_items": null,
            "bottom": null,
            "_model_module": "@jupyter-widgets/base",
            "top": null,
            "grid_column": null,
            "overflow_y": null,
            "overflow_x": null,
            "grid_auto_flow": null,
            "grid_area": null,
            "grid_template_columns": null,
            "flex": null,
            "_model_name": "LayoutModel",
            "justify_items": null,
            "grid_row": null,
            "max_height": null,
            "align_content": null,
            "visibility": null,
            "align_self": null,
            "height": null,
            "min_height": null,
            "padding": null,
            "grid_auto_rows": null,
            "grid_gap": null,
            "max_width": null,
            "order": null,
            "_view_module_version": "1.2.0",
            "grid_template_areas": null,
            "object_position": null,
            "object_fit": null,
            "grid_auto_columns": null,
            "margin": null,
            "display": null,
            "left": null
          }
        },
        "e7be80fc0ca9443c917e0cb6a99c89db": {
          "model_module": "@jupyter-widgets/controls",
          "model_name": "IntProgressModel",
          "state": {
            "_view_name": "ProgressView",
            "style": "IPY_MODEL_75bdfa6f78b444f9abc0651dce0edc6b",
            "_dom_classes": [],
            "description": "100%",
            "_model_name": "IntProgressModel",
            "bar_style": "success",
            "max": 10,
            "_view_module": "@jupyter-widgets/controls",
            "_model_module_version": "1.5.0",
            "value": 10,
            "_view_count": null,
            "_view_module_version": "1.5.0",
            "orientation": "horizontal",
            "min": 0,
            "description_tooltip": null,
            "_model_module": "@jupyter-widgets/controls",
            "layout": "IPY_MODEL_d076df6dcec64b68947a944d1bb86760"
          }
        },
        "6f78ca37d82947898f8036228de320c9": {
          "model_module": "@jupyter-widgets/controls",
          "model_name": "HTMLModel",
          "state": {
            "_view_name": "HTMLView",
            "style": "IPY_MODEL_d9a91775898b4a5cb3206c257746e696",
            "_dom_classes": [],
            "description": "",
            "_model_name": "HTMLModel",
            "placeholder": "​",
            "_view_module": "@jupyter-widgets/controls",
            "_model_module_version": "1.5.0",
            "value": " 10/10 [12:09&lt;00:00, 72.98s/it]",
            "_view_count": null,
            "_view_module_version": "1.5.0",
            "description_tooltip": null,
            "_model_module": "@jupyter-widgets/controls",
            "layout": "IPY_MODEL_5f07b8bc85c5420c831f6d82363644a4"
          }
        },
        "75bdfa6f78b444f9abc0651dce0edc6b": {
          "model_module": "@jupyter-widgets/controls",
          "model_name": "ProgressStyleModel",
          "state": {
            "_view_name": "StyleView",
            "_model_name": "ProgressStyleModel",
            "description_width": "initial",
            "_view_module": "@jupyter-widgets/base",
            "_model_module_version": "1.5.0",
            "_view_count": null,
            "_view_module_version": "1.2.0",
            "bar_color": null,
            "_model_module": "@jupyter-widgets/controls"
          }
        },
        "d076df6dcec64b68947a944d1bb86760": {
          "model_module": "@jupyter-widgets/base",
          "model_name": "LayoutModel",
          "state": {
            "_view_name": "LayoutView",
            "grid_template_rows": null,
            "right": null,
            "justify_content": null,
            "_view_module": "@jupyter-widgets/base",
            "overflow": null,
            "_model_module_version": "1.2.0",
            "_view_count": null,
            "flex_flow": null,
            "width": null,
            "min_width": null,
            "border": null,
            "align_items": null,
            "bottom": null,
            "_model_module": "@jupyter-widgets/base",
            "top": null,
            "grid_column": null,
            "overflow_y": null,
            "overflow_x": null,
            "grid_auto_flow": null,
            "grid_area": null,
            "grid_template_columns": null,
            "flex": null,
            "_model_name": "LayoutModel",
            "justify_items": null,
            "grid_row": null,
            "max_height": null,
            "align_content": null,
            "visibility": null,
            "align_self": null,
            "height": null,
            "min_height": null,
            "padding": null,
            "grid_auto_rows": null,
            "grid_gap": null,
            "max_width": null,
            "order": null,
            "_view_module_version": "1.2.0",
            "grid_template_areas": null,
            "object_position": null,
            "object_fit": null,
            "grid_auto_columns": null,
            "margin": null,
            "display": null,
            "left": null
          }
        },
        "d9a91775898b4a5cb3206c257746e696": {
          "model_module": "@jupyter-widgets/controls",
          "model_name": "DescriptionStyleModel",
          "state": {
            "_view_name": "StyleView",
            "_model_name": "DescriptionStyleModel",
            "description_width": "",
            "_view_module": "@jupyter-widgets/base",
            "_model_module_version": "1.5.0",
            "_view_count": null,
            "_view_module_version": "1.2.0",
            "_model_module": "@jupyter-widgets/controls"
          }
        },
        "5f07b8bc85c5420c831f6d82363644a4": {
          "model_module": "@jupyter-widgets/base",
          "model_name": "LayoutModel",
          "state": {
            "_view_name": "LayoutView",
            "grid_template_rows": null,
            "right": null,
            "justify_content": null,
            "_view_module": "@jupyter-widgets/base",
            "overflow": null,
            "_model_module_version": "1.2.0",
            "_view_count": null,
            "flex_flow": null,
            "width": null,
            "min_width": null,
            "border": null,
            "align_items": null,
            "bottom": null,
            "_model_module": "@jupyter-widgets/base",
            "top": null,
            "grid_column": null,
            "overflow_y": null,
            "overflow_x": null,
            "grid_auto_flow": null,
            "grid_area": null,
            "grid_template_columns": null,
            "flex": null,
            "_model_name": "LayoutModel",
            "justify_items": null,
            "grid_row": null,
            "max_height": null,
            "align_content": null,
            "visibility": null,
            "align_self": null,
            "height": null,
            "min_height": null,
            "padding": null,
            "grid_auto_rows": null,
            "grid_gap": null,
            "max_width": null,
            "order": null,
            "_view_module_version": "1.2.0",
            "grid_template_areas": null,
            "object_position": null,
            "object_fit": null,
            "grid_auto_columns": null,
            "margin": null,
            "display": null,
            "left": null
          }
        }
      }
    }
  },
  "cells": [
    {
      "cell_type": "markdown",
      "metadata": {
        "id": "view-in-github",
        "colab_type": "text"
      },
      "source": [
        "<a href=\"https://colab.research.google.com/github/thinhngo-x/deep-learning/blob/master/TD6_CNNArchitectures.ipynb\" target=\"_parent\"><img src=\"https://colab.research.google.com/assets/colab-badge.svg\" alt=\"Open In Colab\"/></a>"
      ]
    },
    {
      "cell_type": "markdown",
      "metadata": {
        "id": "pOukmG4j7Qyx",
        "colab_type": "text"
      },
      "source": [
        "# 0. Setup"
      ]
    },
    {
      "cell_type": "code",
      "metadata": {
        "id": "fVjZRSBX7VkU",
        "colab_type": "code",
        "colab": {}
      },
      "source": [
        "import torch.nn as nn\n",
        "import torch.utils.model_zoo as model_zoo\n",
        "from tqdm.notebook import tqdm"
      ],
      "execution_count": 0,
      "outputs": []
    },
    {
      "cell_type": "code",
      "metadata": {
        "id": "NT4dEo7ZKDsc",
        "colab_type": "code",
        "colab": {}
      },
      "source": [
        "import torch\n",
        "import torchvision\n",
        "import torchvision.transforms as transforms\n",
        "import numpy as np\n",
        "import matplotlib.pyplot as plt\n",
        "\n",
        "import torch.nn as nn\n",
        "import torch.nn.functional as F\n",
        "from torch.utils.data.sampler import SubsetRandomSampler"
      ],
      "execution_count": 0,
      "outputs": []
    },
    {
      "cell_type": "code",
      "metadata": {
        "id": "2ldsOZGniW3O",
        "colab_type": "code",
        "colab": {}
      },
      "source": [
        "def imshow(img):\n",
        "    npimg = img.numpy()\n",
        "    plt.imshow(np.transpose(npimg, (1, 2, 0)))\n",
        "    plt.show()\n",
        "\n",
        "def show_first_layer(model):\n",
        "    filter = model.features[0].weight.cpu().data\n",
        "    filter = (1/(2*filter.max()))*filter + 0.5 #Normalizing the values to [0,1]\n",
        "    print(filter.shape)\n",
        "    imshow(torchvision.utils.make_grid(filter))"
      ],
      "execution_count": 0,
      "outputs": []
    },
    {
      "cell_type": "code",
      "metadata": {
        "id": "x7Qj_9nmOCMa",
        "colab_type": "code",
        "colab": {}
      },
      "source": [
        "def init(m):\n",
        "    if isinstance(m, nn.Conv2d):\n",
        "        nn.init.kaiming_normal_(m.weight, mode='fan_out', nonlinearity='relu')\n",
        "        if m.bias is not None:\n",
        "            nn.init.constant_(m.bias, 0)\n",
        "    elif isinstance(m, nn.BatchNorm2d):\n",
        "        nn.init.constant_(m.weight, 1)\n",
        "        nn.init.constant_(m.bias, 0)\n",
        "    elif isinstance(m, nn.Linear):\n",
        "        nn.init.normal_(m.weight, 0, 0.01)\n",
        "        nn.init.constant_(m.bias, 0)"
      ],
      "execution_count": 0,
      "outputs": []
    },
    {
      "cell_type": "markdown",
      "metadata": {
        "id": "uoo2oHec7YiA",
        "colab_type": "text"
      },
      "source": [
        "# 1. AlexNet"
      ]
    },
    {
      "cell_type": "code",
      "metadata": {
        "id": "o-Wy1SR2Jwno",
        "colab_type": "code",
        "outputId": "49191a97-5460-49c4-9888-322cf3a4708c",
        "colab": {
          "base_uri": "https://localhost:8080/",
          "height": 369,
          "referenced_widgets": [
            "a2432529ab734f4cae8aceb7a7a3129a",
            "deaed59505a04076b18c991182b8482d",
            "ac12f8ff8a524269aafa86edf4160a4c",
            "46b2d262143d48b9b27167bf519a4a2c",
            "631501490b2f4a5f8e161f3e9eeba26b",
            "20265dcad32349a68e8d84287b08988a",
            "ba1e656a9c00496081b4e3e8b4e3f784",
            "080d0eb611354d5cae3c8a84d06f8892"
          ]
        }
      },
      "source": [
        "torchvision.transforms.functional.resize\n",
        "transform = transforms.Compose(\n",
        "    [\n",
        "     transforms.Resize(size=(224, 224)),\n",
        "     transforms.ToTensor(),\n",
        "     transforms.Normalize((0.5,), (0.5,)),\n",
        "])\n",
        "     \n",
        "\n",
        "batch_size = 64\n",
        "\n",
        "idx_train = np.arange(50000)\n",
        "np.random.shuffle(idx_train)\n",
        "idx_train = idx_train[:1000]\n",
        "\n",
        "trainset = torchvision.datasets.CIFAR10(root=\"./data\", train=True, transform=transform, download=True)\n",
        "trainloader = torch.utils.data.DataLoader(trainset,batch_size=batch_size,shuffle=False,num_workers=2,\n",
        "                                         sampler=SubsetRandomSampler(idx_train)\n",
        "                                         )\n",
        "\n",
        "idx_test = np.arange(10000)\n",
        "np.random.shuffle(idx_test)\n",
        "idx_test = idx_train[:1000]\n",
        "\n",
        "testset = torchvision.datasets.CIFAR10(root=\"./data\", train=False, transform=transform, download=True)\n",
        "testloader = torch.utils.data.DataLoader(trainset,batch_size=batch_size,shuffle=False,num_workers=2)\n",
        "\n",
        "\n",
        "def imshow_(img):\n",
        "    img = img / 2 + 0.5     # unnormalize\n",
        "    npimg = img.numpy()\n",
        "    plt.imshow(np.transpose(npimg, (1, 2, 0)))\n",
        "    plt.show()\n",
        "\n",
        "\n",
        "# get some random training images\n",
        "dataiter = iter(trainloader)\n",
        "images, labels = dataiter.next()\n",
        "\n",
        "# show images\n",
        "imshow_(torchvision.utils.make_grid(images))"
      ],
      "execution_count": 0,
      "outputs": [
        {
          "output_type": "stream",
          "text": [
            "Downloading https://www.cs.toronto.edu/~kriz/cifar-10-python.tar.gz to ./data/cifar-10-python.tar.gz\n"
          ],
          "name": "stdout"
        },
        {
          "output_type": "display_data",
          "data": {
            "application/vnd.jupyter.widget-view+json": {
              "model_id": "a2432529ab734f4cae8aceb7a7a3129a",
              "version_minor": 0,
              "version_major": 2
            },
            "text/plain": [
              "HBox(children=(IntProgress(value=1, bar_style='info', max=1), HTML(value='')))"
            ]
          },
          "metadata": {
            "tags": []
          }
        },
        {
          "output_type": "stream",
          "text": [
            "Extracting ./data/cifar-10-python.tar.gz to ./data\n",
            "Files already downloaded and verified\n"
          ],
          "name": "stdout"
        },
        {
          "output_type": "display_data",
          "data": {
            "image/png": "[encoded data removed]",
            "text/plain": [
              "<Figure size 432x288 with 1 Axes>"
            ]
          },
          "metadata": {
            "tags": [],
            "needs_background": "light"
          }
        },
        {
          "output_type": "stream",
          "text": [
            "\n"
          ],
          "name": "stdout"
        }
      ]
    },
    {
      "cell_type": "code",
      "metadata": {
        "id": "fxbTptDALrlR",
        "colab_type": "code",
        "colab": {}
      },
      "source": [
        "criterion = nn.CrossEntropyLoss()\n",
        "\n",
        "def accuracy(net, test_loader, cuda=True):\n",
        "  net.eval()\n",
        "  correct = 0\n",
        "  total = 0\n",
        "  loss = 0\n",
        "  with torch.no_grad():\n",
        "      for data in test_loader:\n",
        "          images, labels = data\n",
        "          if cuda:\n",
        "            images = images.type(torch.cuda.FloatTensor)\n",
        "            labels = labels.type(torch.cuda.LongTensor)\n",
        "          outputs = net(images)\n",
        "          # loss+= criterion(outputs, labels).item()\n",
        "          _, predicted = torch.max(outputs.data, 1)\n",
        "          total += labels.size(0)\n",
        "          correct += (predicted == labels).sum().item()\n",
        "          # if total > 100:\n",
        "            # break\n",
        "  net.train()\n",
        "  print('Accuracy of the network on the test images: %d %%' % (\n",
        "      100 * correct / total))\n",
        "  # return (100.0 * correct / total, loss/total)\n",
        "  return 100.0 * correct\n",
        "\n",
        "def train(net, optimizer, train_loader, test_loader, loss,  n_epoch = 5,\n",
        "          train_acc_period = 100,\n",
        "          test_acc_period = 5,\n",
        "          cuda=True):\n",
        "  loss_train = []\n",
        "  loss_test = []\n",
        "  total = 0\n",
        "  for epoch in range(n_epoch):  # loop over the dataset multiple times\n",
        "      running_loss = 0.0\n",
        "      running_acc = 0.0\n",
        "      for i, data in enumerate(train_loader, 0):\n",
        "          # get the inputs\n",
        "          inputs, labels = data\n",
        "          if cuda:\n",
        "            inputs = inputs.type(torch.cuda.FloatTensor)\n",
        "            labels = labels.type(torch.cuda.LongTensor)\n",
        "          # print(inputs.shape)\n",
        "          # zero the parameter gradients\n",
        "          optimizer.zero_grad()\n",
        "\n",
        "          # forward + backward + optimize\n",
        "          outputs = net(inputs)\n",
        "          \n",
        "          loss = criterion(outputs, labels)\n",
        "          loss.backward()\n",
        "          optimizer.step()\n",
        "          total += labels.size(0)\n",
        "          # print statistics\n",
        "          running_loss = 0.33*loss.item()/labels.size(0) + 0.66*running_loss\n",
        "          _, predicted = torch.max(outputs.data, 1)\n",
        "          correct = (predicted == labels).sum().item()/labels.size(0)\n",
        "          running_acc = 0.3*correct + 0.66*running_acc\n",
        "          if i % train_acc_period == train_acc_period-1:\n",
        "            print('[%d, %5d] loss: %.3f' %(epoch + 1, i + 1, running_loss))\n",
        "            print('[%d, %5d] acc: %.3f' %(epoch + 1, i + 1, running_acc))\n",
        "            running_loss = 0.0\n",
        "            total = 0\n",
        "            # break\n",
        "      if epoch % test_acc_period == test_acc_period-1:\n",
        "          cur_acc, cur_loss = accuracy(net, test_loader, cuda=cuda)\n",
        "          print('[%d] loss: %.3f' %(epoch + 1, cur_loss))\n",
        "          print('[%d] acc: %.3f' %(epoch + 1, cur_acc))\n",
        "      \n",
        "  print('Finished Training')"
      ],
      "execution_count": 0,
      "outputs": []
    },
    {
      "cell_type": "code",
      "metadata": {
        "id": "LMJo3qKe7ie6",
        "colab_type": "code",
        "colab": {}
      },
      "source": [
        "class AlexNet(nn.Module):\n",
        "\n",
        "    def __init__(self, num_classes=1000):\n",
        "        super(AlexNet, self).__init__()\n",
        "        self.features = nn.Sequential(#224\n",
        "            nn.Conv2d(3, 64, 11, stride=4, padding=2), # 55\n",
        "            nn.ReLU(),\n",
        "            nn.MaxPool2d(2, stride=2), # 27\n",
        "            nn.Conv2d(64, 192, 5, padding=2), # 27\n",
        "            nn.ReLU(),\n",
        "            nn.MaxPool2d(2, stride=2), # 13\n",
        "            nn.Conv2d(192, 384, 3, padding=1), # 13\n",
        "            nn.ReLU(),\n",
        "            nn.Conv2d(384, 256, 3, padding=1), # 13\n",
        "            nn.ReLU(),\n",
        "            nn.Conv2d(256, 256, 3, padding=1), # 13\n",
        "            nn.ReLU(),\n",
        "\t\t)\n",
        "        self.avgpool = nn.AdaptiveAvgPool2d((6, 6))\n",
        "        self.classifier = nn.Sequential(\n",
        "            nn.Dropout(),\n",
        "            nn.Linear(256 * 6 * 6, 4096),\n",
        "            nn.ReLU(inplace=True),\n",
        "            nn.Dropout(),\n",
        "            nn.Linear(4096, 4096),\n",
        "            nn.ReLU(inplace=True),\n",
        "            nn.Linear(4096, num_classes),\n",
        "        )\n",
        "\n",
        "    def forward(self, x):\n",
        "        x = self.features(x)\n",
        "        x = self.avgpool(x)\n",
        "        x = x.view(x.size(0), 256 * 6 * 6)\n",
        "        x = self.classifier(x)\n",
        "        return x"
      ],
      "execution_count": 0,
      "outputs": []
    },
    {
      "cell_type": "code",
      "metadata": {
        "id": "Md998KORJLoI",
        "colab_type": "code",
        "colab": {}
      },
      "source": [
        "model_urls = {\n",
        "'alexnet': 'https://download.pytorch.org/models/alexnet-owt-4df8aa71.pth',\n",
        "}\n",
        "\n",
        "def alexnet_classifier(num_classes):\n",
        "    classifier = nn.Sequential(\n",
        "        nn.Dropout(),\n",
        "        nn.Linear(256 * 6 * 6, 128),\n",
        "        nn.ReLU(inplace=True),\n",
        "        nn.Dropout(),\n",
        "        nn.Linear(128, 64),\n",
        "        nn.ReLU(inplace=True),\n",
        "        nn.Linear(64, num_classes),\n",
        "    )\n",
        "    return classifier\n",
        "\n",
        "def alexnet(num_classes, pretrained=False, **kwargs):\n",
        "    \"\"\"AlexNet model architecture from the \"One weird trick...\" paper.\n",
        "    Args:\n",
        "    pretrained (bool): If True, returns a model pre-trained on ImageNet\n",
        "    \"\"\"\n",
        "    model = AlexNet(**kwargs)\n",
        "    if pretrained:\n",
        "        model.load_state_dict(model_zoo.load_url(model_urls['alexnet']))\n",
        "        for p in model.features.parameters():\n",
        "            p.requires_grad=False\n",
        "    classifier = alexnet_classifier(num_classes)\n",
        "    model.classifier = classifier\n",
        "    return model"
      ],
      "execution_count": 0,
      "outputs": []
    },
    {
      "cell_type": "code",
      "metadata": {
        "id": "x_3U5kgaNMDN",
        "colab_type": "code",
        "outputId": "6ce1c128-7564-4527-a1af-0d5bef811ae9",
        "colab": {
          "base_uri": "https://localhost:8080/",
          "height": 1000
        }
      },
      "source": [
        "net_no_pretrained = alexnet(num_classes=10, pretrained=False)\n",
        "\n",
        "#net = AlexNet(10)\n",
        "use_cuda = True\n",
        "if use_cuda and torch.cuda.is_available():\n",
        "    print(\"using cuda\")\n",
        "    net_no_pretrained.cuda()\n",
        "learning_rate = 1e-3\n",
        "optimizer = torch.optim.Adam(net_no_pretrained.parameters(),lr=learning_rate)\n",
        "train(net_no_pretrained, optimizer, trainloader, testloader, criterion,  n_epoch = 50,\n",
        "      train_acc_period = 10,\n",
        "      test_acc_period = 1000)\n",
        "accuracy(net_no_pretrained, testloader, cuda=use_cuda)"
      ],
      "execution_count": 0,
      "outputs": [
        {
          "output_type": "stream",
          "text": [
            "using cuda\n",
            "[1,    10] loss: 0.034\n",
            "[1,    10] acc: 0.152\n",
            "[2,    10] loss: 0.034\n",
            "[2,    10] acc: 0.143\n",
            "[3,    10] loss: 0.033\n",
            "[3,    10] acc: 0.150\n",
            "[4,    10] loss: 0.033\n",
            "[4,    10] acc: 0.191\n",
            "[5,    10] loss: 0.030\n",
            "[5,    10] acc: 0.208\n",
            "[6,    10] loss: 0.032\n",
            "[6,    10] acc: 0.173\n",
            "[7,    10] loss: 0.032\n",
            "[7,    10] acc: 0.183\n",
            "[8,    10] loss: 0.031\n",
            "[8,    10] acc: 0.194\n",
            "[9,    10] loss: 0.030\n",
            "[9,    10] acc: 0.208\n",
            "[10,    10] loss: 0.029\n",
            "[10,    10] acc: 0.243\n",
            "[11,    10] loss: 0.029\n",
            "[11,    10] acc: 0.243\n",
            "[12,    10] loss: 0.028\n",
            "[12,    10] acc: 0.281\n",
            "[13,    10] loss: 0.029\n",
            "[13,    10] acc: 0.258\n",
            "[14,    10] loss: 0.028\n",
            "[14,    10] acc: 0.305\n",
            "[15,    10] loss: 0.027\n",
            "[15,    10] acc: 0.297\n",
            "[16,    10] loss: 0.027\n",
            "[16,    10] acc: 0.280\n",
            "[17,    10] loss: 0.025\n",
            "[17,    10] acc: 0.317\n",
            "[18,    10] loss: 0.025\n",
            "[18,    10] acc: 0.310\n",
            "[19,    10] loss: 0.025\n",
            "[19,    10] acc: 0.321\n",
            "[20,    10] loss: 0.024\n",
            "[20,    10] acc: 0.317\n",
            "[21,    10] loss: 0.023\n",
            "[21,    10] acc: 0.352\n",
            "[22,    10] loss: 0.024\n",
            "[22,    10] acc: 0.339\n",
            "[23,    10] loss: 0.022\n",
            "[23,    10] acc: 0.404\n",
            "[24,    10] loss: 0.022\n",
            "[24,    10] acc: 0.411\n",
            "[25,    10] loss: 0.020\n",
            "[25,    10] acc: 0.412\n",
            "[26,    10] loss: 0.019\n",
            "[26,    10] acc: 0.450\n",
            "[27,    10] loss: 0.021\n",
            "[27,    10] acc: 0.407\n",
            "[28,    10] loss: 0.021\n",
            "[28,    10] acc: 0.402\n",
            "[29,    10] loss: 0.019\n",
            "[29,    10] acc: 0.455\n",
            "[30,    10] loss: 0.017\n",
            "[30,    10] acc: 0.491\n",
            "[31,    10] loss: 0.020\n",
            "[31,    10] acc: 0.466\n",
            "[32,    10] loss: 0.017\n",
            "[32,    10] acc: 0.502\n",
            "[33,    10] loss: 0.016\n",
            "[33,    10] acc: 0.505\n",
            "[34,    10] loss: 0.015\n",
            "[34,    10] acc: 0.515\n",
            "[35,    10] loss: 0.015\n",
            "[35,    10] acc: 0.500\n",
            "[36,    10] loss: 0.015\n",
            "[36,    10] acc: 0.538\n",
            "[37,    10] loss: 0.017\n",
            "[37,    10] acc: 0.510\n",
            "[38,    10] loss: 0.015\n",
            "[38,    10] acc: 0.555\n",
            "[39,    10] loss: 0.014\n",
            "[39,    10] acc: 0.593\n",
            "[40,    10] loss: 0.014\n",
            "[40,    10] acc: 0.564\n",
            "[41,    10] loss: 0.012\n",
            "[41,    10] acc: 0.589\n",
            "[42,    10] loss: 0.011\n",
            "[42,    10] acc: 0.637\n",
            "[43,    10] loss: 0.010\n",
            "[43,    10] acc: 0.660\n",
            "[44,    10] loss: 0.011\n",
            "[44,    10] acc: 0.621\n",
            "[45,    10] loss: 0.011\n",
            "[45,    10] acc: 0.610\n",
            "[46,    10] loss: 0.009\n",
            "[46,    10] acc: 0.653\n",
            "[47,    10] loss: 0.009\n",
            "[47,    10] acc: 0.682\n",
            "[48,    10] loss: 0.009\n",
            "[48,    10] acc: 0.667\n",
            "[49,    10] loss: 0.009\n",
            "[49,    10] acc: 0.663\n",
            "[50,    10] loss: 0.009\n",
            "[50,    10] acc: 0.694\n",
            "Finished Training\n",
            "Accuracy of the network on the test images: 41 %\n"
          ],
          "name": "stdout"
        },
        {
          "output_type": "execute_result",
          "data": {
            "text/plain": [
              "2070600.0"
            ]
          },
          "metadata": {
            "tags": []
          },
          "execution_count": 8
        }
      ]
    },
    {
      "cell_type": "code",
      "metadata": {
        "id": "s8urxWH9NeFF",
        "colab_type": "code",
        "outputId": "12279a7f-840c-4c60-938e-ac5d68cf2996",
        "colab": {
          "base_uri": "https://localhost:8080/",
          "height": 1000,
          "referenced_widgets": [
            "013996910f7f4d2697faacca35ee6728",
            "66282fa8c7344afcafbb587b77461ef0",
            "9c11ed381ae148e08bf81361e8c72451",
            "89e7dccc6d4a4dc09f657b875031cb87",
            "69293b6c1526455d8fec5c05297f310e",
            "fa883ba7653d442ab56e97f874267c47",
            "bb5e62dd36154e4c9c5330fc2dd82485",
            "259023d69c3e40f39ff8c890bb47cbae"
          ]
        }
      },
      "source": [
        "net = alexnet(10, pretrained=True)\n",
        "\n",
        "# net = AlexNet(10)\n",
        "use_cuda = True\n",
        "if use_cuda and torch.cuda.is_available():\n",
        "    print(\"using cuda\")\n",
        "    net.cuda()\n",
        "learning_rate = 1e-3\n",
        "optimizer = torch.optim.Adam(net.parameters(),lr=learning_rate)\n",
        "train(net, optimizer, trainloader, testloader, criterion,  n_epoch = 50,\n",
        "      train_acc_period = 10,\n",
        "      test_acc_period = 1000)\n",
        "accuracy(net, testloader, cuda=use_cuda)"
      ],
      "execution_count": 0,
      "outputs": [
        {
          "output_type": "stream",
          "text": [
            "Downloading: \"https://download.pytorch.org/models/alexnet-owt-4df8aa71.pth\" to /root/.cache/torch/checkpoints/alexnet-owt-4df8aa71.pth\n"
          ],
          "name": "stderr"
        },
        {
          "output_type": "display_data",
          "data": {
            "application/vnd.jupyter.widget-view+json": {
              "model_id": "013996910f7f4d2697faacca35ee6728",
              "version_minor": 0,
              "version_major": 2
            },
            "text/plain": [
              "HBox(children=(IntProgress(value=0, max=244418560), HTML(value='')))"
            ]
          },
          "metadata": {
            "tags": []
          }
        },
        {
          "output_type": "stream",
          "text": [
            "\n",
            "using cuda\n",
            "[1,    10] loss: 0.033\n",
            "[1,    10] acc: 0.146\n",
            "[2,    10] loss: 0.028\n",
            "[2,    10] acc: 0.314\n",
            "[3,    10] loss: 0.022\n",
            "[3,    10] acc: 0.439\n",
            "[4,    10] loss: 0.018\n",
            "[4,    10] acc: 0.499\n",
            "[5,    10] loss: 0.016\n",
            "[5,    10] acc: 0.533\n",
            "[6,    10] loss: 0.012\n",
            "[6,    10] acc: 0.623\n",
            "[7,    10] loss: 0.012\n",
            "[7,    10] acc: 0.627\n",
            "[8,    10] loss: 0.012\n",
            "[8,    10] acc: 0.639\n",
            "[9,    10] loss: 0.010\n",
            "[9,    10] acc: 0.680\n",
            "[10,    10] loss: 0.008\n",
            "[10,    10] acc: 0.687\n",
            "[11,    10] loss: 0.007\n",
            "[11,    10] acc: 0.744\n",
            "[12,    10] loss: 0.006\n",
            "[12,    10] acc: 0.750\n",
            "[13,    10] loss: 0.006\n",
            "[13,    10] acc: 0.747\n",
            "[14,    10] loss: 0.005\n",
            "[14,    10] acc: 0.784\n",
            "[15,    10] loss: 0.005\n",
            "[15,    10] acc: 0.787\n",
            "[16,    10] loss: 0.004\n",
            "[16,    10] acc: 0.792\n",
            "[17,    10] loss: 0.004\n",
            "[17,    10] acc: 0.795\n",
            "[18,    10] loss: 0.003\n",
            "[18,    10] acc: 0.807\n",
            "[19,    10] loss: 0.003\n",
            "[19,    10] acc: 0.816\n",
            "[20,    10] loss: 0.003\n",
            "[20,    10] acc: 0.820\n",
            "[21,    10] loss: 0.003\n",
            "[21,    10] acc: 0.825\n",
            "[22,    10] loss: 0.002\n",
            "[22,    10] acc: 0.822\n",
            "[23,    10] loss: 0.003\n",
            "[23,    10] acc: 0.826\n",
            "[24,    10] loss: 0.002\n",
            "[24,    10] acc: 0.814\n",
            "[25,    10] loss: 0.002\n",
            "[25,    10] acc: 0.829\n",
            "[26,    10] loss: 0.002\n",
            "[26,    10] acc: 0.833\n",
            "[27,    10] loss: 0.002\n",
            "[27,    10] acc: 0.839\n",
            "[28,    10] loss: 0.002\n",
            "[28,    10] acc: 0.824\n",
            "[29,    10] loss: 0.002\n",
            "[29,    10] acc: 0.839\n",
            "[30,    10] loss: 0.002\n",
            "[30,    10] acc: 0.840\n",
            "[31,    10] loss: 0.002\n",
            "[31,    10] acc: 0.840\n",
            "[32,    10] loss: 0.001\n",
            "[32,    10] acc: 0.842\n",
            "[33,    10] loss: 0.002\n",
            "[33,    10] acc: 0.833\n",
            "[34,    10] loss: 0.002\n",
            "[34,    10] acc: 0.846\n",
            "[35,    10] loss: 0.001\n",
            "[35,    10] acc: 0.853\n",
            "[36,    10] loss: 0.001\n",
            "[36,    10] acc: 0.839\n",
            "[37,    10] loss: 0.001\n",
            "[37,    10] acc: 0.847\n",
            "[38,    10] loss: 0.001\n",
            "[38,    10] acc: 0.844\n",
            "[39,    10] loss: 0.001\n",
            "[39,    10] acc: 0.839\n",
            "[40,    10] loss: 0.001\n",
            "[40,    10] acc: 0.837\n",
            "[41,    10] loss: 0.002\n",
            "[41,    10] acc: 0.839\n",
            "[42,    10] loss: 0.001\n",
            "[42,    10] acc: 0.859\n",
            "[43,    10] loss: 0.001\n",
            "[43,    10] acc: 0.837\n",
            "[44,    10] loss: 0.001\n",
            "[44,    10] acc: 0.853\n",
            "[45,    10] loss: 0.002\n",
            "[45,    10] acc: 0.818\n",
            "[46,    10] loss: 0.001\n",
            "[46,    10] acc: 0.859\n",
            "[47,    10] loss: 0.001\n",
            "[47,    10] acc: 0.851\n",
            "[48,    10] loss: 0.001\n",
            "[48,    10] acc: 0.848\n",
            "[49,    10] loss: 0.001\n",
            "[49,    10] acc: 0.849\n",
            "[50,    10] loss: 0.001\n",
            "[50,    10] acc: 0.854\n",
            "Finished Training\n",
            "Accuracy of the network on the test images: 67 %\n"
          ],
          "name": "stdout"
        },
        {
          "output_type": "execute_result",
          "data": {
            "text/plain": [
              "3388000.0"
            ]
          },
          "metadata": {
            "tags": []
          },
          "execution_count": 11
        }
      ]
    },
    {
      "cell_type": "code",
      "metadata": {
        "id": "aplmsob5QGk9",
        "colab_type": "code",
        "outputId": "7f955d81-e6bf-4752-d457-954c946062ca",
        "colab": {
          "base_uri": "https://localhost:8080/",
          "height": 302
        }
      },
      "source": [
        "show_first_layer(net_no_pretrained)"
      ],
      "execution_count": 0,
      "outputs": [
        {
          "output_type": "stream",
          "text": [
            "Clipping input data to the valid range for imshow with RGB data ([0..1] for floats or [0..255] for integers).\n"
          ],
          "name": "stderr"
        },
        {
          "output_type": "stream",
          "text": [
            "torch.Size([64, 3, 11, 11])\n"
          ],
          "name": "stdout"
        },
        {
          "output_type": "display_data",
          "data": {
            "image/png": "[encoded data removed]",
            "text/plain": [
              "<Figure size 432x288 with 1 Axes>"
            ]
          },
          "metadata": {
            "tags": [],
            "needs_background": "light"
          }
        }
      ]
    },
    {
      "cell_type": "code",
      "metadata": {
        "id": "FJ8KOW5vawLB",
        "colab_type": "code",
        "outputId": "31aa7fd4-d22c-44a3-f34b-85e1c4cc3400",
        "colab": {
          "base_uri": "https://localhost:8080/",
          "height": 285
        }
      },
      "source": [
        "show_first_layer(net)"
      ],
      "execution_count": 0,
      "outputs": [
        {
          "output_type": "stream",
          "text": [
            "torch.Size([64, 3, 11, 11])\n"
          ],
          "name": "stdout"
        },
        {
          "output_type": "display_data",
          "data": {
            "image/png": "[encoded data removed]",
            "text/plain": [
              "<Figure size 432x288 with 1 Axes>"
            ]
          },
          "metadata": {
            "tags": [],
            "needs_background": "light"
          }
        }
      ]
    },
    {
      "cell_type": "markdown",
      "metadata": {
        "id": "ZTkfVe_TbECg",
        "colab_type": "text"
      },
      "source": [
        "# 2. VGG"
      ]
    },
    {
      "cell_type": "code",
      "metadata": {
        "id": "rWI4c977bHRm",
        "colab_type": "code",
        "colab": {}
      },
      "source": [
        "import torch.nn as nn\n",
        "import torch.utils.model_zoo as model_zoo\n",
        "\n",
        "\n",
        "model_urls = {\n",
        "    'vgg11_bn': 'https://download.pytorch.org/models/vgg11_bn-6002323d.pth'\n",
        "}\n",
        "\n",
        "\n",
        "class VGG(nn.Module):\n",
        "\n",
        "    def __init__(self, features, num_classes=1000, init_weights=True):\n",
        "        super(VGG, self).__init__()\n",
        "        self.features = features\n",
        "        self.avgpool = nn.AdaptiveAvgPool2d((7, 7))\n",
        "        self.classifier = nn.Sequential(\n",
        "            nn.Linear(512 * 7 * 7, 4096),\n",
        "            nn.ReLU(True),\n",
        "            nn.Dropout(),\n",
        "            nn.Linear(4096, 4096),\n",
        "            nn.ReLU(True),\n",
        "            nn.Dropout(),\n",
        "            nn.Linear(4096, num_classes)\n",
        "        )\n",
        "        if init_weights:\n",
        "            self._initialize_weights()\n",
        "\n",
        "    def forward(self, x):\n",
        "        x = self.features(x)\n",
        "        x = self.avgpool(x)\n",
        "        x = x.view(x.size(0), -1)\n",
        "        x = self.classifier(x)\n",
        "        return x\n",
        "\n",
        "    def _initialize_weights(self):\n",
        "        for m in self.modules():\n",
        "            if isinstance(m, nn.Conv2d):\n",
        "                nn.init.kaiming_normal_(m.weight, mode='fan_out', nonlinearity='relu')\n",
        "                if m.bias is not None:\n",
        "                    nn.init.constant_(m.bias, 0)\n",
        "            elif isinstance(m, nn.BatchNorm2d):\n",
        "                nn.init.constant_(m.weight, 1)\n",
        "                nn.init.constant_(m.bias, 0)\n",
        "            elif isinstance(m, nn.Linear):\n",
        "                nn.init.normal_(m.weight, 0, 0.01)\n",
        "                nn.init.constant_(m.bias, 0)\n",
        "\n",
        "\n",
        "def make_layers(cfg, batch_norm=False):\n",
        "    layers = []\n",
        "    in_chan = 3\n",
        "    for name in cfg :\n",
        "        if type(name) == int:\n",
        "            layers.append(nn.Conv2d(in_chan, name, 3, padding=1))\n",
        "            in_chan = name\n",
        "            if batch_norm :\n",
        "                layers.append(nn.BatchNorm2d(name))\n",
        "            layers.append(nn.ReLU())\n",
        "        elif name == 'M':\n",
        "            layers.append(nn.MaxPool2d(2, stride=2))\n",
        "    return nn.Sequential(*layers)\n",
        "\n",
        "cfg = {\n",
        "    'A': [64, 'M', 128, 'M', 256, 256, 'M', 512, 512, 'M', 512, 512, 'M']\n",
        "}"
      ],
      "execution_count": 0,
      "outputs": []
    },
    {
      "cell_type": "code",
      "metadata": {
        "id": "hPTHyRbTexvE",
        "colab_type": "code",
        "colab": {}
      },
      "source": [
        "def vgg_11_classifier(num_classes):\n",
        "  classifier = nn.Sequential(\n",
        "            nn.Dropout(),\n",
        "            nn.Linear(512 * 7 * 7, 128),\n",
        "            nn.ReLU(inplace=True),\n",
        "            nn.Dropout(),\n",
        "            nn.Linear(128, 64),\n",
        "            nn.ReLU(inplace=True),\n",
        "            nn.Linear(64, num_classes),\n",
        "        )\n",
        "  return classifier\n",
        "  \n",
        "def vgg11(num_classes, pretrained=False, **kwargs):\n",
        "    \"\"\"VGG 11-layer model (configuration \"A\") with batch normalization\n",
        "    Args:\n",
        "        pretrained (bool): If True, returns a model pre-trained on ImageNet\n",
        "    \"\"\"\n",
        "    if pretrained:\n",
        "        kwargs['init_weights'] = False\n",
        "    model = VGG(make_layers(cfg['A'], batch_norm=True), **kwargs)\n",
        "    if pretrained:\n",
        "        model.load_state_dict(model_zoo.load_url(model_urls['vgg11_bn']))\n",
        "        for p in model.features.parameters():\n",
        "            p.requires_grad=False\n",
        "    model.classifier = vgg_11_classifier(num_classes)\n",
        "    return model"
      ],
      "execution_count": 0,
      "outputs": []
    },
    {
      "cell_type": "code",
      "metadata": {
        "id": "WJTSE7c8g8fx",
        "colab_type": "code",
        "outputId": "634a8638-538d-4a90-faeb-b367ddd549af",
        "colab": {
          "base_uri": "https://localhost:8080/",
          "height": 1000
        }
      },
      "source": [
        "vgg_no_pretrained = vgg11(num_classes=10, pretrained=False)\n",
        "\n",
        "#net = AlexNet(10)\n",
        "use_cuda = True\n",
        "if use_cuda and torch.cuda.is_available():\n",
        "    print(\"using cuda\")\n",
        "    vgg_no_pretrained.cuda()\n",
        "learning_rate = 1e-3\n",
        "optimizer = torch.optim.Adam(vgg_no_pretrained.parameters(),lr=learning_rate)\n",
        "train(vgg_no_pretrained, optimizer, trainloader, testloader, criterion,  n_epoch = 50,\n",
        "      train_acc_period = 10,\n",
        "      test_acc_period = 1000)\n",
        "accuracy(vgg_no_pretrained, testloader, cuda=use_cuda)"
      ],
      "execution_count": 0,
      "outputs": [
        {
          "output_type": "stream",
          "text": [
            "using cuda\n",
            "[1,    10] loss: 0.035\n",
            "[1,    10] acc: 0.129\n",
            "[2,    10] loss: 0.032\n",
            "[2,    10] acc: 0.162\n",
            "[3,    10] loss: 0.031\n",
            "[3,    10] acc: 0.174\n",
            "[4,    10] loss: 0.031\n",
            "[4,    10] acc: 0.196\n",
            "[5,    10] loss: 0.030\n",
            "[5,    10] acc: 0.206\n",
            "[6,    10] loss: 0.030\n",
            "[6,    10] acc: 0.239\n",
            "[7,    10] loss: 0.030\n",
            "[7,    10] acc: 0.239\n",
            "[8,    10] loss: 0.029\n",
            "[8,    10] acc: 0.238\n",
            "[9,    10] loss: 0.028\n",
            "[9,    10] acc: 0.244\n",
            "[10,    10] loss: 0.029\n",
            "[10,    10] acc: 0.224\n",
            "[11,    10] loss: 0.028\n",
            "[11,    10] acc: 0.241\n",
            "[12,    10] loss: 0.027\n",
            "[12,    10] acc: 0.268\n",
            "[13,    10] loss: 0.028\n",
            "[13,    10] acc: 0.279\n",
            "[14,    10] loss: 0.026\n",
            "[14,    10] acc: 0.294\n",
            "[15,    10] loss: 0.027\n",
            "[15,    10] acc: 0.275\n",
            "[16,    10] loss: 0.026\n",
            "[16,    10] acc: 0.287\n",
            "[17,    10] loss: 0.027\n",
            "[17,    10] acc: 0.276\n",
            "[18,    10] loss: 0.026\n",
            "[18,    10] acc: 0.293\n",
            "[19,    10] loss: 0.024\n",
            "[19,    10] acc: 0.353\n",
            "[20,    10] loss: 0.026\n",
            "[20,    10] acc: 0.323\n",
            "[21,    10] loss: 0.024\n",
            "[21,    10] acc: 0.353\n",
            "[22,    10] loss: 0.026\n",
            "[22,    10] acc: 0.285\n",
            "[23,    10] loss: 0.024\n",
            "[23,    10] acc: 0.300\n",
            "[24,    10] loss: 0.024\n",
            "[24,    10] acc: 0.351\n",
            "[25,    10] loss: 0.023\n",
            "[25,    10] acc: 0.367\n",
            "[26,    10] loss: 0.025\n",
            "[26,    10] acc: 0.297\n",
            "[27,    10] loss: 0.024\n",
            "[27,    10] acc: 0.358\n",
            "[28,    10] loss: 0.023\n",
            "[28,    10] acc: 0.341\n",
            "[29,    10] loss: 0.022\n",
            "[29,    10] acc: 0.387\n",
            "[30,    10] loss: 0.022\n",
            "[30,    10] acc: 0.373\n",
            "[31,    10] loss: 0.022\n",
            "[31,    10] acc: 0.358\n",
            "[32,    10] loss: 0.021\n",
            "[32,    10] acc: 0.416\n",
            "[33,    10] loss: 0.022\n",
            "[33,    10] acc: 0.405\n",
            "[34,    10] loss: 0.021\n",
            "[34,    10] acc: 0.421\n",
            "[35,    10] loss: 0.020\n",
            "[35,    10] acc: 0.412\n",
            "[36,    10] loss: 0.019\n",
            "[36,    10] acc: 0.436\n",
            "[37,    10] loss: 0.019\n",
            "[37,    10] acc: 0.447\n",
            "[38,    10] loss: 0.020\n",
            "[38,    10] acc: 0.432\n",
            "[39,    10] loss: 0.019\n",
            "[39,    10] acc: 0.421\n",
            "[40,    10] loss: 0.019\n",
            "[40,    10] acc: 0.418\n",
            "[41,    10] loss: 0.019\n",
            "[41,    10] acc: 0.431\n",
            "[42,    10] loss: 0.019\n",
            "[42,    10] acc: 0.425\n",
            "[43,    10] loss: 0.019\n",
            "[43,    10] acc: 0.440\n",
            "[44,    10] loss: 0.022\n",
            "[44,    10] acc: 0.389\n",
            "[45,    10] loss: 0.019\n",
            "[45,    10] acc: 0.410\n",
            "[46,    10] loss: 0.019\n",
            "[46,    10] acc: 0.433\n",
            "[47,    10] loss: 0.018\n",
            "[47,    10] acc: 0.450\n",
            "[48,    10] loss: 0.017\n",
            "[48,    10] acc: 0.462\n",
            "[49,    10] loss: 0.017\n",
            "[49,    10] acc: 0.483\n",
            "[50,    10] loss: 0.017\n",
            "[50,    10] acc: 0.497\n",
            "Finished Training\n",
            "Accuracy of the network on the test images: 40 %\n"
          ],
          "name": "stdout"
        },
        {
          "output_type": "execute_result",
          "data": {
            "text/plain": [
              "2010100.0"
            ]
          },
          "metadata": {
            "tags": []
          },
          "execution_count": 16
        }
      ]
    },
    {
      "cell_type": "code",
      "metadata": {
        "id": "RexrvJxlhUA6",
        "colab_type": "code",
        "outputId": "5288ee60-60b7-45d1-da36-ceff54beb034",
        "colab": {
          "base_uri": "https://localhost:8080/",
          "height": 1000,
          "referenced_widgets": [
            "b02c7733cfbe46638df97d3df56a9306",
            "f2f213c29b3e44549ba1072d707cf361",
            "fb75d7e9be574831a4772810cc17c7e7",
            "50e5fe6003a54a2fb85af9ad74b048cd",
            "51a8ab02847740e7a0308f7dde72f08f",
            "aa63e2d9761f4137b8300144ab092686",
            "1717f68be248410d9b27cc5ded0fe851",
            "d841f87f62dc45caba71526224d383e7"
          ]
        }
      },
      "source": [
        "vgg = vgg11(num_classes=10, pretrained=True)\n",
        "\n",
        "#net = AlexNet(10)\n",
        "use_cuda = True\n",
        "if use_cuda and torch.cuda.is_available():\n",
        "    print(\"using cuda\")\n",
        "    vgg.cuda()\n",
        "learning_rate = 1e-3\n",
        "optimizer = torch.optim.Adam(vgg.parameters(),lr=learning_rate)\n",
        "train(vgg, optimizer, trainloader, testloader, criterion,  n_epoch = 50,\n",
        "      train_acc_period = 10,\n",
        "      test_acc_period = 1000)\n",
        "accuracy(vgg, testloader, cuda=use_cuda)"
      ],
      "execution_count": 0,
      "outputs": [
        {
          "output_type": "stream",
          "text": [
            "Downloading: \"https://download.pytorch.org/models/vgg11_bn-6002323d.pth\" to /root/.cache/torch/checkpoints/vgg11_bn-6002323d.pth\n"
          ],
          "name": "stderr"
        },
        {
          "output_type": "display_data",
          "data": {
            "application/vnd.jupyter.widget-view+json": {
              "model_id": "b02c7733cfbe46638df97d3df56a9306",
              "version_minor": 0,
              "version_major": 2
            },
            "text/plain": [
              "HBox(children=(IntProgress(value=0, max=531503671), HTML(value='')))"
            ]
          },
          "metadata": {
            "tags": []
          }
        },
        {
          "output_type": "stream",
          "text": [
            "\n",
            "using cuda\n",
            "[1,    10] loss: 0.032\n",
            "[1,    10] acc: 0.216\n",
            "[2,    10] loss: 0.019\n",
            "[2,    10] acc: 0.530\n",
            "[3,    10] loss: 0.011\n",
            "[3,    10] acc: 0.669\n",
            "[4,    10] loss: 0.007\n",
            "[4,    10] acc: 0.753\n",
            "[5,    10] loss: 0.004\n",
            "[5,    10] acc: 0.800\n",
            "[6,    10] loss: 0.003\n",
            "[6,    10] acc: 0.843\n",
            "[7,    10] loss: 0.002\n",
            "[7,    10] acc: 0.837\n",
            "[8,    10] loss: 0.001\n",
            "[8,    10] acc: 0.853\n",
            "[9,    10] loss: 0.001\n",
            "[9,    10] acc: 0.862\n",
            "[10,    10] loss: 0.001\n",
            "[10,    10] acc: 0.856\n",
            "[11,    10] loss: 0.001\n",
            "[11,    10] acc: 0.858\n",
            "[12,    10] loss: 0.000\n",
            "[12,    10] acc: 0.866\n",
            "[13,    10] loss: 0.000\n",
            "[13,    10] acc: 0.865\n",
            "[14,    10] loss: 0.000\n",
            "[14,    10] acc: 0.866\n",
            "[15,    10] loss: 0.000\n",
            "[15,    10] acc: 0.864\n",
            "[16,    10] loss: 0.000\n",
            "[16,    10] acc: 0.867\n",
            "[17,    10] loss: 0.000\n",
            "[17,    10] acc: 0.863\n",
            "[18,    10] loss: 0.000\n",
            "[18,    10] acc: 0.865\n",
            "[19,    10] loss: 0.000\n",
            "[19,    10] acc: 0.865\n",
            "[20,    10] loss: 0.000\n",
            "[20,    10] acc: 0.866\n",
            "[21,    10] loss: 0.000\n",
            "[21,    10] acc: 0.865\n",
            "[22,    10] loss: 0.000\n",
            "[22,    10] acc: 0.864\n",
            "[23,    10] loss: 0.000\n",
            "[23,    10] acc: 0.868\n",
            "[24,    10] loss: 0.000\n",
            "[24,    10] acc: 0.868\n",
            "[25,    10] loss: 0.000\n",
            "[25,    10] acc: 0.867\n",
            "[26,    10] loss: 0.000\n",
            "[26,    10] acc: 0.869\n",
            "[27,    10] loss: 0.000\n",
            "[27,    10] acc: 0.868\n",
            "[28,    10] loss: 0.000\n",
            "[28,    10] acc: 0.864\n",
            "[29,    10] loss: 0.000\n",
            "[29,    10] acc: 0.868\n",
            "[30,    10] loss: 0.000\n",
            "[30,    10] acc: 0.868\n",
            "[31,    10] loss: 0.000\n",
            "[31,    10] acc: 0.869\n",
            "[32,    10] loss: 0.000\n",
            "[32,    10] acc: 0.869\n",
            "[33,    10] loss: 0.000\n",
            "[33,    10] acc: 0.866\n",
            "[34,    10] loss: 0.000\n",
            "[34,    10] acc: 0.866\n",
            "[35,    10] loss: 0.000\n",
            "[35,    10] acc: 0.869\n",
            "[36,    10] loss: 0.000\n",
            "[36,    10] acc: 0.868\n",
            "[37,    10] loss: 0.000\n",
            "[37,    10] acc: 0.863\n",
            "[38,    10] loss: 0.000\n",
            "[38,    10] acc: 0.869\n",
            "[39,    10] loss: 0.000\n",
            "[39,    10] acc: 0.869\n",
            "[40,    10] loss: 0.000\n",
            "[40,    10] acc: 0.869\n",
            "[41,    10] loss: 0.000\n",
            "[41,    10] acc: 0.869\n",
            "[42,    10] loss: 0.000\n",
            "[42,    10] acc: 0.869\n",
            "[43,    10] loss: 0.000\n",
            "[43,    10] acc: 0.868\n",
            "[44,    10] loss: 0.000\n",
            "[44,    10] acc: 0.869\n",
            "[45,    10] loss: 0.000\n",
            "[45,    10] acc: 0.865\n",
            "[46,    10] loss: 0.000\n",
            "[46,    10] acc: 0.868\n",
            "[47,    10] loss: 0.000\n",
            "[47,    10] acc: 0.866\n",
            "[48,    10] loss: 0.000\n",
            "[48,    10] acc: 0.864\n",
            "[49,    10] loss: 0.000\n",
            "[49,    10] acc: 0.867\n",
            "[50,    10] loss: 0.000\n",
            "[50,    10] acc: 0.866\n",
            "Finished Training\n",
            "Accuracy of the network on the test images: 72 %\n"
          ],
          "name": "stdout"
        },
        {
          "output_type": "execute_result",
          "data": {
            "text/plain": [
              "3625700.0"
            ]
          },
          "metadata": {
            "tags": []
          },
          "execution_count": 17
        }
      ]
    },
    {
      "cell_type": "code",
      "metadata": {
        "id": "UDsT71vsw_gv",
        "colab_type": "code",
        "outputId": "0efd7090-9f25-45fc-ab56-12357a1b4737",
        "colab": {
          "base_uri": "https://localhost:8080/",
          "height": 284
        }
      },
      "source": [
        "show_first_layer(vgg_no_pretrained)"
      ],
      "execution_count": 0,
      "outputs": [
        {
          "output_type": "stream",
          "text": [
            "torch.Size([64, 3, 3, 3])\n"
          ],
          "name": "stdout"
        },
        {
          "output_type": "display_data",
          "data": {
            "image/png": "[encoded data removed]",
            "text/plain": [
              "<Figure size 432x288 with 1 Axes>"
            ]
          },
          "metadata": {
            "tags": [],
            "needs_background": "light"
          }
        }
      ]
    },
    {
      "cell_type": "code",
      "metadata": {
        "id": "EnajamXuxMf-",
        "colab_type": "code",
        "outputId": "cabdf42f-0477-4706-ab5c-5b3aaf0f5c85",
        "colab": {
          "base_uri": "https://localhost:8080/",
          "height": 284
        }
      },
      "source": [
        "show_first_layer(vgg)"
      ],
      "execution_count": 0,
      "outputs": [
        {
          "output_type": "stream",
          "text": [
            "torch.Size([64, 3, 3, 3])\n"
          ],
          "name": "stdout"
        },
        {
          "output_type": "display_data",
          "data": {
            "image/png": "[encoded data removed]",
            "text/plain": [
              "<Figure size 432x288 with 1 Axes>"
            ]
          },
          "metadata": {
            "tags": [],
            "needs_background": "light"
          }
        }
      ]
    },
    {
      "cell_type": "markdown",
      "metadata": {
        "id": "n9rKSbCImw2d",
        "colab_type": "text"
      },
      "source": [
        "# 3. ResNet"
      ]
    },
    {
      "cell_type": "code",
      "metadata": {
        "id": "fXIz0oLkUMIt",
        "colab_type": "code",
        "colab": {}
      },
      "source": [
        "def trainer(train_loader, test_loader, model, use_cuda, loss_fn=nn.CrossEntropyLoss(), epoch=10, rate=1e-3):\n",
        "    loss_eval = []\n",
        "    err_eval = []\n",
        "    #   data = torch.utils.data.DataLoader(dataset, batch_size)\n",
        "    optimizer = torch.optim.Adam(model.parameters(),lr=rate)\n",
        "    j = 0\n",
        "    for i in tqdm(range(epoch)):\n",
        "        for imgs, labels in train_loader:\n",
        "            j += 1\n",
        "            if use_cuda and torch.cuda.is_available():\n",
        "                imgs = imgs.type(torch.cuda.FloatTensor)\n",
        "                labels = labels.type(torch.cuda.LongTensor)\n",
        "\n",
        "            optimizer.zero_grad()\n",
        "\n",
        "            output = model(imgs)\n",
        "            loss = loss_fn(output, labels)\n",
        "            if j % 500 == 1 :\n",
        "                loss_eval.append(loss.item())\n",
        "                err_eval.append(1 - accuracy(test_loader, model, use_cuda))\n",
        "            loss.backward()\n",
        "\n",
        "            optimizer.step()\n",
        "        \n",
        "    return loss_eval, err_eval\n",
        "\n",
        "def accuracy(dataloader, model, use_cuda):\n",
        "    model.eval()\n",
        "    #   test_loader = torch.utils.data.DataLoader(test_data, batch_size=len(test_data))\n",
        "    corr = 0\n",
        "    total = 0\n",
        "    for imgs, labels in dataloader:\n",
        "        if use_cuda and torch.cuda.is_available():\n",
        "            imgs = imgs.type(torch.cuda.FloatTensor)\n",
        "            labels = labels.type(torch.cuda.LongTensor)\n",
        "        with torch.no_grad():\n",
        "            output = model(imgs)\n",
        "            output = [torch.argmax(i) for i in output]\n",
        "            correct = [i for i,j in zip(output, labels) if i == j]\n",
        "            corr += len(correct)\n",
        "            total += len(labels)\n",
        "    model.train()\n",
        "    # print(len(correct))\n",
        "    return(corr / total)"
      ],
      "execution_count": 0,
      "outputs": []
    },
    {
      "cell_type": "code",
      "metadata": {
        "id": "7BqTSz6Bm1Aw",
        "colab_type": "code",
        "colab": {}
      },
      "source": [
        "import torch\n",
        "import torch.nn as nn\n",
        "import torch.nn.functional as F\n",
        "\n",
        "\n",
        "class SimpleBlock(nn.Module):\n",
        "    def __init__(self, in_planes, planes, stride=1):\n",
        "        super(SimpleBlock, self).__init__()\n",
        "\n",
        "        assert((stride == 1) or (stride == 2 and planes == in_planes * 2))\n",
        "\n",
        "        padding = 0\n",
        "        self.conv1 = nn.Conv2d(in_planes, planes, 3, stride=stride, padding=1, bias=False)\n",
        "        self.bn1 = nn.BatchNorm2d(planes)\n",
        "        self.conv2 = nn.Conv2d(planes, planes, 3, stride=1, padding=1, bias=False)\n",
        "        self.bn2 = nn.BatchNorm2d(planes)\n",
        "\n",
        "    def forward(self, x):\n",
        "        out = F.relu(self.bn1(self.conv1(x)))\n",
        "        out = self.conv2(out)\n",
        "        out = F.relu(self.bn2(out))\n",
        "\n",
        "        return out\n",
        "\n",
        "      \n",
        "class ResNetBlock(nn.Module):\n",
        "\n",
        "    def __init__(self, in_planes, planes, stride=1):\n",
        "        super(ResNetBlock, self).__init__()\n",
        "\n",
        "        assert((stride == 1) or (stride == 2 and planes == in_planes * 2))\n",
        "\n",
        "        padding = 0\n",
        "        self.conv1 = nn.Conv2d(in_planes, planes, 3, stride=stride, padding=1, bias=False)\n",
        "        self.bn1 = nn.BatchNorm2d(planes)\n",
        "        self.conv2 = nn.Conv2d(planes, planes, 3, stride=1, padding=1, bias=False)\n",
        "        if stride == 2: \n",
        "            self.shortcut = nn.Conv2d(in_planes, planes, 1, stride=2, padding=0, bias=False)\n",
        "        else: \n",
        "            self.shortcut = nn.Identity()\n",
        "        self.bn2 = nn.BatchNorm2d(planes)\n",
        "\n",
        "    def forward(self, x):\n",
        "        out = F.relu(self.bn1(self.conv1(x)))\n",
        "        out = self.conv2(out) + self.shortcut(x)\n",
        "        out = F.relu(self.bn2(out))\n",
        "\n",
        "        return out\n",
        "\n",
        "class ResNet(nn.Module):\n",
        "    def __init__(self, block, num_blocks, num_classes=10, num_filters=16, input_dim=3):\n",
        "        super(ResNet, self).__init__()\n",
        "        self.in_planes = num_filters\n",
        "\n",
        "        self.conv1 = nn.Conv2d(input_dim, num_filters, kernel_size=3, stride=1, padding=1, bias=False)\n",
        "        self.bn1 = nn.BatchNorm2d(num_filters)\n",
        "\t\t\n",
        "        layers_resnet = []\n",
        "        for i in range(len(num_blocks)) :\n",
        "            if i == 0 :\n",
        "                planes = self.in_planes\n",
        "                print(planes)\n",
        "                layers_resnet.append(self._make_layer(block, planes, num_blocks[i], stride=1))\n",
        "            else :\n",
        "                planes = self.in_planes * 2\n",
        "                print(planes)\n",
        "                layers_resnet.append(self._make_layer(block, planes, num_blocks[i], stride=2))\n",
        "\n",
        "        self.resnet = nn.Sequential(*layers_resnet)\n",
        "\t\t\n",
        "        self.fc = nn.Sequential(\n",
        "            nn.Linear(self.in_planes, num_classes),\n",
        "            nn.LogSoftmax(1)\n",
        "        )\n",
        "\n",
        "    def _make_layer(self, block, planes, num_blocks, stride):\n",
        "        layers = []\n",
        "\n",
        "        if stride != 1 :\n",
        "            downsample = block(self.in_planes, planes, stride)\n",
        "            layers.append(downsample)\n",
        "            num_blocks -= 1\n",
        "            self.in_planes = planes\n",
        "\n",
        "        for i in range(num_blocks) :\n",
        "            layers.append(block(self.in_planes, planes, 1))\n",
        "            self.in_planes = planes\n",
        "        \n",
        "        return nn.Sequential(*layers)\n",
        "\n",
        "    def forward(self, x):\n",
        "        out = F.relu(self.bn1(self.conv1(x)))\n",
        "        out = self.resnet(out)\n",
        "        out = F.adaptive_avg_pool2d(out, (1,1))\n",
        "        out = out.view(out.size(0), -1)\n",
        "        out = self.fc(out)\n",
        "        return out\n",
        "\n",
        "\n",
        "# (1 + 2*(1 + 1) + 2*(1 + 1) + 2*(1 + 1) + 2*(1 + 1)) + 1 = 18\n",
        "def ResNet18(input_dim=3):\n",
        "    return ResNet(ResNetBlock, [6, 6, 6], input_dim=input_dim)\n",
        "\n",
        "def PlainNet18(input_dim=3):\n",
        "    return ResNet(SimpleBlock, [6, 6, 6], input_dim=input_dim)"
      ],
      "execution_count": 0,
      "outputs": []
    },
    {
      "cell_type": "markdown",
      "metadata": {
        "id": "aWZQOsCfTm9D",
        "colab_type": "text"
      },
      "source": [
        "## On CIFAR-10"
      ]
    },
    {
      "cell_type": "code",
      "metadata": {
        "id": "Fv0YOntO4EQl",
        "colab_type": "code",
        "outputId": "d5c94f83-7e11-4835-ae0f-ec6880232c56",
        "colab": {
          "base_uri": "https://localhost:8080/",
          "height": 51
        }
      },
      "source": [
        "batch_size=64\n",
        "transform = transforms.Compose(\n",
        "    [\n",
        "     transforms.ToTensor(),\n",
        "     transforms.Normalize((0.5,), (0.5,)),\n",
        "])\n",
        "trainset = torchvision.datasets.CIFAR10(root=\"./data\", train=True, download=True, transform=transform)\n",
        "trainloader = torch.utils.data.DataLoader(trainset,batch_size=batch_size,shuffle=False)\n",
        "testset = torchvision.datasets.CIFAR10(root=\"./data\", train=False, download=True, transform=transform)\n",
        "testloader = torch.utils.data.DataLoader(testset,batch_size=10000,shuffle=False)"
      ],
      "execution_count": 0,
      "outputs": [
        {
          "output_type": "stream",
          "text": [
            "Files already downloaded and verified\n",
            "Files already downloaded and verified\n"
          ],
          "name": "stdout"
        }
      ]
    },
    {
      "cell_type": "code",
      "metadata": {
        "id": "qQGOG7dZitlZ",
        "colab_type": "code",
        "outputId": "96292b34-b0ef-4c3e-aa11-75aeb7c24e22",
        "colab": {
          "base_uri": "https://localhost:8080/",
          "height": 151,
          "referenced_widgets": [
            "f07a6b9698d841698c38abcfc4017653",
            "d50821987164451383836b569c077b0c",
            "f4e8e515f4da4911ad72f9578323555f",
            "65ab8ca766f44de9b855f287827dd1db",
            "f7c2a6b6114f415f8e51649b7f7682c0",
            "3433a9abb9fb4527890283c2e6fdac3c",
            "9ada21cf2880481bba50cc424642e5f3",
            "8520902a82dc42adabd81004f1f71df2"
          ]
        }
      },
      "source": [
        "model_resnet18 = ResNet18()\n",
        "model_resnet18.apply(init)\n",
        "\n",
        "#net = AlexNet(10)\n",
        "use_cuda = True\n",
        "if use_cuda and torch.cuda.is_available():\n",
        "    print(\"using cuda\")\n",
        "    model_resnet18.cuda()\n",
        "losses, val_errs = trainer(trainloader, testloader, model_resnet18, use_cuda, epoch=10)\n",
        "print(accuracy(testloader, model_resnet18, use_cuda))"
      ],
      "execution_count": 0,
      "outputs": [
        {
          "output_type": "stream",
          "text": [
            "16\n",
            "32\n",
            "64\n",
            "using cuda\n"
          ],
          "name": "stdout"
        },
        {
          "output_type": "display_data",
          "data": {
            "application/vnd.jupyter.widget-view+json": {
              "model_id": "f07a6b9698d841698c38abcfc4017653",
              "version_minor": 0,
              "version_major": 2
            },
            "text/plain": [
              "HBox(children=(IntProgress(value=0, max=10), HTML(value='')))"
            ]
          },
          "metadata": {
            "tags": []
          }
        },
        {
          "output_type": "stream",
          "text": [
            "\n",
            "0.7337\n"
          ],
          "name": "stdout"
        }
      ]
    },
    {
      "cell_type": "code",
      "metadata": {
        "id": "sCnlwU266xJf",
        "colab_type": "code",
        "outputId": "dc6294df-0c3d-4adf-ff57-df1550e34da1",
        "colab": {
          "base_uri": "https://localhost:8080/",
          "height": 151,
          "referenced_widgets": [
            "46d7bbaccad0458ab52d5e44ad6aeac4",
            "3e36bcdc654d4b3db4ce02f57dda70d8",
            "d026ff66c2a2494fa434e9fb2679d191",
            "76b9c5fa459840a78ab2dd059c7612c7",
            "67df71fcc551486b9ef5642102d1b484",
            "a05c20fe5e204169acb751f87ee64acd",
            "a281c4933fcc4bf8a01b3a5baf274c9f",
            "82977c4a15fb4d148537a14d25c626cb"
          ]
        }
      },
      "source": [
        "model_plainnet18 = PlainNet18()\n",
        "model_plainnet18.apply(init)\n",
        "#net = AlexNet(10)\n",
        "use_cuda = True\n",
        "if use_cuda and torch.cuda.is_available():\n",
        "    print(\"using cuda\")\n",
        "    model_plainnet18.cuda()\n",
        "losses_, val_errs_ = trainer(trainloader, testloader, model_plainnet18, use_cuda, epoch=10)\n",
        "print(accuracy(testloader, model_plainnet18, use_cuda))\n"
      ],
      "execution_count": 0,
      "outputs": [
        {
          "output_type": "stream",
          "text": [
            "16\n",
            "32\n",
            "64\n",
            "using cuda\n"
          ],
          "name": "stdout"
        },
        {
          "output_type": "display_data",
          "data": {
            "application/vnd.jupyter.widget-view+json": {
              "model_id": "46d7bbaccad0458ab52d5e44ad6aeac4",
              "version_minor": 0,
              "version_major": 2
            },
            "text/plain": [
              "HBox(children=(IntProgress(value=0, max=10), HTML(value='')))"
            ]
          },
          "metadata": {
            "tags": []
          }
        },
        {
          "output_type": "stream",
          "text": [
            "\n",
            "0.6632\n"
          ],
          "name": "stdout"
        }
      ]
    },
    {
      "cell_type": "code",
      "metadata": {
        "id": "CNaWaWJxBXCB",
        "colab_type": "code",
        "outputId": "0dc17460-c6ba-4aa6-d506-515376b3d8a5",
        "colab": {
          "base_uri": "https://localhost:8080/",
          "height": 282
        }
      },
      "source": [
        "plt.plot(losses, label='ResNet training loss')\n",
        "plt.plot(val_errs, label='ResNet validation error')\n",
        "plt.plot(losses_, label='Plainnet training loss')\n",
        "plt.plot(val_errs_, label='Plainnet validation error')\n",
        "plt.legend()"
      ],
      "execution_count": 0,
      "outputs": [
        {
          "output_type": "execute_result",
          "data": {
            "text/plain": [
              "<matplotlib.legend.Legend at 0x7fe2a0259cf8>"
            ]
          },
          "metadata": {
            "tags": []
          },
          "execution_count": 25
        },
        {
          "output_type": "display_data",
          "data": {
            "image/png": "[encoded data removed]",
            "text/plain": [
              "<Figure size 432x288 with 1 Axes>"
            ]
          },
          "metadata": {
            "tags": [],
            "needs_background": "light"
          }
        }
      ]
    },
    {
      "cell_type": "markdown",
      "metadata": {
        "colab_type": "text",
        "id": "lPmg588UT7au"
      },
      "source": [
        "## On FashionMNIST"
      ]
    },
    {
      "cell_type": "code",
      "metadata": {
        "colab_type": "code",
        "outputId": "f100d1cc-d66f-4cec-9042-d71bb0b9feaf",
        "id": "3EpULhPSUApK",
        "colab": {
          "base_uri": "https://localhost:8080/",
          "height": 369,
          "referenced_widgets": [
            "8dc6c54e8c5f4ad99f14d05144505a9c",
            "dbd533d84cb24e8994983e118c68167b",
            "5bbecd4ebe214721b47fb9140d9e23b5",
            "93c6f9402bc54c88a68994220bd6043f",
            "1cc41ec45ae64da1b1db581373fd88e1",
            "e915be758aa8423dbe138cf6f781b8e3",
            "27ed6d5eab2148b2b3030299ec99c76c",
            "50202f20508545e79d13fca8d3606001",
            "e433bd147d4c443f998e61fa389551cc",
            "cd901762a5784799b4e55d1d44c871a8",
            "25631a6c8663440782fa6934fcc469a8",
            "d52cb9d568eb4f699bd3914e1f7fcb9b",
            "35c150ba05d74ec39e8e37522062c46c",
            "8e3fe029227d4400b4b08d97ea743a56",
            "7ed5c59c9d7d4911865ae879985f408e",
            "af59ac319e324358a2d956064deeb5c8",
            "b53601df547f458cbb2f85be3a7bf973",
            "788802b31c7c4725885c8bf74af760e6",
            "bdbe8136586d476c895307ef2bdd1229",
            "df908da626ea4fb1a5d27b775b49b850",
            "4ce3ab4979604731bdf1a167d34df045",
            "f5b8780f065747c5930550119832f3d4",
            "7e6e1c9320524f83960cd598cce01e9e",
            "87b4dd731fc745e689fe2317e9e7bc4b",
            "6c658ea12ad1459dbe1692093ae7373f",
            "9e0156f13c314988b65e9209d9dba79a",
            "de2f3b7035744258a9cc11b96bdd6c3c",
            "d494d3201e1e42b7ae4fdb26460396a8",
            "ffda2f4c8da1416f8e3b43d00f0a7906",
            "0e844fca3d594e43804e776d7e08ca5d",
            "8185daed45054680bca8dd9fc9781730",
            "202a3bd512564a1e80095467812c60eb"
          ]
        }
      },
      "source": [
        "batch_size=64\n",
        "transform = transforms.Compose(\n",
        "    [\n",
        "     transforms.ToTensor()\n",
        "])\n",
        "trainset = torchvision.datasets.FashionMNIST(root=\"./data\", train=True, download=True, transform=transform)\n",
        "trainloader = torch.utils.data.DataLoader(trainset,batch_size=batch_size,shuffle=False)\n",
        "testset = torchvision.datasets.FashionMNIST(root=\"./data\", train=False, download=True, transform=transform)\n",
        "testloader = torch.utils.data.DataLoader(testset,batch_size=batch_size,shuffle=False)\n"
      ],
      "execution_count": 0,
      "outputs": [
        {
          "output_type": "stream",
          "text": [
            "Downloading http://fashion-mnist.s3-website.eu-central-1.amazonaws.com/train-images-idx3-ubyte.gz to ./data/FashionMNIST/raw/train-images-idx3-ubyte.gz\n"
          ],
          "name": "stdout"
        },
        {
          "output_type": "display_data",
          "data": {
            "application/vnd.jupyter.widget-view+json": {
              "model_id": "8dc6c54e8c5f4ad99f14d05144505a9c",
              "version_minor": 0,
              "version_major": 2
            },
            "text/plain": [
              "HBox(children=(IntProgress(value=1, bar_style='info', max=1), HTML(value='')))"
            ]
          },
          "metadata": {
            "tags": []
          }
        },
        {
          "output_type": "stream",
          "text": [
            "Extracting ./data/FashionMNIST/raw/train-images-idx3-ubyte.gz to ./data/FashionMNIST/raw\n",
            "Downloading http://fashion-mnist.s3-website.eu-central-1.amazonaws.com/train-labels-idx1-ubyte.gz to ./data/FashionMNIST/raw/train-labels-idx1-ubyte.gz\n"
          ],
          "name": "stdout"
        },
        {
          "output_type": "display_data",
          "data": {
            "application/vnd.jupyter.widget-view+json": {
              "model_id": "e433bd147d4c443f998e61fa389551cc",
              "version_minor": 0,
              "version_major": 2
            },
            "text/plain": [
              "HBox(children=(IntProgress(value=1, bar_style='info', max=1), HTML(value='')))"
            ]
          },
          "metadata": {
            "tags": []
          }
        },
        {
          "output_type": "stream",
          "text": [
            "Extracting ./data/FashionMNIST/raw/train-labels-idx1-ubyte.gz to ./data/FashionMNIST/raw\n",
            "Downloading http://fashion-mnist.s3-website.eu-central-1.amazonaws.com/t10k-images-idx3-ubyte.gz to ./data/FashionMNIST/raw/t10k-images-idx3-ubyte.gz\n"
          ],
          "name": "stdout"
        },
        {
          "output_type": "display_data",
          "data": {
            "application/vnd.jupyter.widget-view+json": {
              "model_id": "b53601df547f458cbb2f85be3a7bf973",
              "version_minor": 0,
              "version_major": 2
            },
            "text/plain": [
              "HBox(children=(IntProgress(value=1, bar_style='info', max=1), HTML(value='')))"
            ]
          },
          "metadata": {
            "tags": []
          }
        },
        {
          "output_type": "stream",
          "text": [
            "\n",
            "\n",
            "Extracting ./data/FashionMNIST/raw/t10k-images-idx3-ubyte.gz to ./data/FashionMNIST/raw\n",
            "Downloading http://fashion-mnist.s3-website.eu-central-1.amazonaws.com/t10k-labels-idx1-ubyte.gz to ./data/FashionMNIST/raw/t10k-labels-idx1-ubyte.gz\n"
          ],
          "name": "stdout"
        },
        {
          "output_type": "display_data",
          "data": {
            "application/vnd.jupyter.widget-view+json": {
              "model_id": "6c658ea12ad1459dbe1692093ae7373f",
              "version_minor": 0,
              "version_major": 2
            },
            "text/plain": [
              "HBox(children=(IntProgress(value=1, bar_style='info', max=1), HTML(value='')))"
            ]
          },
          "metadata": {
            "tags": []
          }
        },
        {
          "output_type": "stream",
          "text": [
            "Extracting ./data/FashionMNIST/raw/t10k-labels-idx1-ubyte.gz to ./data/FashionMNIST/raw\n",
            "Processing...\n",
            "Done!\n"
          ],
          "name": "stdout"
        }
      ]
    },
    {
      "cell_type": "code",
      "metadata": {
        "colab_type": "code",
        "outputId": "0140348d-4a41-4bd7-d617-93aa51e4170f",
        "id": "4k9Cnh1AUTK9",
        "colab": {
          "base_uri": "https://localhost:8080/",
          "height": 168,
          "referenced_widgets": [
            "7a38788e9405460dbfb9a81ddfdafdd6",
            "131f96954d23497f9705235384f32714",
            "376dd3f3010b4c24b8b864df14c7fa77",
            "b8af58d01d9748c2bfa2cde80e6748c4",
            "d251bfd320284028afcdf07d63f1f87d",
            "155bdd082cea403f8e04db76c83c0a0c",
            "324d740bd6414f0d84fe1029a9b29240",
            "56d3a8457f4b4b7f8723f2ae58e43847"
          ]
        }
      },
      "source": [
        "model_resnet18 = ResNet18(1)\n",
        "model_resnet18.apply(init)\n",
        "\n",
        "#net = AlexNet(10)\n",
        "use_cuda = True\n",
        "if use_cuda and torch.cuda.is_available():\n",
        "    print(\"using cuda\")\n",
        "    model_resnet18.cuda()\n",
        "losses, val_errs = trainer(trainloader, testloader, model_resnet18, use_cuda, epoch=10)\n",
        "print(accuracy(testloader, model_resnet18, use_cuda))"
      ],
      "execution_count": 0,
      "outputs": [
        {
          "output_type": "stream",
          "text": [
            "16\n",
            "32\n",
            "\n",
            "64\n",
            "using cuda\n"
          ],
          "name": "stdout"
        },
        {
          "output_type": "display_data",
          "data": {
            "application/vnd.jupyter.widget-view+json": {
              "model_id": "7a38788e9405460dbfb9a81ddfdafdd6",
              "version_minor": 0,
              "version_major": 2
            },
            "text/plain": [
              "HBox(children=(IntProgress(value=0, max=10), HTML(value='')))"
            ]
          },
          "metadata": {
            "tags": []
          }
        },
        {
          "output_type": "stream",
          "text": [
            "\n",
            "0.9117\n"
          ],
          "name": "stdout"
        }
      ]
    },
    {
      "cell_type": "code",
      "metadata": {
        "colab_type": "code",
        "outputId": "74a2fde1-ee17-435f-98ee-611b63f18084",
        "id": "XnhaSaA3UW2e",
        "colab": {
          "base_uri": "https://localhost:8080/",
          "height": 151,
          "referenced_widgets": [
            "1b61b9178bd1405197ab6e852903e97f",
            "7f1840aa27864dea8df473889e4fa437",
            "bdb74454631b454bb33163b34928c80d",
            "29ecf9fd4aa141569e940c23961e46fd",
            "806b3a1ce73147e3a4c47b8e291a2244",
            "6b8d03fb7d43417eb8a9b9e0cd277f53",
            "cf17fcd276124a8e9cb4b919ccd75b82",
            "9f05380c02fa4717817d3953b3f7c435"
          ]
        }
      },
      "source": [
        "model_plainnet18 = PlainNet18(1)\n",
        "model_plainnet18.apply(init)\n",
        "#net = AlexNet(10)\n",
        "use_cuda = True\n",
        "if use_cuda and torch.cuda.is_available():\n",
        "    print(\"using cuda\")\n",
        "    model_plainnet18.cuda()\n",
        "losses_, val_errs_ = trainer(trainloader, testloader, model_plainnet18, use_cuda, epoch=10)\n",
        "print(accuracy(testloader, model_plainnet18, use_cuda))"
      ],
      "execution_count": 0,
      "outputs": [
        {
          "output_type": "stream",
          "text": [
            "16\n",
            "32\n",
            "64\n",
            "using cuda\n"
          ],
          "name": "stdout"
        },
        {
          "output_type": "display_data",
          "data": {
            "application/vnd.jupyter.widget-view+json": {
              "model_id": "1b61b9178bd1405197ab6e852903e97f",
              "version_minor": 0,
              "version_major": 2
            },
            "text/plain": [
              "HBox(children=(IntProgress(value=0, max=10), HTML(value='')))"
            ]
          },
          "metadata": {
            "tags": []
          }
        },
        {
          "output_type": "stream",
          "text": [
            "\n",
            "0.9084\n"
          ],
          "name": "stdout"
        }
      ]
    },
    {
      "cell_type": "code",
      "metadata": {
        "id": "DRA1WR_KBzjW",
        "colab_type": "code",
        "outputId": "2950e47d-2f8e-45c5-9b0a-c5c0323ea1cb",
        "colab": {
          "base_uri": "https://localhost:8080/",
          "height": 282
        }
      },
      "source": [
        "plt.plot(losses, label='ResNet training loss')\n",
        "plt.plot(val_errs, label='ResNet validation error')\n",
        "plt.plot(losses_, label='Plainnet training loss')\n",
        "plt.plot(val_errs_, label='Plainnet validation error')\n",
        "plt.legend()"
      ],
      "execution_count": 0,
      "outputs": [
        {
          "output_type": "execute_result",
          "data": {
            "text/plain": [
              "<matplotlib.legend.Legend at 0x7fe2a0347588>"
            ]
          },
          "metadata": {
            "tags": []
          },
          "execution_count": 29
        },
        {
          "output_type": "display_data",
          "data": {
            "image/png": "[encoded data removed]",
            "text/plain": [
              "<Figure size 432x288 with 1 Axes>"
            ]
          },
          "metadata": {
            "tags": [],
            "needs_background": "light"
          }
        }
      ]
    },
    {
      "cell_type": "markdown",
      "metadata": {
        "id": "2aJ34FjC6VXp",
        "colab_type": "text"
      },
      "source": [
        "The result is a lot better than a usual plain network. "
      ]
    },
    {
      "cell_type": "markdown",
      "metadata": {
        "id": "CV1qfvIuQo8J",
        "colab_type": "text"
      },
      "source": [
        "# 4. InceptionNet"
      ]
    },
    {
      "cell_type": "code",
      "metadata": {
        "id": "JpF7rZIpQwvz",
        "colab_type": "code",
        "colab": {}
      },
      "source": [
        "import torch\n",
        "import torch.nn as nn\n",
        "\n",
        "\n",
        "class Inception(nn.Module):\n",
        "    def __init__(self, in_planes, kernel_1_x, kernel_3_in, kernel_3_x, kernel_5_in, kernel_5_x, pool_planes):\n",
        "        super(Inception, self).__init__()\n",
        "        self.conv1 = nn.Sequential(\n",
        "              nn.Conv2d(in_planes, kernel_1_x, 1),\n",
        "              nn.BatchNorm2d(kernel_1_x),\n",
        "              nn.ReLU()\n",
        "        )\n",
        "        self.conv3 = nn.Sequential(\n",
        "            nn.Conv2d(in_planes, kernel_3_in, 1),\n",
        "            nn.BatchNorm2d(kernel_3_in),\n",
        "            nn.ReLU(),\n",
        "            nn.Conv2d(kernel_3_in, kernel_3_x, 3, padding=1),\n",
        "            nn.BatchNorm2d(kernel_3_x),\n",
        "            nn.ReLU()\n",
        "        )\n",
        "        self.conv5 = nn.Sequential(\n",
        "            nn.Conv2d(in_planes, kernel_5_in, 1),\n",
        "            nn.BatchNorm2d(kernel_5_in),\n",
        "            nn.ReLU(),\n",
        "            nn.Conv2d(kernel_5_in, kernel_5_x, 3, padding=1),\n",
        "            nn.BatchNorm2d(kernel_5_x),\n",
        "            nn.ReLU()\n",
        "        )\n",
        "        self.pool = nn.Sequential(\n",
        "            nn.MaxPool2d(3, stride=1, padding=1),\n",
        "            nn.Conv2d(in_planes, pool_planes, 1),\n",
        "            nn.BatchNorm2d(pool_planes),\n",
        "            nn.ReLU()\n",
        "        )\n",
        "\n",
        "    def forward(self, x):\n",
        "        # print(self.conv1(x).shape)\n",
        "        # print(self.conv3(x).shape)\n",
        "        out = self.conv1(x)\n",
        "        out = torch.cat((out, self.conv3(x)), 1)\n",
        "        # print(out.shape)\n",
        "        out = torch.cat((out, self.conv5(x)), 1)\n",
        "        # print(out.shape)\n",
        "        return torch.cat((out, self.pool(x)), 1)\n",
        "\n",
        "\n",
        "class GoogLeNet(nn.Module):\n",
        "    def __init__(self, input_dim=3):\n",
        "        super(GoogLeNet, self).__init__()\n",
        "        self.pre_layers = nn.Sequential(\n",
        "            nn.Conv2d(input_dim, 192, kernel_size=3, padding=1),\n",
        "            nn.BatchNorm2d(192),\n",
        "            nn.ReLU(True),\n",
        "        )\n",
        "        \n",
        "        self.layer1 = Inception(192,  64,  96, 128, 16, 32, 32)\n",
        "        \n",
        "        self.layer2 = Inception(256, 128, 128, 192, 32, 96, 64)\n",
        "        \n",
        "        self.layer3 = Inception(480, 192,  96, 208, 16,  48,  64)\n",
        "        \n",
        "        self.max_pool = nn.MaxPool2d(3, stride=2, padding=1)\n",
        "        \n",
        "        self.avgpool = nn.AdaptiveAvgPool2d((1,1))\n",
        "        self.linear = nn.Linear(512, 10)\n",
        "        \n",
        "\n",
        "    def forward(self, x):\n",
        "        x = self.pre_layers(x)\n",
        "        x = self.layer1(x)\n",
        "        x = self.max_pool(x)\n",
        "        x = self.layer2(x)\n",
        "        x = self.max_pool(x)\n",
        "        x = self.layer3(x)\n",
        "        x = self.avgpool(x)\n",
        "        x = x.view(x.size(0), -1)\n",
        "        x = self.linear(x)\n",
        "        return x"
      ],
      "execution_count": 0,
      "outputs": []
    },
    {
      "cell_type": "markdown",
      "metadata": {
        "id": "HWKV5Qc2g8Fh",
        "colab_type": "text"
      },
      "source": [
        "## On CIFAR-10"
      ]
    },
    {
      "cell_type": "code",
      "metadata": {
        "colab_type": "code",
        "outputId": "579704b5-bedc-4959-cb0b-872ea8db354a",
        "id": "MObmVQy2geVK",
        "colab": {
          "base_uri": "https://localhost:8080/",
          "height": 51
        }
      },
      "source": [
        "batch_size=64\n",
        "transform = transforms.Compose(\n",
        "    [\n",
        "     transforms.ToTensor(),\n",
        "     transforms.Normalize((0.5,), (0.5,)),\n",
        "])\n",
        "trainset = torchvision.datasets.CIFAR10(root=\"./data\", train=True, download=True, transform=transform)\n",
        "trainloader = torch.utils.data.DataLoader(trainset,batch_size=batch_size,shuffle=False)\n",
        "testset = torchvision.datasets.CIFAR10(root=\"./data\", train=False, download=True, transform=transform)\n",
        "testloader = torch.utils.data.DataLoader(testset,batch_size=1000,shuffle=False)"
      ],
      "execution_count": 0,
      "outputs": [
        {
          "output_type": "stream",
          "text": [
            "Files already downloaded and verified\n",
            "Files already downloaded and verified\n"
          ],
          "name": "stdout"
        }
      ]
    },
    {
      "cell_type": "code",
      "metadata": {
        "id": "gP2lyOZbeVcS",
        "colab_type": "code",
        "outputId": "9ba696b2-89d1-4467-e107-fa39e3675928",
        "colab": {
          "base_uri": "https://localhost:8080/",
          "height": 100,
          "referenced_widgets": [
            "a0a9bca1b29d4ee3bffe47f4fe4dc491",
            "d585bad3453c47048ac625a2079b262b",
            "fdf1f6209ad940168c39f33cb621b4a2",
            "9693f7501b524c9ab1580df0aa7feab6",
            "3e25ec94c7fd4117a732ae99b4adeae7",
            "a47912d8d6914632a747921179a64909",
            "507457deba8c462885fa1871defc50dc",
            "2159a93e0a034b6ab25a3ea3a878bcca"
          ]
        }
      },
      "source": [
        "model_googlenet = GoogLeNet()\n",
        "model_googlenet.apply(init)\n",
        "#net = AlexNet(10)\n",
        "use_cuda = True\n",
        "if use_cuda and torch.cuda.is_available():\n",
        "    print(\"using cuda\")\n",
        "    model_googlenet.cuda()\n",
        "losses, val_errs = trainer(trainloader, testloader, model_googlenet, use_cuda, epoch=10)\n",
        "print(accuracy(testloader, model_googlenet, use_cuda))\n"
      ],
      "execution_count": 0,
      "outputs": [
        {
          "output_type": "stream",
          "text": [
            "using cuda\n"
          ],
          "name": "stdout"
        },
        {
          "output_type": "display_data",
          "data": {
            "application/vnd.jupyter.widget-view+json": {
              "model_id": "a0a9bca1b29d4ee3bffe47f4fe4dc491",
              "version_minor": 0,
              "version_major": 2
            },
            "text/plain": [
              "HBox(children=(IntProgress(value=0, max=10), HTML(value='')))"
            ]
          },
          "metadata": {
            "tags": []
          }
        },
        {
          "output_type": "stream",
          "text": [
            "\n",
            "0.7337\n"
          ],
          "name": "stdout"
        }
      ]
    },
    {
      "cell_type": "code",
      "metadata": {
        "id": "SJE-zFjNIcxD",
        "colab_type": "code",
        "outputId": "029b2492-373a-4903-fbdd-2848899d2ec6",
        "colab": {
          "base_uri": "https://localhost:8080/",
          "height": 282
        }
      },
      "source": [
        "plt.plot(losses, label='GoogLeNet training loss')\n",
        "plt.plot(val_errs, label='GoogLeNet validation error')\n",
        "plt.legend()"
      ],
      "execution_count": 0,
      "outputs": [
        {
          "output_type": "execute_result",
          "data": {
            "text/plain": [
              "<matplotlib.legend.Legend at 0x7fe2a011d828>"
            ]
          },
          "metadata": {
            "tags": []
          },
          "execution_count": 33
        },
        {
          "output_type": "display_data",
          "data": {
            "image/png": "[encoded data removed]",
            "text/plain": [
              "<Figure size 432x288 with 1 Axes>"
            ]
          },
          "metadata": {
            "tags": [],
            "needs_background": "light"
          }
        }
      ]
    },
    {
      "cell_type": "markdown",
      "metadata": {
        "id": "qNwmxACshBek",
        "colab_type": "text"
      },
      "source": [
        "## On FashionMNIST"
      ]
    },
    {
      "cell_type": "code",
      "metadata": {
        "colab_type": "code",
        "id": "RruBZTI7gmCV",
        "colab": {}
      },
      "source": [
        "batch_size=64\n",
        "transform = transforms.Compose(\n",
        "    [\n",
        "     transforms.ToTensor()\n",
        "])\n",
        "trainset = torchvision.datasets.FashionMNIST(root=\"./data\", train=True, download=True, transform=transform)\n",
        "trainloader = torch.utils.data.DataLoader(trainset,batch_size=batch_size,shuffle=False)\n",
        "testset = torchvision.datasets.FashionMNIST(root=\"./data\", train=False, download=True, transform=transform)\n",
        "testloader = torch.utils.data.DataLoader(testset,batch_size=batch_size,shuffle=False)\n"
      ],
      "execution_count": 0,
      "outputs": []
    },
    {
      "cell_type": "code",
      "metadata": {
        "colab_type": "code",
        "outputId": "6e898068-0a83-49c7-cc18-3e9248d122d4",
        "id": "P7zvPYVlgp5N",
        "colab": {
          "base_uri": "https://localhost:8080/",
          "height": 100,
          "referenced_widgets": [
            "01ba15a12a6d4de08f6c57c23b66de21",
            "e82ec39c040b4543945243b12f0ad2c2",
            "e7be80fc0ca9443c917e0cb6a99c89db",
            "6f78ca37d82947898f8036228de320c9",
            "75bdfa6f78b444f9abc0651dce0edc6b",
            "d076df6dcec64b68947a944d1bb86760",
            "d9a91775898b4a5cb3206c257746e696",
            "5f07b8bc85c5420c831f6d82363644a4"
          ]
        }
      },
      "source": [
        "model_googlenet = GoogLeNet(1)\n",
        "model_googlenet.apply(init)\n",
        "#net = AlexNet(10)\n",
        "use_cuda = True\n",
        "if use_cuda and torch.cuda.is_available():\n",
        "    print(\"using cuda\")\n",
        "    model_googlenet.cuda()\n",
        "losses, val_errs = trainer(trainloader, testloader, model_googlenet, use_cuda, epoch=10)\n",
        "print(accuracy(testloader, model_googlenet, use_cuda))"
      ],
      "execution_count": 0,
      "outputs": [
        {
          "output_type": "stream",
          "text": [
            "using cuda\n"
          ],
          "name": "stdout"
        },
        {
          "output_type": "display_data",
          "data": {
            "application/vnd.jupyter.widget-view+json": {
              "model_id": "01ba15a12a6d4de08f6c57c23b66de21",
              "version_minor": 0,
              "version_major": 2
            },
            "text/plain": [
              "HBox(children=(IntProgress(value=0, max=10), HTML(value='')))"
            ]
          },
          "metadata": {
            "tags": []
          }
        },
        {
          "output_type": "stream",
          "text": [
            "\n",
            "0.8963\n"
          ],
          "name": "stdout"
        }
      ]
    },
    {
      "cell_type": "code",
      "metadata": {
        "id": "eCvvx-PlQggo",
        "colab_type": "code",
        "outputId": "b28f61fc-cae1-4cfc-eb97-84d7c87c6e9a",
        "colab": {
          "base_uri": "https://localhost:8080/"
        }
      },
      "source": [
        "plt.plot(losses, label='GoogLeNet training loss')\n",
        "plt.plot(val_errs, label='GoogLeNet validation error')\n",
        "plt.legend()"
      ],
      "execution_count": 0,
      "outputs": [
        {
          "output_type": "execute_result",
          "data": {
            "text/plain": [
              "<matplotlib.legend.Legend at 0x7fe2a01cfa20>"
            ]
          },
          "metadata": {
            "tags": []
          },
          "execution_count": 36
        },
        {
          "output_type": "display_data",
          "data": {
            "image/png": "[encoded data removed]",
            "text/plain": [
              "<Figure size 432x288 with 1 Axes>"
            ]
          },
          "metadata": {
            "tags": [],
            "needs_background": "light"
          }
        }
      ]
    }
  ]
}