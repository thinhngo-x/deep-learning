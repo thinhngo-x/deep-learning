{
  "nbformat": 4,
  "nbformat_minor": 0,
  "metadata": {
    "colab": {
      "name": "TD7_ResNet.ipynb",
      "provenance": [],
      "authorship_tag": "ABX9TyO8NnIEQ4CzLsWhUwu5jGYW",
      "include_colab_link": true
    },
    "kernelspec": {
      "name": "python3",
      "display_name": "Python 3"
    }
  },
  "cells": [
    {
      "cell_type": "markdown",
      "metadata": {
        "id": "view-in-github",
        "colab_type": "text"
      },
      "source": [
        "<a href=\"https://colab.research.google.com/github/thinhngo-x/deep-learning/blob/master/TD7_ResNet.ipynb\" target=\"_parent\"><img src=\"https://colab.research.google.com/assets/colab-badge.svg\" alt=\"Open In Colab\"/></a>"
      ]
    },
    {
      "cell_type": "markdown",
      "metadata": {
        "id": "lY9FwLodbb5q",
        "colab_type": "text"
      },
      "source": [
        "# 0. Setup"
      ]
    },
    {
      "cell_type": "code",
      "metadata": {
        "id": "fVjZRSBX7VkU",
        "colab_type": "code",
        "colab": {}
      },
      "source": [
        "import torch.nn as nn\n",
        "import torch.utils.model_zoo as model_zoo\n",
        "from tqdm.notebook import tqdm"
      ],
      "execution_count": 0,
      "outputs": []
    },
    {
      "cell_type": "code",
      "metadata": {
        "id": "NT4dEo7ZKDsc",
        "colab_type": "code",
        "colab": {}
      },
      "source": [
        "import torch\n",
        "import torchvision\n",
        "import torchvision.transforms as transforms\n",
        "import numpy as np\n",
        "import matplotlib.pyplot as plt\n",
        "\n",
        "import torch.nn as nn\n",
        "import torch.nn.functional as F\n",
        "from torch.utils.data.sampler import SubsetRandomSampler\n",
        "from torchsummary import summary"
      ],
      "execution_count": 0,
      "outputs": []
    },
    {
      "cell_type": "code",
      "metadata": {
        "id": "x7Qj_9nmOCMa",
        "colab_type": "code",
        "colab": {}
      },
      "source": [
        "def init(m):\n",
        "    if isinstance(m, nn.Conv2d):\n",
        "        nn.init.kaiming_normal_(m.weight, mode='fan_out', nonlinearity='relu')\n",
        "        if m.bias is not None:\n",
        "            nn.init.constant_(m.bias, 0)\n",
        "    elif isinstance(m, nn.BatchNorm2d):\n",
        "        nn.init.constant_(m.weight, 1)\n",
        "        nn.init.constant_(m.bias, 0)\n",
        "    elif isinstance(m, nn.Linear):\n",
        "        nn.init.normal_(m.weight, 0, 0.01)\n",
        "        nn.init.constant_(m.bias, 0)"
      ],
      "execution_count": 0,
      "outputs": []
    },
    {
      "cell_type": "markdown",
      "metadata": {
        "id": "xGPupe5hbdSp",
        "colab_type": "text"
      },
      "source": [
        "# 1. ResNet"
      ]
    },
    {
      "cell_type": "code",
      "metadata": {
        "id": "fXIz0oLkUMIt",
        "colab_type": "code",
        "colab": {}
      },
      "source": [
        "def trainer(train_loader, test_loader, model, use_cuda, loss_fn=nn.CrossEntropyLoss(), epoch=10, rate=1e-3):\n",
        "    loss_eval = []\n",
        "    err_eval = []\n",
        "    #   data = torch.utils.data.DataLoader(dataset, batch_size)\n",
        "    optimizer = torch.optim.Adam(model.parameters(),lr=rate)\n",
        "    j = 0\n",
        "    for i in tqdm(range(epoch)):\n",
        "        for imgs, labels in train_loader:\n",
        "            j += 1\n",
        "            if use_cuda and torch.cuda.is_available():\n",
        "                imgs = imgs.type(torch.cuda.FloatTensor)\n",
        "                labels = labels.type(torch.cuda.LongTensor)\n",
        "\n",
        "            optimizer.zero_grad()\n",
        "\n",
        "            output = model(imgs)\n",
        "            loss = loss_fn(output, labels)\n",
        "            if j % 500 == 1 :\n",
        "                loss_eval.append(loss.item())\n",
        "                err_eval.append(1 - accuracy(test_loader, model, use_cuda))\n",
        "            loss.backward()\n",
        "\n",
        "            optimizer.step()\n",
        "        \n",
        "    return loss_eval, err_eval\n",
        "\n",
        "def accuracy(dataloader, model, use_cuda):\n",
        "    model.eval()\n",
        "    #   test_loader = torch.utils.data.DataLoader(test_data, batch_size=len(test_data))\n",
        "    corr = 0\n",
        "    total = 0\n",
        "    for imgs, labels in dataloader:\n",
        "        if use_cuda and torch.cuda.is_available():\n",
        "            imgs = imgs.type(torch.cuda.FloatTensor)\n",
        "            labels = labels.type(torch.cuda.LongTensor)\n",
        "        with torch.no_grad():\n",
        "            output = model(imgs)\n",
        "            output = [torch.argmax(i) for i in output]\n",
        "            correct = [i for i,j in zip(output, labels) if i == j]\n",
        "            corr += len(correct)\n",
        "            total += len(labels)\n",
        "    model.train()\n",
        "    # print(len(correct))\n",
        "    return(corr / total)"
      ],
      "execution_count": 0,
      "outputs": []
    },
    {
      "cell_type": "code",
      "metadata": {
        "id": "7BqTSz6Bm1Aw",
        "colab_type": "code",
        "colab": {}
      },
      "source": [
        "import torch\n",
        "import torch.nn as nn\n",
        "import torch.nn.functional as F\n",
        "\n",
        "\n",
        "class SimpleBlock(nn.Module):\n",
        "    def __init__(self, in_planes, planes, stride=1):\n",
        "        super(SimpleBlock, self).__init__()\n",
        "\n",
        "        assert((stride == 1) or (stride == 2 and planes == in_planes * 2))\n",
        "\n",
        "        padding = 0\n",
        "        self.conv1 = nn.Conv2d(in_planes, planes, 3, stride=stride, padding=1, bias=False)\n",
        "        self.bn1 = nn.BatchNorm2d(planes)\n",
        "        self.conv2 = nn.Conv2d(planes, planes, 3, stride=1, padding=1, bias=False)\n",
        "        self.bn2 = nn.BatchNorm2d(planes)\n",
        "\n",
        "    def forward(self, x):\n",
        "        out = F.relu(self.bn1(self.conv1(x)))\n",
        "        out = self.conv2(out)\n",
        "        out = F.relu(self.bn2(out))\n",
        "\n",
        "        return out\n",
        "\n",
        "      \n",
        "class ResNetBlock(nn.Module):\n",
        "\n",
        "    def __init__(self, in_planes, planes, stride=1):\n",
        "        super(ResNetBlock, self).__init__()\n",
        "\n",
        "        assert((stride == 1) or (stride == 2 and planes == in_planes * 2))\n",
        "\n",
        "        padding = 0\n",
        "        self.conv1 = nn.Conv2d(in_planes, planes, 3, stride=stride, padding=1, bias=False)\n",
        "        self.bn1 = nn.BatchNorm2d(planes)\n",
        "        self.conv2 = nn.Conv2d(planes, planes, 3, stride=1, padding=1, bias=False)\n",
        "        if stride == 2: \n",
        "            self.shortcut = nn.Conv2d(in_planes, planes, 1, stride=2, padding=0, bias=False)\n",
        "        else: \n",
        "            self.shortcut = nn.Identity()\n",
        "        self.bn2 = nn.BatchNorm2d(planes)\n",
        "\n",
        "    def forward(self, x):\n",
        "        out = F.relu(self.bn1(self.conv1(x)))\n",
        "        out = self.conv2(out) + self.shortcut(x)\n",
        "        out = F.relu(self.bn2(out))\n",
        "\n",
        "        return out\n",
        "\n",
        "class ResNet(nn.Module):\n",
        "    def __init__(self, block, num_blocks, num_classes=10, num_filters=16, input_dim=3):\n",
        "        super(ResNet, self).__init__()\n",
        "        self.in_planes = num_filters\n",
        "\n",
        "        self.conv1 = nn.Conv2d(input_dim, num_filters, kernel_size=3, stride=1, padding=1, bias=False)\n",
        "        self.bn1 = nn.BatchNorm2d(num_filters)\n",
        "\t\t\n",
        "        layers_resnet = []\n",
        "        for i in range(len(num_blocks)) :\n",
        "            if i == 0 :\n",
        "                planes = self.in_planes\n",
        "                print(planes)\n",
        "                layers_resnet.append(self._make_layer(block, planes, num_blocks[i], stride=1))\n",
        "            else :\n",
        "                planes = self.in_planes * 2\n",
        "                print(planes)\n",
        "                layers_resnet.append(self._make_layer(block, planes, num_blocks[i], stride=2))\n",
        "\n",
        "        self.resnet = nn.Sequential(*layers_resnet)\n",
        "\t\t\n",
        "        self.fc = nn.Sequential(\n",
        "            nn.Linear(self.in_planes, num_classes),\n",
        "            nn.LogSoftmax(1)\n",
        "        )\n",
        "\n",
        "    def _make_layer(self, block, planes, num_blocks, stride):\n",
        "        layers = []\n",
        "\n",
        "        if stride != 1 :\n",
        "            downsample = block(self.in_planes, planes, stride)\n",
        "            layers.append(downsample)\n",
        "            num_blocks -= 1\n",
        "            self.in_planes = planes\n",
        "\n",
        "        for i in range(num_blocks) :\n",
        "            layers.append(block(self.in_planes, planes, 1))\n",
        "            self.in_planes = planes\n",
        "        \n",
        "        return nn.Sequential(*layers)\n",
        "\n",
        "    def forward(self, x):\n",
        "        out = F.relu(self.bn1(self.conv1(x)))\n",
        "        out = self.resnet(out)\n",
        "        out = F.avg_pool2d(out, 4)\n",
        "        out = out.view(out.size(0), -1)\n",
        "        out = self.fc(out)\n",
        "        return out\n",
        "\n",
        "\n",
        "# (1 + 2*(1 + 1) + 2*(1 + 1) + 2*(1 + 1) + 2*(1 + 1)) + 1 = 18\n",
        "def ResNet18(input_dim=3):\n",
        "    return ResNet(ResNetBlock, [2, 2, 2, 2], input_dim=input_dim)\n",
        "\n",
        "def PlainNet18(input_dim=3):\n",
        "    return ResNet(SimpleBlock, [2, 2, 2, 2], input_dim=input_dim)\n",
        "\n",
        "def ResNet36(input_dim=3):\n",
        "  return ResNet(ResNetBlock, [4, 4, 4, 4], input_dim=input_dim)"
      ],
      "execution_count": 0,
      "outputs": []
    },
    {
      "cell_type": "code",
      "metadata": {
        "id": "2z0j-1B2H84O",
        "colab_type": "code",
        "outputId": "d8ea3bbe-0007-4e33-dade-49d88d5910b6",
        "colab": {
          "base_uri": "https://localhost:8080/",
          "height": 1000
        }
      },
      "source": [
        "summary(ResNet18(3).cuda(), input_size=(3,32,32), batch_size=32)"
      ],
      "execution_count": 0,
      "outputs": [
        {
          "output_type": "stream",
          "text": [
            "16\n",
            "32\n",
            "64\n",
            "128\n",
            "----------------------------------------------------------------\n",
            "        Layer (type)               Output Shape         Param #\n",
            "================================================================\n",
            "            Conv2d-1           [32, 16, 32, 32]             432\n",
            "       BatchNorm2d-2           [32, 16, 32, 32]              32\n",
            "            Conv2d-3           [32, 16, 32, 32]           2,304\n",
            "       BatchNorm2d-4           [32, 16, 32, 32]              32\n",
            "            Conv2d-5           [32, 16, 32, 32]           2,304\n",
            "          Identity-6           [32, 16, 32, 32]               0\n",
            "       BatchNorm2d-7           [32, 16, 32, 32]              32\n",
            "       ResNetBlock-8           [32, 16, 32, 32]               0\n",
            "            Conv2d-9           [32, 16, 32, 32]           2,304\n",
            "      BatchNorm2d-10           [32, 16, 32, 32]              32\n",
            "           Conv2d-11           [32, 16, 32, 32]           2,304\n",
            "         Identity-12           [32, 16, 32, 32]               0\n",
            "      BatchNorm2d-13           [32, 16, 32, 32]              32\n",
            "      ResNetBlock-14           [32, 16, 32, 32]               0\n",
            "           Conv2d-15           [32, 32, 16, 16]           4,608\n",
            "      BatchNorm2d-16           [32, 32, 16, 16]              64\n",
            "           Conv2d-17           [32, 32, 16, 16]           9,216\n",
            "           Conv2d-18           [32, 32, 16, 16]             512\n",
            "      BatchNorm2d-19           [32, 32, 16, 16]              64\n",
            "      ResNetBlock-20           [32, 32, 16, 16]               0\n",
            "           Conv2d-21           [32, 32, 16, 16]           9,216\n",
            "      BatchNorm2d-22           [32, 32, 16, 16]              64\n",
            "           Conv2d-23           [32, 32, 16, 16]           9,216\n",
            "         Identity-24           [32, 32, 16, 16]               0\n",
            "      BatchNorm2d-25           [32, 32, 16, 16]              64\n",
            "      ResNetBlock-26           [32, 32, 16, 16]               0\n",
            "           Conv2d-27             [32, 64, 8, 8]          18,432\n",
            "      BatchNorm2d-28             [32, 64, 8, 8]             128\n",
            "           Conv2d-29             [32, 64, 8, 8]          36,864\n",
            "           Conv2d-30             [32, 64, 8, 8]           2,048\n",
            "      BatchNorm2d-31             [32, 64, 8, 8]             128\n",
            "      ResNetBlock-32             [32, 64, 8, 8]               0\n",
            "           Conv2d-33             [32, 64, 8, 8]          36,864\n",
            "      BatchNorm2d-34             [32, 64, 8, 8]             128\n",
            "           Conv2d-35             [32, 64, 8, 8]          36,864\n",
            "         Identity-36             [32, 64, 8, 8]               0\n",
            "      BatchNorm2d-37             [32, 64, 8, 8]             128\n",
            "      ResNetBlock-38             [32, 64, 8, 8]               0\n",
            "           Conv2d-39            [32, 128, 4, 4]          73,728\n",
            "      BatchNorm2d-40            [32, 128, 4, 4]             256\n",
            "           Conv2d-41            [32, 128, 4, 4]         147,456\n",
            "           Conv2d-42            [32, 128, 4, 4]           8,192\n",
            "      BatchNorm2d-43            [32, 128, 4, 4]             256\n",
            "      ResNetBlock-44            [32, 128, 4, 4]               0\n",
            "           Conv2d-45            [32, 128, 4, 4]         147,456\n",
            "      BatchNorm2d-46            [32, 128, 4, 4]             256\n",
            "           Conv2d-47            [32, 128, 4, 4]         147,456\n",
            "         Identity-48            [32, 128, 4, 4]               0\n",
            "      BatchNorm2d-49            [32, 128, 4, 4]             256\n",
            "      ResNetBlock-50            [32, 128, 4, 4]               0\n",
            "           Linear-51                   [32, 10]           1,290\n",
            "       LogSoftmax-52                   [32, 10]               0\n",
            "================================================================\n",
            "Total params: 701,018\n",
            "Trainable params: 701,018\n",
            "Non-trainable params: 0\n",
            "----------------------------------------------------------------\n",
            "Input size (MB): 0.38\n",
            "Forward/backward pass size (MB): 98.00\n",
            "Params size (MB): 2.67\n",
            "Estimated Total Size (MB): 101.05\n",
            "----------------------------------------------------------------\n"
          ],
          "name": "stdout"
        }
      ]
    },
    {
      "cell_type": "code",
      "metadata": {
        "id": "QznQ6WoDH9W7",
        "colab_type": "code",
        "outputId": "9a84e593-c03f-4a7d-c184-8200c8144d77",
        "colab": {
          "base_uri": "https://localhost:8080/",
          "height": 1000
        }
      },
      "source": [
        "summary(PlainNet18(3).cuda(), input_size=(3,32,32), batch_size=32)"
      ],
      "execution_count": 0,
      "outputs": [
        {
          "output_type": "stream",
          "text": [
            "16\n",
            "32\n",
            "64\n",
            "128\n",
            "----------------------------------------------------------------\n",
            "        Layer (type)               Output Shape         Param #\n",
            "================================================================\n",
            "            Conv2d-1           [32, 16, 32, 32]             432\n",
            "       BatchNorm2d-2           [32, 16, 32, 32]              32\n",
            "            Conv2d-3           [32, 16, 32, 32]           2,304\n",
            "       BatchNorm2d-4           [32, 16, 32, 32]              32\n",
            "            Conv2d-5           [32, 16, 32, 32]           2,304\n",
            "       BatchNorm2d-6           [32, 16, 32, 32]              32\n",
            "       SimpleBlock-7           [32, 16, 32, 32]               0\n",
            "            Conv2d-8           [32, 16, 32, 32]           2,304\n",
            "       BatchNorm2d-9           [32, 16, 32, 32]              32\n",
            "           Conv2d-10           [32, 16, 32, 32]           2,304\n",
            "      BatchNorm2d-11           [32, 16, 32, 32]              32\n",
            "      SimpleBlock-12           [32, 16, 32, 32]               0\n",
            "           Conv2d-13           [32, 32, 16, 16]           4,608\n",
            "      BatchNorm2d-14           [32, 32, 16, 16]              64\n",
            "           Conv2d-15           [32, 32, 16, 16]           9,216\n",
            "      BatchNorm2d-16           [32, 32, 16, 16]              64\n",
            "      SimpleBlock-17           [32, 32, 16, 16]               0\n",
            "           Conv2d-18           [32, 32, 16, 16]           9,216\n",
            "      BatchNorm2d-19           [32, 32, 16, 16]              64\n",
            "           Conv2d-20           [32, 32, 16, 16]           9,216\n",
            "      BatchNorm2d-21           [32, 32, 16, 16]              64\n",
            "      SimpleBlock-22           [32, 32, 16, 16]               0\n",
            "           Conv2d-23             [32, 64, 8, 8]          18,432\n",
            "      BatchNorm2d-24             [32, 64, 8, 8]             128\n",
            "           Conv2d-25             [32, 64, 8, 8]          36,864\n",
            "      BatchNorm2d-26             [32, 64, 8, 8]             128\n",
            "      SimpleBlock-27             [32, 64, 8, 8]               0\n",
            "           Conv2d-28             [32, 64, 8, 8]          36,864\n",
            "      BatchNorm2d-29             [32, 64, 8, 8]             128\n",
            "           Conv2d-30             [32, 64, 8, 8]          36,864\n",
            "      BatchNorm2d-31             [32, 64, 8, 8]             128\n",
            "      SimpleBlock-32             [32, 64, 8, 8]               0\n",
            "           Conv2d-33            [32, 128, 4, 4]          73,728\n",
            "      BatchNorm2d-34            [32, 128, 4, 4]             256\n",
            "           Conv2d-35            [32, 128, 4, 4]         147,456\n",
            "      BatchNorm2d-36            [32, 128, 4, 4]             256\n",
            "      SimpleBlock-37            [32, 128, 4, 4]               0\n",
            "           Conv2d-38            [32, 128, 4, 4]         147,456\n",
            "      BatchNorm2d-39            [32, 128, 4, 4]             256\n",
            "           Conv2d-40            [32, 128, 4, 4]         147,456\n",
            "      BatchNorm2d-41            [32, 128, 4, 4]             256\n",
            "      SimpleBlock-42            [32, 128, 4, 4]               0\n",
            "           Linear-43                   [32, 10]           1,290\n",
            "       LogSoftmax-44                   [32, 10]               0\n",
            "================================================================\n",
            "Total params: 690,266\n",
            "Trainable params: 690,266\n",
            "Non-trainable params: 0\n",
            "----------------------------------------------------------------\n",
            "Input size (MB): 0.38\n",
            "Forward/backward pass size (MB): 83.00\n",
            "Params size (MB): 2.63\n",
            "Estimated Total Size (MB): 86.01\n",
            "----------------------------------------------------------------\n"
          ],
          "name": "stdout"
        }
      ]
    },
    {
      "cell_type": "markdown",
      "metadata": {
        "id": "6En1zWhUMbcI",
        "colab_type": "text"
      },
      "source": [
        "The more blocks there are, the deeper the network is."
      ]
    },
    {
      "cell_type": "markdown",
      "metadata": {
        "id": "KoFHrQrLgTER",
        "colab_type": "text"
      },
      "source": [
        "## On CIFAR-10"
      ]
    },
    {
      "cell_type": "code",
      "metadata": {
        "id": "Fv0YOntO4EQl",
        "colab_type": "code",
        "outputId": "bfabb4f1-2f59-4b68-9d9d-c40a830b646e",
        "colab": {
          "base_uri": "https://localhost:8080/",
          "height": 51
        }
      },
      "source": [
        "batch_size=64\n",
        "transform = transforms.Compose(\n",
        "    [\n",
        "     transforms.ToTensor(),\n",
        "     transforms.Normalize((0.5,), (0.5,)),\n",
        "])\n",
        "trainset = torchvision.datasets.CIFAR10(root=\"./data\", train=True, download=True, transform=transform)\n",
        "trainloader = torch.utils.data.DataLoader(trainset,batch_size=batch_size,shuffle=False)\n",
        "testset = torchvision.datasets.CIFAR10(root=\"./data\", train=False, download=True, transform=transform)\n",
        "testloader = torch.utils.data.DataLoader(testset,batch_size=10000,shuffle=False)"
      ],
      "execution_count": 0,
      "outputs": [
        {
          "output_type": "stream",
          "text": [
            "Files already downloaded and verified\n",
            "Files already downloaded and verified\n"
          ],
          "name": "stdout"
        }
      ]
    },
    {
      "cell_type": "code",
      "metadata": {
        "id": "qQGOG7dZitlZ",
        "colab_type": "code",
        "outputId": "7d558b74-489c-4644-aa7b-ad0e80d4072a",
        "colab": {
          "base_uri": "https://localhost:8080/",
          "height": 168,
          "referenced_widgets": [
            "29e6a2afadba4ae2b972febcf479fb8d",
            "a18b978fddd4499a9ef55f94551e540d",
            "94966049d0014a2fbfa38084a3da4928",
            "9759d8c39ca8425f8ce7a68d212ce64d",
            "497c965df9c8421ea06ba3382fe2a8c2",
            "4d24bcbf8a5f46e1a236c1f76c46601d",
            "baa1a1601d85439b861551f05f01d6ff",
            "28e624943aa5493ca83bcac584232537"
          ]
        }
      },
      "source": [
        "model_resnet18 = ResNet18()\n",
        "model_resnet18.apply(init)\n",
        "\n",
        "#net = AlexNet(10)\n",
        "use_cuda = True\n",
        "if use_cuda and torch.cuda.is_available():\n",
        "    print(\"using cuda\")\n",
        "    model_resnet18.cuda()\n",
        "losses, val_errs = trainer(trainloader, testloader, model_resnet18, use_cuda, epoch=3)\n",
        "print(accuracy(testloader, model_resnet18, use_cuda))"
      ],
      "execution_count": 0,
      "outputs": [
        {
          "output_type": "stream",
          "text": [
            "16\n",
            "32\n",
            "64\n",
            "128\n",
            "using cuda\n"
          ],
          "name": "stdout"
        },
        {
          "output_type": "display_data",
          "data": {
            "application/vnd.jupyter.widget-view+json": {
              "model_id": "29e6a2afadba4ae2b972febcf479fb8d",
              "version_minor": 0,
              "version_major": 2
            },
            "text/plain": [
              "HBox(children=(IntProgress(value=0, max=3), HTML(value='')))"
            ]
          },
          "metadata": {
            "tags": []
          }
        },
        {
          "output_type": "stream",
          "text": [
            "\n",
            "0.7327\n"
          ],
          "name": "stdout"
        }
      ]
    },
    {
      "cell_type": "code",
      "metadata": {
        "id": "sCnlwU266xJf",
        "colab_type": "code",
        "outputId": "a7d8db0c-3e13-46bc-d533-39b688a5ac6b",
        "colab": {
          "base_uri": "https://localhost:8080/",
          "height": 168,
          "referenced_widgets": [
            "4421293507d1491ab116c97d1b54662a",
            "6448c0931628482690517d3c5257654e",
            "a7ce475310974d42bd0b014434fd5b9e",
            "96d5fe0a71f94d05b69e177af1e0a2c0",
            "b7e85178f8b244ae946cda9cefec3dc3",
            "a6827e08328d43b78a288aa11f52e497",
            "2f02d222f49e402e9c577785501875bf",
            "b006256bc6454fedb22fecbd6540d9e0"
          ]
        }
      },
      "source": [
        "model_plainnet18 = PlainNet18()\n",
        "model_plainnet18.apply(init)\n",
        "#net = AlexNet(10)\n",
        "use_cuda = True\n",
        "if use_cuda and torch.cuda.is_available():\n",
        "    print(\"using cuda\")\n",
        "    model_plainnet18.cuda()\n",
        "losses_, val_errs_ = trainer(trainloader, testloader, model_plainnet18, use_cuda, epoch=3)\n",
        "print(accuracy(testloader, model_plainnet18, use_cuda))\n"
      ],
      "execution_count": 0,
      "outputs": [
        {
          "output_type": "stream",
          "text": [
            "16\n",
            "32\n",
            "64\n",
            "128\n",
            "using cuda\n"
          ],
          "name": "stdout"
        },
        {
          "output_type": "display_data",
          "data": {
            "application/vnd.jupyter.widget-view+json": {
              "model_id": "4421293507d1491ab116c97d1b54662a",
              "version_minor": 0,
              "version_major": 2
            },
            "text/plain": [
              "HBox(children=(IntProgress(value=0, max=3), HTML(value='')))"
            ]
          },
          "metadata": {
            "tags": []
          }
        },
        {
          "output_type": "stream",
          "text": [
            "\n",
            "0.68\n"
          ],
          "name": "stdout"
        }
      ]
    },
    {
      "cell_type": "code",
      "metadata": {
        "id": "CNaWaWJxBXCB",
        "colab_type": "code",
        "outputId": "71de87f0-2f9b-49e0-e48c-bb2ba6fcc707",
        "colab": {
          "base_uri": "https://localhost:8080/",
          "height": 282
        }
      },
      "source": [
        "plt.plot(losses, label='ResNet training loss')\n",
        "plt.plot(val_errs, label='ResNet validation error')\n",
        "plt.plot(losses_, label='Plainnet training loss')\n",
        "plt.plot(val_errs_, label='Plainnet validation error')\n",
        "plt.legend()"
      ],
      "execution_count": 0,
      "outputs": [
        {
          "output_type": "execute_result",
          "data": {
            "text/plain": [
              "<matplotlib.legend.Legend at 0x7f8ab067acf8>"
            ]
          },
          "metadata": {
            "tags": []
          },
          "execution_count": 9
        },
        {
          "output_type": "display_data",
          "data": {
            "image/png": "[encoded data removed]",
            "text/plain": [
              "<Figure size 432x288 with 1 Axes>"
            ]
          },
          "metadata": {
            "tags": [],
            "needs_background": "light"
          }
        }
      ]
    },
    {
      "cell_type": "markdown",
      "metadata": {
        "id": "B-zMmdXTMlfe",
        "colab_type": "text"
      },
      "source": [
        "ResNet proved to be more efficient than a plain network though they have the number of parameters nearly equivalent (700k vs 690k) and the same depth."
      ]
    },
    {
      "cell_type": "markdown",
      "metadata": {
        "id": "cJlun734gnMJ",
        "colab_type": "text"
      },
      "source": [
        "## On FashionMNIST"
      ]
    },
    {
      "cell_type": "code",
      "metadata": {
        "colab_type": "code",
        "id": "3EpULhPSUApK",
        "outputId": "cf60a676-ec4a-413d-9dd9-e3d331d2fa5e",
        "colab": {
          "base_uri": "https://localhost:8080/",
          "height": 369,
          "referenced_widgets": [
            "a6314a0e6f234c8980d5672c91dd18f9",
            "29d588a3e2664bd5bb43181fdac9d5b7",
            "598ddc70f05348e19381fb66336d9a93",
            "1723ff12a86a462d8500329dc8fde61d",
            "aec3c5be3e784fe1a9ccc16fb60d66a3",
            "570e62dddb93451995285b3299ad20c2",
            "97d4592eb9cc409cbf78eb621c816ab1",
            "e3d0a717046b45cc97c6c441d8fc11ee",
            "cb6b9f12a65f41d79a121ce8096f3d2d",
            "73883e27b91a4ad4a8e49a620b42862e",
            "9845fa9cd4ec4cd4a5daded3648e47e7",
            "94cc4cf62f83496f941f30b3df95cfe5",
            "c1bec21213c143b6933685169c67b1be",
            "2680930248d54c4aa37d1b9e220342c0",
            "5636f594ab7a42948a6a9f0c912ce080",
            "aedf6e2e1e1a4dcbafb1e3eab8183246",
            "873610c22abb46348865d6b1f02536fc",
            "5b2ffc1d06324509b058e20a475f4d8f",
            "5b9a739ad63c4efa8fbc0b764f4755f8",
            "0dcf2f68d94a4ee6bc3c13a55e49aa7e",
            "da426cd559994c0c8ec8765322024974",
            "766fbd9fccff44f18776ef803e1bfb35",
            "c7eedba45f0a48d4968fdb784d574241",
            "5147bd4eb2044344965994366f9b20df",
            "04d3d52c83024c7fa39afea634ed7277",
            "2cea5e627f844c4cace45c01128f3480",
            "11b9d473b923494d80d9660370a4656a",
            "c16780aac50b4b34b8618e4f87be6214",
            "5652aec3cb9e44ea8cedf35256c00b92",
            "12a188f185b148c38295d23017e6d51b",
            "61e4d3e86196481a9363e82381f71c96",
            "46f394961fc54e1b9454333834b94fff"
          ]
        }
      },
      "source": [
        "batch_size=32\n",
        "transform = transforms.Compose(\n",
        "    [\n",
        "     transforms.ToTensor()\n",
        "])\n",
        "trainset = torchvision.datasets.FashionMNIST(root=\"./data\", train=True, download=True, transform=transform)\n",
        "trainloader = torch.utils.data.DataLoader(trainset,batch_size=batch_size,shuffle=False)\n",
        "testset = torchvision.datasets.FashionMNIST(root=\"./data\", train=False, download=True, transform=transform)\n",
        "testloader = torch.utils.data.DataLoader(testset,batch_size=batch_size,shuffle=False)\n"
      ],
      "execution_count": 0,
      "outputs": [
        {
          "output_type": "stream",
          "text": [
            "Downloading http://fashion-mnist.s3-website.eu-central-1.amazonaws.com/train-images-idx3-ubyte.gz to ./data/FashionMNIST/raw/train-images-idx3-ubyte.gz\n"
          ],
          "name": "stdout"
        },
        {
          "output_type": "display_data",
          "data": {
            "application/vnd.jupyter.widget-view+json": {
              "model_id": "a6314a0e6f234c8980d5672c91dd18f9",
              "version_minor": 0,
              "version_major": 2
            },
            "text/plain": [
              "HBox(children=(IntProgress(value=1, bar_style='info', max=1), HTML(value='')))"
            ]
          },
          "metadata": {
            "tags": []
          }
        },
        {
          "output_type": "stream",
          "text": [
            "Extracting ./data/FashionMNIST/raw/train-images-idx3-ubyte.gz to ./data/FashionMNIST/raw\n",
            "Downloading http://fashion-mnist.s3-website.eu-central-1.amazonaws.com/train-labels-idx1-ubyte.gz to ./data/FashionMNIST/raw/train-labels-idx1-ubyte.gz\n",
            "\n"
          ],
          "name": "stdout"
        },
        {
          "output_type": "display_data",
          "data": {
            "application/vnd.jupyter.widget-view+json": {
              "model_id": "cb6b9f12a65f41d79a121ce8096f3d2d",
              "version_minor": 0,
              "version_major": 2
            },
            "text/plain": [
              "HBox(children=(IntProgress(value=1, bar_style='info', max=1), HTML(value='')))"
            ]
          },
          "metadata": {
            "tags": []
          }
        },
        {
          "output_type": "stream",
          "text": [
            "Extracting ./data/FashionMNIST/raw/train-labels-idx1-ubyte.gz to ./data/FashionMNIST/raw\n",
            "Downloading http://fashion-mnist.s3-website.eu-central-1.amazonaws.com/t10k-images-idx3-ubyte.gz to ./data/FashionMNIST/raw/t10k-images-idx3-ubyte.gz\n"
          ],
          "name": "stdout"
        },
        {
          "output_type": "display_data",
          "data": {
            "application/vnd.jupyter.widget-view+json": {
              "model_id": "873610c22abb46348865d6b1f02536fc",
              "version_minor": 0,
              "version_major": 2
            },
            "text/plain": [
              "HBox(children=(IntProgress(value=1, bar_style='info', max=1), HTML(value='')))"
            ]
          },
          "metadata": {
            "tags": []
          }
        },
        {
          "output_type": "stream",
          "text": [
            "Extracting ./data/FashionMNIST/raw/t10k-images-idx3-ubyte.gz to ./data/FashionMNIST/raw\n",
            "Downloading http://fashion-mnist.s3-website.eu-central-1.amazonaws.com/t10k-labels-idx1-ubyte.gz to ./data/FashionMNIST/raw/t10k-labels-idx1-ubyte.gz\n"
          ],
          "name": "stdout"
        },
        {
          "output_type": "display_data",
          "data": {
            "application/vnd.jupyter.widget-view+json": {
              "model_id": "04d3d52c83024c7fa39afea634ed7277",
              "version_minor": 0,
              "version_major": 2
            },
            "text/plain": [
              "HBox(children=(IntProgress(value=1, bar_style='info', max=1), HTML(value='')))"
            ]
          },
          "metadata": {
            "tags": []
          }
        },
        {
          "output_type": "stream",
          "text": [
            "Extracting ./data/FashionMNIST/raw/t10k-labels-idx1-ubyte.gz to ./data/FashionMNIST/raw\n",
            "Processing...\n",
            "Done!\n"
          ],
          "name": "stdout"
        },
        {
          "output_type": "stream",
          "text": [
            "/pytorch/torch/csrc/utils/tensor_numpy.cpp:141: UserWarning: The given NumPy array is not writeable, and PyTorch does not support non-writeable tensors. This means you can write to the underlying (supposedly non-writeable) NumPy array using the tensor. You may want to copy the array to protect its data or make it writeable before converting it to a tensor. This type of warning will be suppressed for the rest of this program.\n"
          ],
          "name": "stderr"
        }
      ]
    },
    {
      "cell_type": "code",
      "metadata": {
        "colab_type": "code",
        "outputId": "19c3ebb9-01a5-4141-b7ec-64a2bc467dbc",
        "id": "4k9Cnh1AUTK9",
        "colab": {
          "base_uri": "https://localhost:8080/",
          "height": 202,
          "referenced_widgets": [
            "b617361961aa4a9c9b928e3d6a221ffc",
            "c02c2743c0ef40c2898ad68be913a90f",
            "23534f0043c8417a986b5c83492681c2",
            "a3eed46616e74a4daa3706e5a108dca9",
            "7fd845879bc948f68693808e939faef0",
            "c93e23f889914378a92d864716a1e926",
            "cee606008fd64c34b72ba93d6a068d69",
            "d073bdc1ef674276a889d5560c16ad7d"
          ]
        }
      },
      "source": [
        "model_resnet18 = ResNet18(1)\n",
        "model_resnet18.apply(init)\n",
        "\n",
        "#net = AlexNet(10)\n",
        "use_cuda = True\n",
        "if use_cuda and torch.cuda.is_available():\n",
        "    print(\"using cuda\")\n",
        "    model_resnet18.cuda()\n",
        "losses, val_errs = trainer(trainloader, testloader, model_resnet18, use_cuda, epoch=3)\n",
        "print(accuracy(testloader, model_resnet18, use_cuda))"
      ],
      "execution_count": 0,
      "outputs": [
        {
          "output_type": "stream",
          "text": [
            "16\n",
            "\n",
            "\n",
            "32\n",
            "64\n",
            "128\n",
            "using cuda\n"
          ],
          "name": "stdout"
        },
        {
          "output_type": "display_data",
          "data": {
            "application/vnd.jupyter.widget-view+json": {
              "model_id": "b617361961aa4a9c9b928e3d6a221ffc",
              "version_minor": 0,
              "version_major": 2
            },
            "text/plain": [
              "HBox(children=(IntProgress(value=0, max=3), HTML(value='')))"
            ]
          },
          "metadata": {
            "tags": []
          }
        },
        {
          "output_type": "stream",
          "text": [
            "\n",
            "0.9079\n"
          ],
          "name": "stdout"
        }
      ]
    },
    {
      "cell_type": "code",
      "metadata": {
        "colab_type": "code",
        "outputId": "9828a73c-2385-495b-f861-242ff5fcd9ba",
        "id": "XnhaSaA3UW2e",
        "colab": {
          "base_uri": "https://localhost:8080/",
          "height": 168,
          "referenced_widgets": [
            "8c6100525c234a20b66dfae3e971209b",
            "e38d0d6e8551409790fbfd31fe9fc663",
            "798dc56309544e9685fd19ddac9971d8",
            "1f48eee9b1cd4173a513d8cff2f92fa8",
            "c73261fe8b714d59901ef6306cb3b774",
            "1f72284a8f39472e92c58c8542f6847f",
            "219ac7df0b0b4192a4cfb268ce952819",
            "27f33cb27c5e440bb4d2d76acf7dfa5c"
          ]
        }
      },
      "source": [
        "model_plainnet18 = PlainNet18(1)\n",
        "model_plainnet18.apply(init)\n",
        "#net = AlexNet(10)\n",
        "use_cuda = True\n",
        "if use_cuda and torch.cuda.is_available():\n",
        "    print(\"using cuda\")\n",
        "    model_plainnet18.cuda()\n",
        "losses_, val_errs_ = trainer(trainloader, testloader, model_plainnet18, use_cuda, epoch=3)\n",
        "print(accuracy(testloader, model_plainnet18, use_cuda))"
      ],
      "execution_count": 0,
      "outputs": [
        {
          "output_type": "stream",
          "text": [
            "16\n",
            "32\n",
            "64\n",
            "128\n",
            "using cuda\n"
          ],
          "name": "stdout"
        },
        {
          "output_type": "display_data",
          "data": {
            "application/vnd.jupyter.widget-view+json": {
              "model_id": "8c6100525c234a20b66dfae3e971209b",
              "version_minor": 0,
              "version_major": 2
            },
            "text/plain": [
              "HBox(children=(IntProgress(value=0, max=3), HTML(value='')))"
            ]
          },
          "metadata": {
            "tags": []
          }
        },
        {
          "output_type": "stream",
          "text": [
            "\n",
            "0.9029\n"
          ],
          "name": "stdout"
        }
      ]
    },
    {
      "cell_type": "code",
      "metadata": {
        "id": "DRA1WR_KBzjW",
        "colab_type": "code",
        "outputId": "4cfb8555-45cd-41e7-b3b7-0cb701b3c612",
        "colab": {
          "base_uri": "https://localhost:8080/",
          "height": 282
        }
      },
      "source": [
        "plt.plot(losses, label='ResNet training loss')\n",
        "plt.plot(val_errs, label='ResNet validation error')\n",
        "plt.plot(losses_, label='Plainnet training loss')\n",
        "plt.plot(val_errs_, label='Plainnet validation error')\n",
        "plt.legend()"
      ],
      "execution_count": 0,
      "outputs": [
        {
          "output_type": "execute_result",
          "data": {
            "text/plain": [
              "<matplotlib.legend.Legend at 0x7f8ab05809e8>"
            ]
          },
          "metadata": {
            "tags": []
          },
          "execution_count": 16
        },
        {
          "output_type": "display_data",
          "data": {
            "image/png": "[encoded data removed]",
            "text/plain": [
              "<Figure size 432x288 with 1 Axes>"
            ]
          },
          "metadata": {
            "tags": [],
            "needs_background": "light"
          }
        }
      ]
    },
    {
      "cell_type": "markdown",
      "metadata": {
        "id": "uv-_ZwOlOEYp",
        "colab_type": "text"
      },
      "source": [
        "On the dataset FashionMNIST, the difference is less visible due to its simplicity and the already efficiency of the plain network on it"
      ]
    }
  ]
}